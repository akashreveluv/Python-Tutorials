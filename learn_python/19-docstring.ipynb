{
 "cells": [
  {
   "cell_type": "code",
   "execution_count": 1,
   "metadata": {},
   "outputs": [
    {
     "name": "stdout",
     "output_type": "stream",
     "text": [
      "greatest common divisor of x and y\n"
     ]
    }
   ],
   "source": [
    "import math\n",
    "\n",
    "\n",
    "def vowel_count(str):\n",
    "    \"\"\"This function count number of vowel\"\"\"\n",
    "    count = 0\n",
    "    for alphabet in str:  # in python, there built in alphabet attribute\n",
    "        if alphabet in \"aeiouAEIOU\":  # if alphabet is present in aeiouAEIOU, then simply count\n",
    "            count += 1\n",
    "    return count\n",
    "\n",
    "\n",
    "# print(vowel_count.__doc__)  # It will show the line which one we written after called function().\n",
    "print(math.gcd.__doc__)  # We can find a module's function what to do with help of __doc__\n"
   ]
  },
  {
   "cell_type": "code",
   "execution_count": null,
   "metadata": {},
   "outputs": [],
   "source": []
  }
 ],
 "metadata": {
  "kernelspec": {
   "display_name": "Python 3",
   "language": "python",
   "name": "python3"
  },
  "language_info": {
   "codemirror_mode": {
    "name": "ipython",
    "version": 3
   },
   "file_extension": ".py",
   "mimetype": "text/x-python",
   "name": "python",
   "nbconvert_exporter": "python",
   "pygments_lexer": "ipython3",
   "version": "3.8.3"
  }
 },
 "nbformat": 4,
 "nbformat_minor": 4
}
