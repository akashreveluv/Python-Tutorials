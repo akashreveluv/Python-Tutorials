{
 "cells": [
  {
   "cell_type": "code",
   "execution_count": 1,
   "metadata": {},
   "outputs": [
    {
     "name": "stdout",
     "output_type": "stream",
     "text": [
      "False\n",
      "True\n",
      "True\n",
      "False\n",
      "30\n",
      "2\n",
      "3\n",
      "-3\n",
      "1\n",
      "a equal b\n",
      "a equal b\n",
      "False\n",
      "yes\n",
      "incorrect\n",
      "no\n"
     ]
    }
   ],
   "source": [
    "#  1. Arithmetic Operator +,-,*,/,**,//,%\n",
    "\n",
    "#  2. Relational Operator >,<,==,!=,<=,>=\n",
    "\n",
    "#  3. Logical Operator AND,OR,NOT\n",
    "print(True and False)  # False\n",
    "print(True and True)  # True\n",
    "print(True or False)  # True\n",
    "a = True\n",
    "print(not a)  # False\n",
    "\n",
    "#  4. Assignment Operator\n",
    "a = 10\n",
    "b = 20\n",
    "# a = b\n",
    "a += b  # a=a+b\n",
    "print(a)\n",
    "\n",
    "#  5. Bitwise Operator and &, byte |, not ~, xor ^\n",
    "a = 2  # 10 binary\n",
    "b = 3  # 11 binary\n",
    "print(a & b)  # 10 AND 11 is 10 means 2\n",
    "print(a | b)  # 10 OR 11 is 11 means 3\n",
    "print(~a)  # NOT means one's compliment of a\n",
    "print(a ^ b)  # XOR 00 = 0, 11 = 0, 01 = 1, 10 = 1\n",
    "\n",
    "#  6. Special Operator IS, IS NOT, IN, Not IN\n",
    "# a = 20\n",
    "# b = 20\n",
    "a = \"reveluv\"\n",
    "b = \"reveluv\"\n",
    "if a is b:  # is means equal\n",
    "    print(\"a equal b\")\n",
    "else:\n",
    "    print(\"a not equal b\")\n",
    "\n",
    "if a is not b:  # is not means not equal\n",
    "    print(\"a not equal b\")\n",
    "else:\n",
    "    print(\"a equal b\")\n",
    "l1 = [1, 2, 3]\n",
    "l2 = [1, 2, 3]\n",
    "print(l1 is l2)  # for list show false, but in others always show true\n",
    "\n",
    "#  IN -------------------------\n",
    "if \"rev\" in a:  # check \"rev\" is in \"reveluv\" or not\n",
    "    print(\"yes\")\n",
    "else:\n",
    "    print(\"no\")\n",
    "#  NOT IN ------------------------- we can check it in list and dictionary too\n",
    "if \"rev\" not in a:  # check \"rev\" is in \"reveluv\" or not\n",
    "    print(\"correct\")\n",
    "else:\n",
    "    print(\"incorrect\")\n",
    "\n",
    "x = [1, 2, 3]\n",
    "y = {\"Name\": \"Akash\", \"Roll No\": 20, \"Course\": \"MCA\", \"Class\": \"4th Sem\"}\n",
    "if \"Akash\" in y:\n",
    "    print(\"yes\")\n",
    "else:\n",
    "    print(\"no\")"
   ]
  },
  {
   "cell_type": "code",
   "execution_count": null,
   "metadata": {},
   "outputs": [],
   "source": []
  }
 ],
 "metadata": {
  "kernelspec": {
   "display_name": "Python 3",
   "language": "python",
   "name": "python3"
  },
  "language_info": {
   "codemirror_mode": {
    "name": "ipython",
    "version": 3
   },
   "file_extension": ".py",
   "mimetype": "text/x-python",
   "name": "python",
   "nbconvert_exporter": "python",
   "pygments_lexer": "ipython3",
   "version": "3.8.3"
  }
 },
 "nbformat": 4,
 "nbformat_minor": 4
}
