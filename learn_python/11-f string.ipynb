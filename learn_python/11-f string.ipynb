{
 "cells": [
  {
   "cell_type": "code",
   "execution_count": 1,
   "metadata": {},
   "outputs": [
    {
     "name": "stdout",
     "output_type": "stream",
     "text": [
      "My name is Akash and I am a Reveluv\n",
      "My name is Akash and I am a Reveluv\n",
      "My name is Akash and I am a Reveluv, 5\n"
     ]
    }
   ],
   "source": [
    "# F STRING\n",
    "\n",
    "name = \"Akash\"\n",
    "str = \"Reveluv\"\n",
    "full_str = \"My name is {} and I am a {}\"  # 2 {} use for var name and var str.\n",
    "result = full_str.format(name, str)  # use format() func to put name & str in those place.\n",
    "print(result)\n",
    "#  OR can use like this --->\n",
    "full_str = \"My name is {0} and I am a {1}\".format(name, str)\n",
    "# 1st {} in 0th place, 2nd {} in 1st place AND in .format(0th place, 1st place), if we put\n",
    "# 0 and 1 in {} then no problem, but if we swap the position of 0 & 1 then output value\n",
    "# would be swapped too.\n",
    "print(full_str)\n",
    "\n",
    "# F-String ----------------------------------------------->\n",
    "\n",
    "b = f\"My name is {name} and I am a {str}, {1+4}\"  # before starting of string, use f as become f-string.\n",
    "# we can write any expression under {}, like {1+4}\n",
    "print(b)"
   ]
  },
  {
   "cell_type": "code",
   "execution_count": null,
   "metadata": {},
   "outputs": [],
   "source": []
  }
 ],
 "metadata": {
  "kernelspec": {
   "display_name": "Python 3 (ipykernel)",
   "language": "python",
   "name": "python3"
  },
  "language_info": {
   "codemirror_mode": {
    "name": "ipython",
    "version": 3
   },
   "file_extension": ".py",
   "mimetype": "text/x-python",
   "name": "python",
   "nbconvert_exporter": "python",
   "pygments_lexer": "ipython3",
   "version": "3.10.2"
  }
 },
 "nbformat": 4,
 "nbformat_minor": 4
}
