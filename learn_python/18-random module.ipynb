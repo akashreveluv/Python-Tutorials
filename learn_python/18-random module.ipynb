{
 "cells": [
  {
   "cell_type": "code",
   "execution_count": 2,
   "metadata": {},
   "outputs": [
    {
     "name": "stdout",
     "output_type": "stream",
     "text": [
      "['eunha', 'yoona', 'nayeon', 'sinb', 'joy', 'lisa', 'tzuyu', 'yerim']\n"
     ]
    }
   ],
   "source": [
    "import random\n",
    "\n",
    "random_num = random.randint(1, 10)  # from 1 to 10, randomly showing any no.\n",
    "guess_num = random.random()  # from 0 to 1, randomly showing any no. in decimal\n",
    "gf = ['yerim', 'yoona', 'tzuyu', 'nayeon', 'eunha', 'lisa', 'sinb', 'joy']\n",
    "select = random.choice(gf)  # randomly choose any value from the gf list\n",
    "random.shuffle(gf)  # its randomly shuffle values in list, no need a variable for this func().\n",
    "\n",
    "print(gf)"
   ]
  },
  {
   "cell_type": "code",
   "execution_count": null,
   "metadata": {},
   "outputs": [],
   "source": []
  }
 ],
 "metadata": {
  "kernelspec": {
   "display_name": "Python 3",
   "language": "python",
   "name": "python3"
  },
  "language_info": {
   "codemirror_mode": {
    "name": "ipython",
    "version": 3
   },
   "file_extension": ".py",
   "mimetype": "text/x-python",
   "name": "python",
   "nbconvert_exporter": "python",
   "pygments_lexer": "ipython3",
   "version": "3.8.3"
  }
 },
 "nbformat": 4,
 "nbformat_minor": 4
}
