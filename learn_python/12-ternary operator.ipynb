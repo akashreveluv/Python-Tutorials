{
 "cells": [
  {
   "cell_type": "code",
   "execution_count": 1,
   "metadata": {},
   "outputs": [
    {
     "name": "stdout",
     "output_type": "stream",
     "text": [
      "30\n",
      "30\n",
      "Akash\n",
      "a is grater than b\n"
     ]
    }
   ],
   "source": [
    "# TERNARY OPERATOR\n",
    "\n",
    "a, b = 30, 20\n",
    "if a > b:\n",
    "    max = a\n",
    "else:\n",
    "    max = b\n",
    "#  Same things like above in below now:\n",
    "max = a if a > b else b\n",
    "print(max)\n",
    "# We can also do like this way with same answer come:\n",
    "print(a if a > b else b)\n",
    "print(\"Akash\" if a > b else \"Reveluv\")  # show Reveluv because b>a\n",
    "#  Enhanced version of print(a if a > b else b):\n",
    "print(\"a and b are equal\" if a == b else \"a is grater than b\" if a > b else \"b is greater than a\")"
   ]
  },
  {
   "cell_type": "code",
   "execution_count": null,
   "metadata": {},
   "outputs": [],
   "source": []
  }
 ],
 "metadata": {
  "kernelspec": {
   "display_name": "Python 3",
   "language": "python",
   "name": "python3"
  },
  "language_info": {
   "codemirror_mode": {
    "name": "ipython",
    "version": 3
   },
   "file_extension": ".py",
   "mimetype": "text/x-python",
   "name": "python",
   "nbconvert_exporter": "python",
   "pygments_lexer": "ipython3",
   "version": "3.8.3"
  }
 },
 "nbformat": 4,
 "nbformat_minor": 4
}
