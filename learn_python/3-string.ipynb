{
 "cells": [
  {
   "cell_type": "code",
   "execution_count": 4,
   "metadata": {},
   "outputs": [
    {
     "name": "stdout",
     "output_type": "stream",
     "text": [
      "Learn Python from Exam Aasaan Hai\n",
      "-------------------------String Slicing----------------------\n",
      "Learn Python\n",
      "Learn Python from Exam Aasaan Hai\n",
      "Learn Python from Exam Aasaan Hai\n",
      "a\n",
      "Aasaan H\n",
      "LanPt\n",
      "LrPh\n",
      "LrPh oEmaaH\n",
      "LrPh oEmaaH\n",
      "Learn Python from Exam Aasaan Hai\n",
      "iaH naasaA maxE morf nohtyP nraeL\n",
      "iHnaa aEmr otPnaL\n",
      "-------------------------String Function----------------------\n",
      "33\n",
      "1\n",
      "Learn python from exam aasaan hai\n",
      "6\n",
      "learn python from exam aasaan hai\n",
      "LEARN PYTHON FROM EXAM AASAAN HAI\n",
      "Learn DBMS from Exam Aasaan Hai\n",
      "-------------------------String Boolean Function----------------------\n",
      "False\n",
      "False\n",
      "True\n",
      "False\n"
     ]
    }
   ],
   "source": [
    "# STRING\n",
    "\n",
    "txt = \"Learn Python from Exam Aasaan Hai\"  # Total 32 characters including space\n",
    "print(txt)\n",
    "print(\"-------------------------String Slicing----------------------\")\n",
    "print(txt[0:12])  # 0:12 means 0 to 11\n",
    "# print(txt[0:100])\n",
    "# Not showing out of range,\n",
    "# because we mentioned 0 here to 100. Python give all characters as return value.\n",
    "# print(txt[100])  # Python show out of range, there no 100 values.\n",
    "print(txt[0:])  # 0:  means default value till last character showing\n",
    "print(txt[:])  # if only use : then show full string\n",
    "print(txt[-2])  # from right side we start as -1,-2,-3...so on\n",
    "print(txt[-10:-2])  # -10:-2 means -10th position to -3rd position, 1 count less as before.\n",
    "print(txt[0:10:2])\n",
    "# 0:10 o/p is \"Learn Pyth\", then :2 means show \"Learn Pyth\" but after skip 1 character.\n",
    "# Now o/p is \"LanPt\"\n",
    "print(txt[:10:3])  # 1st character by default taking 0th place, L. and :3 means skip 2 char.\n",
    "print(txt[0::3])  # from 0th to last og string show by 2 char skip for :3\n",
    "print(txt[::3])  # we get full string as o/p when not mentioned position, but skipped by 2 chars for :3\n",
    "print(txt[::1])  # :1 by default 0 skip char.\n",
    "# print(txt[::0])  # show \"ValueError: slice step cannot be zero\".\n",
    "print(txt[::-1])  # show full string, but in reverse way \"iaH naasaA maxE morf nohtyP nraeL\"\n",
    "print(txt[::-2])  # show full string, but in reverse way with 1 char skip \"iHnaa aEmr otPnaL\"\n",
    "\n",
    "print(\"-------------------------String Function----------------------\")\n",
    "\n",
    "print(len(txt))  # len() show the Length of string\n",
    "print(txt.count(\"Python\"))  # count() tell us a character how many times use in string.\n",
    "print(txt.capitalize())  # make 1st char only capitalize in a sentence.\n",
    "print(txt.find(\"Python\"))  # find() tell us from which index given characters start\n",
    "print(txt.lower())  # turn all characters to lowercase\n",
    "print(txt.upper())  # turn all characters to uppercase\n",
    "print(txt.replace(\"Python\", \"DBMS\"))  # replace some char with another.\n",
    "print(\"-------------------------String Boolean Function----------------------\")\n",
    "print(txt.isalnum())  # isalnum() return is our string alphanumeric or not.\n",
    "print(txt.isalpha())  # isalpha() return is our string alpha or not. alpha means no space among chars.\n",
    "print(txt.endswith(\"Hai\"))  # checking our string ends with \"ai\" or not\n",
    "print(txt.isdigit())  # checking our string is digit or not\n"
   ]
  },
  {
   "cell_type": "code",
   "execution_count": null,
   "metadata": {},
   "outputs": [],
   "source": []
  }
 ],
 "metadata": {
  "kernelspec": {
   "display_name": "Python 3",
   "language": "python",
   "name": "python3"
  },
  "language_info": {
   "codemirror_mode": {
    "name": "ipython",
    "version": 3
   },
   "file_extension": ".py",
   "mimetype": "text/x-python",
   "name": "python",
   "nbconvert_exporter": "python",
   "pygments_lexer": "ipython3",
   "version": "3.8.3"
  }
 },
 "nbformat": 4,
 "nbformat_minor": 4
}
