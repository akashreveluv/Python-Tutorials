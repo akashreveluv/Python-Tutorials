{
 "cells": [
  {
   "cell_type": "code",
   "execution_count": 3,
   "metadata": {},
   "outputs": [
    {
     "name": "stdout",
     "output_type": "stream",
     "text": [
      "1 Akash Reveluv\n",
      "4 Akash Reveluv\n",
      "7 Akash Reveluv\n",
      "0 1\n",
      "1 3\n",
      "2 5\n",
      "3 7\n",
      "4 9\n"
     ]
    }
   ],
   "source": [
    "# WHILE LOOP\n",
    "\n",
    "i = 1\n",
    "while i < 10:  # i will run as per condition until i !< 10\n",
    "    print(i, \"Akash Reveluv\")\n",
    "    i = i + 1  # also write i += 1\n",
    "    i = i + 2  # i will skip 1 step in every time\n",
    "\n",
    "# while True:  # loop will run for infinity time, because no stop condition given.\n",
    "#     print(i, \"Akash Reveluv\")\n",
    "\n",
    "mylist = [1, 3, 5, 7, 9]\n",
    "i = 0\n",
    "while i < len(mylist):\n",
    "    print(i, mylist[i])\n",
    "    i += 1\n"
   ]
  },
  {
   "cell_type": "code",
   "execution_count": null,
   "metadata": {},
   "outputs": [],
   "source": []
  }
 ],
 "metadata": {
  "kernelspec": {
   "display_name": "Python 3",
   "language": "python",
   "name": "python3"
  },
  "language_info": {
   "codemirror_mode": {
    "name": "ipython",
    "version": 3
   },
   "file_extension": ".py",
   "mimetype": "text/x-python",
   "name": "python",
   "nbconvert_exporter": "python",
   "pygments_lexer": "ipython3",
   "version": "3.8.3"
  }
 },
 "nbformat": 4,
 "nbformat_minor": 4
}
