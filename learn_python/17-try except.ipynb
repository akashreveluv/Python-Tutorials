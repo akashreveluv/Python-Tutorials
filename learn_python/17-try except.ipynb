{
 "cells": [
  {
   "cell_type": "code",
   "execution_count": 2,
   "metadata": {},
   "outputs": [
    {
     "name": "stdout",
     "output_type": "stream",
     "text": [
      "Hello World\n",
      "10\n",
      "Error\n",
      "33\n",
      "Enter a number: 20\n",
      "Enter another number: 10\n",
      "2.0\n",
      "important!...............\n",
      "important!...............\n",
      "important!...............\n",
      "important!...............\n",
      "important!...............\n"
     ]
    }
   ],
   "source": [
    "a = 10\n",
    "b = 20 + 13\n",
    "print(\"Hello World\")\n",
    "print(a)\n",
    "try:\n",
    "    print(a + c)  # there no c variable, so error.\n",
    "    # but we used try, then error not show and remain code run except this one.\n",
    "except:\n",
    "    print(\"Error\")  # error print in place of a+c\n",
    "print(b)\n",
    "\n",
    "#   ----------------------------------------------------------------------------------------------------------\n",
    "\n",
    "a = input(\"Enter a number: \")\n",
    "b = input(\"Enter another number: \")\n",
    "\n",
    "try:\n",
    "    print(int(a) / int(b))\n",
    "except Exception as e:  # Exception as e means error message saved in \"e\" and show during execution.\n",
    "    print(e)\n",
    "\n",
    "print(\"important!...............\")\n",
    "print(\"important!...............\")\n",
    "print(\"important!...............\")\n",
    "print(\"important!...............\")\n",
    "print(\"important!...............\")\n",
    "\n",
    "#   ----------------------------------------------------------------------------------------------------------\n",
    "\n"
   ]
  },
  {
   "cell_type": "code",
   "execution_count": null,
   "metadata": {},
   "outputs": [],
   "source": []
  }
 ],
 "metadata": {
  "kernelspec": {
   "display_name": "Python 3",
   "language": "python",
   "name": "python3"
  },
  "language_info": {
   "codemirror_mode": {
    "name": "ipython",
    "version": 3
   },
   "file_extension": ".py",
   "mimetype": "text/x-python",
   "name": "python",
   "nbconvert_exporter": "python",
   "pygments_lexer": "ipython3",
   "version": "3.8.3"
  }
 },
 "nbformat": 4,
 "nbformat_minor": 4
}
