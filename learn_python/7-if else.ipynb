{
 "cells": [
  {
   "cell_type": "code",
   "execution_count": 2,
   "metadata": {},
   "outputs": [
    {
     "name": "stdout",
     "output_type": "stream",
     "text": [
      "Enter a number: 27\n",
      "Greater\n",
      "Enter Username: admin\n",
      "Enter Password: 12345\n",
      "Login Successful!\n"
     ]
    }
   ],
   "source": [
    "# IF_ELSE\n",
    "\n",
    "num = int(input(\"Enter a number: \"))\n",
    "\n",
    "if num > 20:\n",
    "    print(\"Greater\")\n",
    "elif num == 20:  # we can use many \"elif\" between if and else part, and put many condition with elif.\n",
    "    print(\"Equal\")\n",
    "else:\n",
    "    print(\"Lesser\")\n",
    "\n",
    "# Login System--------------------\n",
    "username = \"admin\"\n",
    "password = \"12345\"\n",
    "user = input(\"Enter Username: \")\n",
    "pwd = input(\"Enter Password: \")\n",
    "\n",
    "if user == username and pwd == password:\n",
    "    print(\"Login Successful!\")\n",
    "else:\n",
    "    print(\"Invalid Credentials!\")\n"
   ]
  },
  {
   "cell_type": "code",
   "execution_count": null,
   "metadata": {},
   "outputs": [],
   "source": []
  }
 ],
 "metadata": {
  "kernelspec": {
   "display_name": "Python 3",
   "language": "python",
   "name": "python3"
  },
  "language_info": {
   "codemirror_mode": {
    "name": "ipython",
    "version": 3
   },
   "file_extension": ".py",
   "mimetype": "text/x-python",
   "name": "python",
   "nbconvert_exporter": "python",
   "pygments_lexer": "ipython3",
   "version": "3.8.3"
  }
 },
 "nbformat": 4,
 "nbformat_minor": 4
}
