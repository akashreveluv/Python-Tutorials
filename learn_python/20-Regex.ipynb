{
 "cells": [
  {
   "cell_type": "markdown",
   "id": "3c7c804e",
   "metadata": {},
   "source": [
    "## Regular expressions inside Python are made available through the \"re\" module:"
   ]
  },
  {
   "cell_type": "code",
   "execution_count": 1,
   "id": "a515a384",
   "metadata": {},
   "outputs": [],
   "source": [
    "import re"
   ]
  },
  {
   "cell_type": "markdown",
   "id": "a793b7c7",
   "metadata": {},
   "source": [
    "### Note: It is recommended to use raw strings for the search:"
   ]
  },
  {
   "cell_type": "code",
   "execution_count": 44,
   "id": "27460bc8",
   "metadata": {},
   "outputs": [
    {
     "name": "stdout",
     "output_type": "stream",
     "text": [
      "\tHello\n",
      "\\tHello\n"
     ]
    }
   ],
   "source": [
    "## Use raw strings for the search pattern\n",
    "a = '\\tHello'\n",
    "b = r'\\tHello'\n",
    "print(a)\n",
    "print(b)"
   ]
  },
  {
   "cell_type": "markdown",
   "id": "97e53031",
   "metadata": {},
   "source": [
    "## Performing matches with compiled objects\n",
    "**Once we have our pattern, we can search for this pattern in the text / string that we want to look up.**\n",
    "\n",
    "**match():** Determine if the RE matches at the beginning of the string.\n",
    "\n",
    "**search():** Scan through a string, looking for any location where this RE matches.\n",
    "\n",
    "**findall():** Find all substrings where the RE matches, and returns them as a list.\n",
    "\n",
    "**finditer():** Find all substrings where the RE matches, and returns them as an iterator."
   ]
  },
  {
   "cell_type": "code",
   "execution_count": 45,
   "id": "d290c362",
   "metadata": {},
   "outputs": [],
   "source": [
    "my_string = 'abc123ABC123abc'"
   ]
  },
  {
   "cell_type": "markdown",
   "id": "5655fd2b",
   "metadata": {},
   "source": [
    "## finditer() - Find all substrings where the RE matches, and returns them as an iterator."
   ]
  },
  {
   "cell_type": "code",
   "execution_count": 46,
   "id": "43a6afd6",
   "metadata": {},
   "outputs": [
    {
     "name": "stdout",
     "output_type": "stream",
     "text": [
      "<re.Match object; span=(3, 6), match='123'>\n",
      "<re.Match object; span=(9, 12), match='123'>\n"
     ]
    }
   ],
   "source": [
    "pattern = re.compile(r'123')\n",
    "matches = pattern.finditer(my_string)\n",
    "for match in matches:\n",
    "    print(match)"
   ]
  },
  {
   "cell_type": "markdown",
   "id": "ecf6ec1a",
   "metadata": {},
   "source": [
    "## findall() - Find all substrings where the RE matches, and returns them as a list."
   ]
  },
  {
   "cell_type": "code",
   "execution_count": 47,
   "id": "5563d528",
   "metadata": {},
   "outputs": [
    {
     "name": "stdout",
     "output_type": "stream",
     "text": [
      "['123', '123']\n",
      "123\n",
      "123\n"
     ]
    }
   ],
   "source": [
    "pattern = re.compile(r'123')\n",
    "matches = pattern.findall(my_string)\n",
    "\n",
    "print(matches)\n",
    "\n",
    "for match in matches:\n",
    "    print(match)"
   ]
  },
  {
   "cell_type": "markdown",
   "id": "634b6e0a",
   "metadata": {},
   "source": [
    "## match() - Determine if the RE matches at the beginning of the string."
   ]
  },
  {
   "cell_type": "code",
   "execution_count": 48,
   "id": "fb56e4f7",
   "metadata": {},
   "outputs": [
    {
     "name": "stdout",
     "output_type": "stream",
     "text": [
      "None\n"
     ]
    }
   ],
   "source": [
    "pattern = re.compile(r'123') \n",
    "# '123' is not in beginning, 'abc' is in beginning\n",
    "match = pattern.match(my_string)\n",
    "print(match)"
   ]
  },
  {
   "cell_type": "markdown",
   "id": "aca2f7bd",
   "metadata": {},
   "source": [
    "## search() - Scan through a string, looking for any location where this RE matches."
   ]
  },
  {
   "cell_type": "code",
   "execution_count": 49,
   "id": "4381de72",
   "metadata": {},
   "outputs": [
    {
     "name": "stdout",
     "output_type": "stream",
     "text": [
      "<re.Match object; span=(3, 6), match='123'>\n"
     ]
    }
   ],
   "source": [
    "match = pattern.search(my_string)\n",
    "print(match)"
   ]
  },
  {
   "cell_type": "markdown",
   "id": "f18a6a94",
   "metadata": {},
   "source": [
    "### Note: Methods can also be used directly on the re module. It does not make that much of a difference, but some people prefer explicitly precompiling and binding the pattern to a reusable variable."
   ]
  },
  {
   "cell_type": "code",
   "execution_count": 53,
   "id": "ad6d55b0",
   "metadata": {},
   "outputs": [
    {
     "name": "stdout",
     "output_type": "stream",
     "text": [
      "<re.Match object; span=(0, 3), match='abc'>\n",
      "<re.Match object; span=(12, 15), match='abc'>\n"
     ]
    }
   ],
   "source": [
    "matches = re.finditer(r'abc', my_string)\n",
    "\n",
    "for match in matches:\n",
    "    print(match)"
   ]
  },
  {
   "cell_type": "markdown",
   "id": "63567f01",
   "metadata": {},
   "source": [
    "## Methods on a Match object\n",
    "**group():** Return the string matched by the RE\n",
    "\n",
    "**start():** Return the starting position of the match\n",
    "\n",
    "**end():** Return the ending position of the match\n",
    "\n",
    "**span():** Return a tuple containing the (start, end) positions of the match"
   ]
  },
  {
   "cell_type": "code",
   "execution_count": 54,
   "id": "bd4dc20a",
   "metadata": {},
   "outputs": [],
   "source": [
    "test_string = '123abc456789abc123ABC'"
   ]
  },
  {
   "cell_type": "code",
   "execution_count": 55,
   "id": "c340458c",
   "metadata": {},
   "outputs": [
    {
     "name": "stdout",
     "output_type": "stream",
     "text": [
      "<re.Match object; span=(3, 6), match='abc'>\n",
      "(3, 6) 3 6\n",
      "abc\n",
      "<re.Match object; span=(12, 15), match='abc'>\n",
      "(12, 15) 12 15\n",
      "abc\n"
     ]
    }
   ],
   "source": [
    "pattern = re.compile(r'abc')\n",
    "matches = pattern.finditer(test_string)\n",
    "for match in matches:\n",
    "    print(match)\n",
    "    print(match.span(), match.start(), match.end())\n",
    "    print(match.group()) # returns the string"
   ]
  },
  {
   "cell_type": "markdown",
   "id": "b722803b",
   "metadata": {},
   "source": [
    "# Meta characters\n",
    "**Metacharacters are characters with a special meaning:**\n",
    "**All meta characters:** . ^ $ * + ? { } [ ] \\ | ( )\n",
    "### Meta characters need need to be escaped (with ) if we actually want to search for the char.\n",
    "\n",
    ". Any character (except newline character) \"he..o\"\n",
    "\n",
    "^ Starts with \"^hello\"\n",
    "\n",
    "$(dollar sign) Ends with \"world$(dollar sign)\"\n",
    "\n",
    "*(asterix) Zero or more occurrences \"aix*(asterix)\"\n",
    "\n",
    "+(plus) One or more occurrences \"aix+\"\n",
    "\n",
    "{ } Exactly the specified number of occurrences \"al{2}\"\n",
    "\n",
    "[] A set of characters \"[a-m]\"\n",
    "\n",
    "\\ Signals a special sequence (can also be used to escape special characters) \"\\d\"\n",
    "\n",
    "| Either or \"falls|stays\"\n",
    "\n",
    "( ) Capture and group**"
   ]
  },
  {
   "cell_type": "code",
   "execution_count": 56,
   "id": "30e165a6",
   "metadata": {},
   "outputs": [
    {
     "name": "stdout",
     "output_type": "stream",
     "text": [
      "<re.Match object; span=(6, 7), match='-'>\n"
     ]
    }
   ],
   "source": [
    "test_string = 'python-engineer.com'\n",
    "pattern = re.compile(r'\\-')\n",
    "matches = pattern.finditer(test_string)\n",
    "for match in matches:\n",
    "    print(match)"
   ]
  },
  {
   "cell_type": "markdown",
   "id": "5f05cbbe",
   "metadata": {},
   "source": [
    "## More Metacharacters / Special Sequences\n",
    "#### A special sequence is a \\ followed by one of the characters in the list below, and has a special meaning:\n",
    "\n",
    "**\\d :Matches any decimal digit; this is equivalent to the class [0-9].**\n",
    "\n",
    "**\\D : Matches any non-digit character; this is equivalent to the class [^0-9].**\n",
    "\n",
    "**\\s : Matches any whitespace character;**\n",
    "\n",
    "**\\S : Matches any non-whitespace character;**\n",
    "\n",
    "**\\w : Matches any alphanumeric (word) character; this is equivalent to the class [a-zA-Z0-9_].**\n",
    "\n",
    "**\\W : Matches any non-alphanumeric character; this is equivalent to the class [^a-zA-Z0-9_].**\n",
    "\n",
    "**\\b Returns a match where the specified characters are at the beginning or at the end of a word r\"\\bain\" r\"ain\\b\"**\n",
    "\n",
    "**\\B Returns a match where the specified characters are present, but NOT at the beginning (or at the end) of a word r\"\\Bain\" r\"ain\\B\"**\n",
    "\n",
    "**\\A Returns a match if the specified characters are at the beginning of the string \"\\AThe\"**\n",
    "\n",
    "**\\Z Returns a match if the specified characters are at the end of the string \"Spain\\Z\"**"
   ]
  },
  {
   "cell_type": "code",
   "execution_count": 7,
   "id": "068d3eb6",
   "metadata": {},
   "outputs": [],
   "source": [
    "test_string = 'hello 123_ heyho hohey'"
   ]
  },
  {
   "cell_type": "code",
   "execution_count": 8,
   "id": "83d1441c",
   "metadata": {},
   "outputs": [
    {
     "name": "stdout",
     "output_type": "stream",
     "text": [
      "<re.Match object; span=(6, 7), match='1'>\n",
      "<re.Match object; span=(7, 8), match='2'>\n",
      "<re.Match object; span=(8, 9), match='3'>\n"
     ]
    }
   ],
   "source": [
    "# \\d : Matches any decimal digit; this is equivalent to the class [0-9].\n",
    "pattern = re.compile(r'\\d')\n",
    "matches = pattern.finditer(test_string)\n",
    "for match in matches:\n",
    "    print(match)"
   ]
  },
  {
   "cell_type": "code",
   "execution_count": 9,
   "id": "782c0c62",
   "metadata": {},
   "outputs": [
    {
     "name": "stdout",
     "output_type": "stream",
     "text": [
      "<re.Match object; span=(0, 1), match='h'>\n",
      "<re.Match object; span=(1, 2), match='e'>\n",
      "<re.Match object; span=(2, 3), match='l'>\n",
      "<re.Match object; span=(3, 4), match='l'>\n",
      "<re.Match object; span=(4, 5), match='o'>\n",
      "<re.Match object; span=(5, 6), match=' '>\n",
      "<re.Match object; span=(9, 10), match='_'>\n",
      "<re.Match object; span=(10, 11), match=' '>\n",
      "<re.Match object; span=(11, 12), match='h'>\n",
      "<re.Match object; span=(12, 13), match='e'>\n",
      "<re.Match object; span=(13, 14), match='y'>\n",
      "<re.Match object; span=(14, 15), match='h'>\n",
      "<re.Match object; span=(15, 16), match='o'>\n",
      "<re.Match object; span=(16, 17), match=' '>\n",
      "<re.Match object; span=(17, 18), match='h'>\n",
      "<re.Match object; span=(18, 19), match='o'>\n",
      "<re.Match object; span=(19, 20), match='h'>\n",
      "<re.Match object; span=(20, 21), match='e'>\n",
      "<re.Match object; span=(21, 22), match='y'>\n"
     ]
    }
   ],
   "source": [
    "# \\D : Matches any non-digit character; this is equivalent to the class [^0-9].\n",
    "pattern = re.compile(r'\\D')\n",
    "matches = pattern.finditer(test_string)\n",
    "for match in matches:\n",
    "    print(match)"
   ]
  },
  {
   "cell_type": "code",
   "execution_count": 10,
   "id": "52626115",
   "metadata": {},
   "outputs": [
    {
     "name": "stdout",
     "output_type": "stream",
     "text": [
      "<re.Match object; span=(5, 6), match=' '>\n",
      "<re.Match object; span=(10, 11), match=' '>\n",
      "<re.Match object; span=(16, 17), match=' '>\n"
     ]
    }
   ],
   "source": [
    "# \\s : Matches any whitespace character\n",
    "pattern = re.compile(r'\\s')\n",
    "matches = pattern.finditer(test_string)\n",
    "for match in matches:\n",
    "    print(match)"
   ]
  },
  {
   "cell_type": "code",
   "execution_count": 11,
   "id": "b95f024b",
   "metadata": {},
   "outputs": [
    {
     "name": "stdout",
     "output_type": "stream",
     "text": [
      "<re.Match object; span=(0, 1), match='h'>\n",
      "<re.Match object; span=(1, 2), match='e'>\n",
      "<re.Match object; span=(2, 3), match='l'>\n",
      "<re.Match object; span=(3, 4), match='l'>\n",
      "<re.Match object; span=(4, 5), match='o'>\n",
      "<re.Match object; span=(6, 7), match='1'>\n",
      "<re.Match object; span=(7, 8), match='2'>\n",
      "<re.Match object; span=(8, 9), match='3'>\n",
      "<re.Match object; span=(9, 10), match='_'>\n",
      "<re.Match object; span=(11, 12), match='h'>\n",
      "<re.Match object; span=(12, 13), match='e'>\n",
      "<re.Match object; span=(13, 14), match='y'>\n",
      "<re.Match object; span=(14, 15), match='h'>\n",
      "<re.Match object; span=(15, 16), match='o'>\n",
      "<re.Match object; span=(17, 18), match='h'>\n",
      "<re.Match object; span=(18, 19), match='o'>\n",
      "<re.Match object; span=(19, 20), match='h'>\n",
      "<re.Match object; span=(20, 21), match='e'>\n",
      "<re.Match object; span=(21, 22), match='y'>\n"
     ]
    }
   ],
   "source": [
    "# \\S : Matches any non-whitespace character\n",
    "pattern = re.compile(r'\\S')\n",
    "matches = pattern.finditer(test_string)\n",
    "for match in matches:\n",
    "    print(match)"
   ]
  },
  {
   "cell_type": "code",
   "execution_count": 12,
   "id": "4fccbd7c",
   "metadata": {},
   "outputs": [
    {
     "name": "stdout",
     "output_type": "stream",
     "text": [
      "<re.Match object; span=(0, 1), match='h'>\n",
      "<re.Match object; span=(1, 2), match='e'>\n",
      "<re.Match object; span=(2, 3), match='l'>\n",
      "<re.Match object; span=(3, 4), match='l'>\n",
      "<re.Match object; span=(4, 5), match='o'>\n",
      "<re.Match object; span=(6, 7), match='1'>\n",
      "<re.Match object; span=(7, 8), match='2'>\n",
      "<re.Match object; span=(8, 9), match='3'>\n",
      "<re.Match object; span=(9, 10), match='_'>\n",
      "<re.Match object; span=(11, 12), match='h'>\n",
      "<re.Match object; span=(12, 13), match='e'>\n",
      "<re.Match object; span=(13, 14), match='y'>\n",
      "<re.Match object; span=(14, 15), match='h'>\n",
      "<re.Match object; span=(15, 16), match='o'>\n",
      "<re.Match object; span=(17, 18), match='h'>\n",
      "<re.Match object; span=(18, 19), match='o'>\n",
      "<re.Match object; span=(19, 20), match='h'>\n",
      "<re.Match object; span=(20, 21), match='e'>\n",
      "<re.Match object; span=(21, 22), match='y'>\n"
     ]
    }
   ],
   "source": [
    "# \\w : Matches any alphanumeric (word) character; this is equivalent to the class [a-zA-Z0-9_]\n",
    "pattern = re.compile(r'\\w')\n",
    "matches = pattern.finditer(test_string)\n",
    "for match in matches:\n",
    "    print(match)"
   ]
  },
  {
   "cell_type": "code",
   "execution_count": 14,
   "id": "da1e4b20",
   "metadata": {},
   "outputs": [
    {
     "name": "stdout",
     "output_type": "stream",
     "text": [
      "<re.Match object; span=(5, 6), match=' '>\n",
      "<re.Match object; span=(10, 11), match=' '>\n",
      "<re.Match object; span=(16, 17), match=' '>\n"
     ]
    }
   ],
   "source": [
    "# \\W : Matches any non-alphanumeric character; this is equivalent to the class [^a-zA-Z0-9_]\n",
    "pattern = re.compile(r'\\W')\n",
    "matches = pattern.finditer(test_string)\n",
    "for match in matches:\n",
    "    print(match)"
   ]
  },
  {
   "cell_type": "code",
   "execution_count": 18,
   "id": "1d72e11b",
   "metadata": {},
   "outputs": [
    {
     "name": "stdout",
     "output_type": "stream",
     "text": [
      "<re.Match object; span=(0, 3), match='hey'>\n"
     ]
    }
   ],
   "source": [
    "# \\b Returns a match where the specified characters are at the beginning or at the end of a word r\"\\bain\" r\"ain\\b\"\n",
    "pattern = re.compile(r'\\bhey')\n",
    "matches = pattern.finditer('heyho hohey')\n",
    "for match in matches:\n",
    "    print(match)"
   ]
  },
  {
   "cell_type": "code",
   "execution_count": 19,
   "id": "f2f2561b",
   "metadata": {},
   "outputs": [
    {
     "name": "stdout",
     "output_type": "stream",
     "text": [
      "<re.Match object; span=(8, 11), match='hey'>\n"
     ]
    }
   ],
   "source": [
    "pattern = re.compile(r'hey\\b')\n",
    "matches = pattern.finditer('heyho hohey')\n",
    "for match in matches:\n",
    "    print(match)"
   ]
  },
  {
   "cell_type": "code",
   "execution_count": 25,
   "id": "04013dad",
   "metadata": {},
   "outputs": [
    {
     "name": "stdout",
     "output_type": "stream",
     "text": [
      "<re.Match object; span=(2, 5), match='hey'>\n",
      "<re.Match object; span=(9, 12), match='hey'>\n"
     ]
    }
   ],
   "source": [
    "# \\B Returns a match where the specified characters are present, but NOT at the beginning (or at the end) of a word r\"\\Bain\" r\"ain\\B\"\n",
    "pattern = re.compile(r'\\Bhey')\n",
    "matches = pattern.finditer('hohey heyhey heyho') # ho-hey, ho\\nhey are matches!\n",
    "for match in matches:\n",
    "    print(match)"
   ]
  },
  {
   "cell_type": "code",
   "execution_count": 24,
   "id": "720dc4ff",
   "metadata": {},
   "outputs": [
    {
     "name": "stdout",
     "output_type": "stream",
     "text": [
      "<re.Match object; span=(6, 9), match='hey'>\n",
      "<re.Match object; span=(13, 16), match='hey'>\n"
     ]
    }
   ],
   "source": [
    "pattern = re.compile(r'hey\\B')\n",
    "matches = pattern.finditer('hohey heyhey heyho') # ho-hey, ho\\nhey are matches!\n",
    "for match in matches:\n",
    "    print(match)"
   ]
  },
  {
   "cell_type": "code",
   "execution_count": 26,
   "id": "a8484fb8",
   "metadata": {},
   "outputs": [
    {
     "name": "stdout",
     "output_type": "stream",
     "text": [
      "<re.Match object; span=(0, 5), match='hello'>\n"
     ]
    }
   ],
   "source": [
    "# \\A Returns a match if the specified characters are at the beginning of the string \"\\AThe\"\n",
    "pattern = re.compile(r'\\Ahello')\n",
    "matches = pattern.finditer(test_string)\n",
    "for match in matches:\n",
    "    print(match)"
   ]
  },
  {
   "cell_type": "code",
   "execution_count": 31,
   "id": "26fab8d6",
   "metadata": {},
   "outputs": [
    {
     "name": "stdout",
     "output_type": "stream",
     "text": [
      "<re.Match object; span=(19, 22), match='hey'>\n"
     ]
    }
   ],
   "source": [
    "# \\Z Returns a match if the specified characters are at the end of the string \"Spain\\Z\"\n",
    "pattern = re.compile(r'hey\\Z')\n",
    "matches = pattern.finditer(test_string)\n",
    "for match in matches:\n",
    "    print(match)"
   ]
  },
  {
   "cell_type": "markdown",
   "id": "bd7ddca2",
   "metadata": {},
   "source": [
    "## Regex: Sets"
   ]
  },
  {
   "cell_type": "markdown",
   "id": "991038c8",
   "metadata": {},
   "source": [
    "### A set is a set of characters inside a pair of square brackets [] with a special meaning. Append multiple conditions back-to back, \n",
    "e.g. [aA-Z].\n",
    "A ^ (caret) inside a set negates the expression.\n",
    "A - (dash) in a set specifies a range if it is in between, otherwise the dash itself.\n",
    "\n",
    "Examples:\n",
    "- [arn] Returns a match where one of the specified characters (a, r, or n) are present\n",
    "- [a-n] Returns a match for any lower case character, alphabetically between a and n\n",
    "- [^arn] Returns a match for any character EXCEPT a, r, and n\n",
    "- [0123] Returns a match where any of the specified digits (0, 1, 2, or 3) are present\n",
    "- [0-9] Returns a match for any digit between 0 and 9\n",
    "- 0-5 Returns a match for any two-digit numbers from 00 and 59\n",
    "- [a-zA-Z] Returns a match for any character alphabetically between a and z, lower case OR upper case"
   ]
  },
  {
   "cell_type": "code",
   "execution_count": 2,
   "id": "4a75530c",
   "metadata": {},
   "outputs": [],
   "source": [
    "test_string = 'hello 123_'"
   ]
  },
  {
   "cell_type": "code",
   "execution_count": 3,
   "id": "f617e2c4",
   "metadata": {},
   "outputs": [
    {
     "name": "stdout",
     "output_type": "stream",
     "text": [
      "<re.Match object; span=(0, 1), match='h'>\n",
      "<re.Match object; span=(1, 2), match='e'>\n",
      "<re.Match object; span=(2, 3), match='l'>\n",
      "<re.Match object; span=(3, 4), match='l'>\n",
      "<re.Match object; span=(4, 5), match='o'>\n"
     ]
    }
   ],
   "source": [
    "pattern = re.compile(r'[a-z]')\n",
    "matches = pattern.finditer(test_string)\n",
    "for match in matches:\n",
    "    print(match)"
   ]
  },
  {
   "cell_type": "code",
   "execution_count": 17,
   "id": "3eb31b32",
   "metadata": {},
   "outputs": [],
   "source": [
    "dates = '''\n",
    "01.04.2020\n",
    "\n",
    "2020.04.01\n",
    "\n",
    "2020-04-01\n",
    "2020-05-23\n",
    "2020-06-11\n",
    "2020-07-11\n",
    "2020-08-11\n",
    "\n",
    "2020/04/02\n",
    "\n",
    "2020_04_04\n",
    "2020_04_04\n",
    "'''"
   ]
  },
  {
   "cell_type": "code",
   "execution_count": 18,
   "id": "84b9797a",
   "metadata": {},
   "outputs": [
    {
     "name": "stdout",
     "output_type": "stream",
     "text": [
      "All dates with a character in between\n",
      "<re.Match object; span=(13, 23), match='2020.04.01'>\n",
      "<re.Match object; span=(25, 35), match='2020-04-01'>\n",
      "<re.Match object; span=(36, 46), match='2020-05-23'>\n",
      "<re.Match object; span=(47, 57), match='2020-06-11'>\n",
      "<re.Match object; span=(58, 68), match='2020-07-11'>\n",
      "<re.Match object; span=(69, 79), match='2020-08-11'>\n",
      "<re.Match object; span=(81, 91), match='2020/04/02'>\n",
      "<re.Match object; span=(93, 103), match='2020_04_04'>\n",
      "<re.Match object; span=(104, 114), match='2020_04_04'>\n"
     ]
    }
   ],
   "source": [
    "print('All dates with a character in between')\n",
    "pattern = re.compile(r'\\d\\d\\d\\d.\\d\\d.\\d\\d')\n",
    "matches = pattern.finditer(dates)\n",
    "\n",
    "for match in matches:\n",
    "    print(match)"
   ]
  },
  {
   "cell_type": "code",
   "execution_count": 19,
   "id": "43b761ce",
   "metadata": {},
   "outputs": [
    {
     "name": "stdout",
     "output_type": "stream",
     "text": [
      "Only dates with - or . in between\n",
      "<re.Match object; span=(13, 23), match='2020.04.01'>\n",
      "<re.Match object; span=(25, 35), match='2020-04-01'>\n",
      "<re.Match object; span=(36, 46), match='2020-05-23'>\n",
      "<re.Match object; span=(47, 57), match='2020-06-11'>\n",
      "<re.Match object; span=(58, 68), match='2020-07-11'>\n",
      "<re.Match object; span=(69, 79), match='2020-08-11'>\n"
     ]
    }
   ],
   "source": [
    "print('Only dates with - or . in between')\n",
    "pattern = re.compile(r'\\d\\d\\d\\d[-.]\\d\\d[-.]\\d\\d')\n",
    "matches = pattern.finditer(dates)\n",
    "\n",
    "for match in matches:\n",
    "    print(match)"
   ]
  },
  {
   "cell_type": "code",
   "execution_count": 20,
   "id": "144ed10d",
   "metadata": {},
   "outputs": [
    {
     "name": "stdout",
     "output_type": "stream",
     "text": [
      "Only dates with - or . in between in May or June\n",
      "<re.Match object; span=(36, 46), match='2020-05-23'>\n",
      "<re.Match object; span=(47, 57), match='2020-06-11'>\n"
     ]
    }
   ],
   "source": [
    "print('Only dates with - or . in between in May or June')\n",
    "pattern = re.compile(r'\\d\\d\\d\\d[-.]0[56][-.]\\d\\d')\n",
    "matches = pattern.finditer(dates)\n",
    "\n",
    "for match in matches:\n",
    "    print(match)"
   ]
  },
  {
   "cell_type": "code",
   "execution_count": 23,
   "id": "766f7cb0",
   "metadata": {},
   "outputs": [
    {
     "name": "stdout",
     "output_type": "stream",
     "text": [
      "Only dates with - or . in between in May, June, July\n",
      "<re.Match object; span=(36, 46), match='2020-05-23'>\n",
      "<re.Match object; span=(47, 57), match='2020-06-11'>\n"
     ]
    }
   ],
   "source": [
    "print('Only dates with - or . in between in May, June, July')\n",
    "patternt = re.compile(r'\\d\\d\\d\\d[-.]0[5-7][-.]\\d\\d')\n",
    "matches = pattern.finditer(dates)\n",
    "\n",
    "for match in matches:\n",
    "    print(match)"
   ]
  },
  {
   "cell_type": "markdown",
   "id": "a7dbc3d1",
   "metadata": {},
   "source": [
    "## Quantifier\n",
    "\n",
    "- asterix(sign) : 0 or more\n",
    "- plus(sign) : 1 or more\n",
    "- ? : 0 or 1, used when a character can be optional\n",
    "\n",
    "- {4} : exact number\n",
    "\n",
    "- {4,6} : range numbers (min, max)"
   ]
  },
  {
   "cell_type": "code",
   "execution_count": 24,
   "id": "4a4c9a0f",
   "metadata": {},
   "outputs": [],
   "source": [
    "my_string = 'hello_123'"
   ]
  },
  {
   "cell_type": "code",
   "execution_count": 25,
   "id": "43e1989b",
   "metadata": {},
   "outputs": [
    {
     "name": "stdout",
     "output_type": "stream",
     "text": [
      "<re.Match object; span=(0, 0), match=''>\n",
      "<re.Match object; span=(1, 1), match=''>\n",
      "<re.Match object; span=(2, 2), match=''>\n",
      "<re.Match object; span=(3, 3), match=''>\n",
      "<re.Match object; span=(4, 4), match=''>\n",
      "<re.Match object; span=(5, 5), match=''>\n",
      "<re.Match object; span=(6, 9), match='123'>\n",
      "<re.Match object; span=(9, 9), match=''>\n"
     ]
    }
   ],
   "source": [
    "pattern = re.compile(r'\\d*')\n",
    "matches = pattern.finditer(my_string)\n",
    "for match in matches:\n",
    "    print(match)"
   ]
  },
  {
   "cell_type": "code",
   "execution_count": 26,
   "id": "4ac8583a",
   "metadata": {},
   "outputs": [
    {
     "name": "stdout",
     "output_type": "stream",
     "text": [
      "<re.Match object; span=(6, 9), match='123'>\n"
     ]
    }
   ],
   "source": [
    "pattern = re.compile(r'\\d+')\n",
    "matches = pattern.finditer(my_string)\n",
    "for match in matches:\n",
    "    print(match)"
   ]
  },
  {
   "cell_type": "code",
   "execution_count": 35,
   "id": "5a1f61e0",
   "metadata": {},
   "outputs": [
    {
     "name": "stdout",
     "output_type": "stream",
     "text": [
      "<re.Match object; span=(5, 7), match='_1'>\n",
      "<re.Match object; span=(7, 9), match='_2'>\n",
      "<re.Match object; span=(10, 11), match='3'>\n"
     ]
    }
   ],
   "source": [
    "my_string = 'hello_1_2-3'\n",
    "pattern = re.compile(r'_?\\d')\n",
    "matches = pattern.finditer(my_string)\n",
    "for match in matches:\n",
    "    print(match)"
   ]
  },
  {
   "cell_type": "code",
   "execution_count": 31,
   "id": "0e4c8c85",
   "metadata": {},
   "outputs": [
    {
     "name": "stdout",
     "output_type": "stream",
     "text": [
      "<re.Match object; span=(0, 4), match='2020'>\n"
     ]
    }
   ],
   "source": [
    "my_string = '2020-04-01'\n",
    "pattern = re.compile(r'\\d{4}') # or if you need a range r'\\d{3,5}'\n",
    "matches = pattern.finditer(my_string)\n",
    "for match in matches:\n",
    "    print(match)"
   ]
  },
  {
   "cell_type": "code",
   "execution_count": 32,
   "id": "447ab170",
   "metadata": {},
   "outputs": [
    {
     "name": "stdout",
     "output_type": "stream",
     "text": [
      "<re.Match object; span=(13, 23), match='2020.04.01'>\n",
      "<re.Match object; span=(25, 35), match='2020-04-01'>\n",
      "<re.Match object; span=(36, 46), match='2020-05-23'>\n",
      "<re.Match object; span=(47, 57), match='2020-06-11'>\n",
      "<re.Match object; span=(58, 68), match='2020-07-11'>\n",
      "<re.Match object; span=(69, 79), match='2020-08-11'>\n",
      "<re.Match object; span=(81, 91), match='2020/04/02'>\n",
      "<re.Match object; span=(93, 103), match='2020_04_04'>\n",
      "<re.Match object; span=(104, 114), match='2020_04_04'>\n"
     ]
    }
   ],
   "source": [
    "pattern = re.compile(r'\\d{4}.\\d{2}.\\d{2}')\n",
    "matches = pattern.finditer(dates)\n",
    "for match in matches:\n",
    "    print(match)"
   ]
  },
  {
   "cell_type": "code",
   "execution_count": 33,
   "id": "26675391",
   "metadata": {},
   "outputs": [
    {
     "name": "stdout",
     "output_type": "stream",
     "text": [
      "<re.Match object; span=(1, 11), match='01.04.2020'>\n",
      "<re.Match object; span=(13, 23), match='2020.04.01'>\n",
      "<re.Match object; span=(25, 35), match='2020-04-01'>\n",
      "<re.Match object; span=(36, 46), match='2020-05-23'>\n",
      "<re.Match object; span=(47, 57), match='2020-06-11'>\n",
      "<re.Match object; span=(58, 68), match='2020-07-11'>\n",
      "<re.Match object; span=(69, 79), match='2020-08-11'>\n",
      "<re.Match object; span=(81, 91), match='2020/04/02'>\n",
      "<re.Match object; span=(93, 103), match='2020_04_04'>\n",
      "<re.Match object; span=(104, 114), match='2020_04_04'>\n"
     ]
    }
   ],
   "source": [
    "pattern = re.compile(r'\\d+.\\d+.\\d+')\n",
    "matches = pattern.finditer(dates)\n",
    "for match in matches:\n",
    "    print(match)"
   ]
  },
  {
   "cell_type": "markdown",
   "id": "5f0a8bb5",
   "metadata": {},
   "source": [
    "## Conditions\n",
    "### Use the | for either or condition."
   ]
  },
  {
   "cell_type": "code",
   "execution_count": 5,
   "id": "b1c093ce",
   "metadata": {},
   "outputs": [],
   "source": [
    "my_string = \"\"\"\n",
    "Mr Simpson\n",
    "Mrs Simpson\n",
    "Mr. Brown\n",
    "Ms Smith\n",
    "Mr. T\n",
    "\"\"\""
   ]
  },
  {
   "cell_type": "code",
   "execution_count": 11,
   "id": "7b48a074",
   "metadata": {},
   "outputs": [
    {
     "name": "stdout",
     "output_type": "stream",
     "text": [
      "<re.Match object; span=(1, 11), match='Mr Simpson'>\n",
      "<re.Match object; span=(24, 33), match='Mr. Brown'>\n",
      "<re.Match object; span=(43, 48), match='Mr. T'>\n"
     ]
    }
   ],
   "source": [
    "pattern = re.compile(r'Mr\\.?\\s\\w+')\n",
    "matches = pattern.finditer(my_string)\n",
    "for match in matches:\n",
    "    print(match)"
   ]
  },
  {
   "cell_type": "code",
   "execution_count": 12,
   "id": "4c0f6349",
   "metadata": {},
   "outputs": [
    {
     "name": "stdout",
     "output_type": "stream",
     "text": [
      "<re.Match object; span=(1, 11), match='Mr Simpson'>\n",
      "<re.Match object; span=(12, 23), match='Mrs Simpson'>\n",
      "<re.Match object; span=(24, 33), match='Mr. Brown'>\n",
      "<re.Match object; span=(34, 42), match='Ms Smith'>\n",
      "<re.Match object; span=(43, 48), match='Mr. T'>\n"
     ]
    }
   ],
   "source": [
    "pattern = re.compile(r'(Mr|Ms|Mrs)\\.?\\s\\w+')\n",
    "matches = pattern.finditer(my_string)\n",
    "for match in matches:\n",
    "    print(match)"
   ]
  },
  {
   "cell_type": "markdown",
   "id": "64a519bc",
   "metadata": {},
   "source": [
    "## Grouping\n",
    "### ( ) is used to group substrings in the matches."
   ]
  },
  {
   "cell_type": "code",
   "execution_count": 17,
   "id": "0c185c95",
   "metadata": {},
   "outputs": [],
   "source": [
    "emails = \"\"\"\n",
    "Mr Simpson\n",
    "Mrs Simpson\n",
    "pythonengineer@gmail.com\n",
    "Python-engineer@gmx.de\n",
    "python-engineer123@my-domain.org\n",
    "\"\"\""
   ]
  },
  {
   "cell_type": "code",
   "execution_count": 18,
   "id": "5b3c72d7",
   "metadata": {},
   "outputs": [
    {
     "name": "stdout",
     "output_type": "stream",
     "text": [
      "<re.Match object; span=(24, 48), match='pythonengineer@gmail.com'>\n",
      "<re.Match object; span=(49, 71), match='Python-engineer@gmx.de'>\n",
      "<re.Match object; span=(72, 104), match='python-engineer123@my-domain.org'>\n"
     ]
    }
   ],
   "source": [
    "pattern = re.compile(r'[a-zA-Z0-9-]+@[a-zA-Z-]+\\.[a-zA-Z]+')\n",
    "matches = pattern.finditer(emails)\n",
    "for match in matches:\n",
    "    print(match)"
   ]
  },
  {
   "cell_type": "code",
   "execution_count": 27,
   "id": "67afcef6",
   "metadata": {},
   "outputs": [
    {
     "name": "stdout",
     "output_type": "stream",
     "text": [
      "<re.Match object; span=(24, 48), match='pythonengineer@gmail.com'>\n",
      "pythonengineer\n",
      "<re.Match object; span=(49, 71), match='Python-engineer@gmx.de'>\n",
      "Python-engineer\n",
      "<re.Match object; span=(72, 104), match='python-engineer123@my-domain.org'>\n",
      "python-engineer123\n"
     ]
    }
   ],
   "source": [
    "# using by grouping ()\n",
    "pattern = re.compile(r'([a-zA-Z0-9-]+)@([a-zA-Z-]+)\\.([a-zA-Z]+)')\n",
    "matches = pattern.finditer(emails)\n",
    "for match in matches:\n",
    "    print(match)\n",
    "    # only show differents group among above 3 groups\n",
    "    print(match.group(1))"
   ]
  },
  {
   "cell_type": "markdown",
   "id": "d6566d84",
   "metadata": {},
   "source": [
    "## Modifying strings\n",
    "split(): Split the string into a list, splitting it wherever the RE matches\n",
    "\n",
    "sub(): Find all substrings where the RE matches, and replace them with a different string"
   ]
  },
  {
   "cell_type": "code",
   "execution_count": 2,
   "id": "da5fc8b1",
   "metadata": {},
   "outputs": [],
   "source": [
    "my_string = 'abc123ABCDEF123abc'"
   ]
  },
  {
   "cell_type": "code",
   "execution_count": 6,
   "id": "6bd99430",
   "metadata": {},
   "outputs": [
    {
     "name": "stdout",
     "output_type": "stream",
     "text": [
      "['abc', 'ABCDEF', 'abc']\n"
     ]
    }
   ],
   "source": [
    "#split() method\n",
    "pattern = re.compile(r'123')\n",
    "matches = pattern.split(my_string)\n",
    "print(matches)"
   ]
  },
  {
   "cell_type": "code",
   "execution_count": 7,
   "id": "0defb20b",
   "metadata": {},
   "outputs": [],
   "source": [
    "#sub() method\n",
    "my_string = \"hello world, you are the best world\""
   ]
  },
  {
   "cell_type": "code",
   "execution_count": 8,
   "id": "76d5eed3",
   "metadata": {},
   "outputs": [
    {
     "name": "stdout",
     "output_type": "stream",
     "text": [
      "hello planet, you are the best planet\n"
     ]
    }
   ],
   "source": [
    "pattern = re.compile(r'world')\n",
    "subbed_string = pattern.sub(r'planet', my_string)\n",
    "print(subbed_string)"
   ]
  },
  {
   "cell_type": "code",
   "execution_count": 17,
   "id": "d4f03253",
   "metadata": {},
   "outputs": [],
   "source": [
    "urls = \"\"\"\n",
    "http://python-engineer.com\n",
    "https://www.python-engineer.org\n",
    "http://www.pyeng.net\n",
    "\"\"\""
   ]
  },
  {
   "cell_type": "code",
   "execution_count": 31,
   "id": "87e71df3",
   "metadata": {},
   "outputs": [
    {
     "name": "stdout",
     "output_type": "stream",
     "text": [
      "match: <re.Match object; span=(1, 27), match='http://python-engineer.com'>\n",
      "match.group: None\n",
      "match: <re.Match object; span=(28, 59), match='https://www.python-engineer.org'>\n",
      "match.group: www.\n",
      "match: <re.Match object; span=(60, 80), match='http://www.pyeng.net'>\n",
      "match.group: www.\n"
     ]
    }
   ],
   "source": [
    "pattern = re.compile(r\"https?://(www\\.)?([a-zA-Z-]+)(\\.[a-zA-Z]+)\")\n",
    "matches = pattern.finditer(urls)\n",
    "for match in matches:\n",
    "    print(\"match:\", match)\n",
    "    print(\"match.group:\", match.group(1))"
   ]
  },
  {
   "cell_type": "code",
   "execution_count": 33,
   "id": "40f7b926",
   "metadata": {},
   "outputs": [
    {
     "name": "stdout",
     "output_type": "stream",
     "text": [
      "\n",
      ".com\n",
      ".org\n",
      ".net\n",
      "\n"
     ]
    }
   ],
   "source": [
    "subbed_urls = pattern.sub(r\"\\3\", urls) # \\3 is 3rd group \n",
    "print(subbed_urls)"
   ]
  },
  {
   "cell_type": "markdown",
   "id": "69f0ba88",
   "metadata": {},
   "source": [
    "## Compilation Flags\n",
    "**ASCII, A :** Makes several escapes like \\w, \\b, \\s and \\d match only on ASCII characters with the respective property.\n",
    "\n",
    "**DOTALL, S :** Make . match any character, including newlines.\n",
    "\n",
    "**IGNORECASE, I :** Do case-insensitive matches.\n",
    "\n",
    "**LOCALE, L :** Do a locale-aware match.\n",
    "\n",
    "**MULTILINE, M :** Multi-line matching, affecting ^ and $.\n",
    "\n",
    "**VERBOSE, X (for ‘extended’) :** Enable verbose REs, which can be organized more cleanly and understandably."
   ]
  },
  {
   "cell_type": "code",
   "execution_count": 34,
   "id": "00e113dc",
   "metadata": {},
   "outputs": [],
   "source": [
    "my_string = \"Hello World\""
   ]
  },
  {
   "cell_type": "code",
   "execution_count": 39,
   "id": "9887fb30",
   "metadata": {},
   "outputs": [
    {
     "name": "stdout",
     "output_type": "stream",
     "text": [
      "<re.Match object; span=(6, 11), match='World'>\n"
     ]
    }
   ],
   "source": [
    "pattern = re.compile(r\"world\", re.I)\n",
    "matches = pattern.finditer(my_string)\n",
    "for match in matches:\n",
    "    print(match)"
   ]
  },
  {
   "cell_type": "code",
   "execution_count": 47,
   "id": "d49da2f4",
   "metadata": {},
   "outputs": [],
   "source": [
    "my_string = '''\n",
    "hello\n",
    "cool\n",
    "Hello.\n",
    "'''"
   ]
  },
  {
   "cell_type": "code",
   "execution_count": 50,
   "id": "5b0dab20",
   "metadata": {},
   "outputs": [
    {
     "name": "stdout",
     "output_type": "stream",
     "text": [
      "<re.Match object; span=(1, 2), match='h'>\n",
      "<re.Match object; span=(7, 8), match='c'>\n",
      "<re.Match object; span=(12, 13), match='H'>\n"
     ]
    }
   ],
   "source": [
    "# line starts with ...\n",
    "pattern = re.compile(r'^[a-zA-Z]', re.MULTILINE) # No match without M flag\n",
    "matches = pattern.finditer(my_string)\n",
    "for match in matches:\n",
    "    print(match)"
   ]
  },
  {
   "cell_type": "code",
   "execution_count": null,
   "id": "f6230237",
   "metadata": {},
   "outputs": [],
   "source": []
  }
 ],
 "metadata": {
  "kernelspec": {
   "display_name": "Python 3",
   "language": "python",
   "name": "python3"
  },
  "language_info": {
   "codemirror_mode": {
    "name": "ipython",
    "version": 3
   },
   "file_extension": ".py",
   "mimetype": "text/x-python",
   "name": "python",
   "nbconvert_exporter": "python",
   "pygments_lexer": "ipython3",
   "version": "3.9.1"
  }
 },
 "nbformat": 4,
 "nbformat_minor": 5
}
