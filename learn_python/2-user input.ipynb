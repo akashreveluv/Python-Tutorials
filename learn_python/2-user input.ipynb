{
 "cells": [
  {
   "cell_type": "code",
   "execution_count": 1,
   "metadata": {},
   "outputs": [
    {
     "name": "stdout",
     "output_type": "stream",
     "text": [
      "Enter anything you want :\n",
      "56\n",
      "56.0\n",
      "<class 'float'>\n",
      "------------------------------------------------------------------------\n",
      "Enter a:\n",
      "35\n",
      "Enter b:\n",
      "45\n",
      "80\n",
      "------------------------------Exercise------------------------------------------\n",
      "Enter 1st Number:23\n",
      "Enter 2nd Number:54\n",
      "Enter a operation:\n",
      "Select specific operation from +,-,/,*,**,//,% :*\n",
      "23.0 * 54.0 : 1242.0\n"
     ]
    }
   ],
   "source": [
    "# USER INPUT\n",
    "\n",
    "print(\"Enter anything you want :\")\n",
    "var = input()  # Python always get it as string no matter what user gave the inputs.\n",
    "var = float(var)  # If we want int, float etc.. then we should typecast that variable.\n",
    "print(var)\n",
    "print(type(var))\n",
    "\n",
    "print(\"------------------------------------------------------------------------\")\n",
    "\n",
    "print(\"Enter a:\")\n",
    "a = int(input())\n",
    "print(\"Enter b:\")\n",
    "b = int(input())\n",
    "c = a + b\n",
    "print(c)\n",
    "\n",
    "print(\"------------------------------Exercise------------------------------------------\")\n",
    "\n",
    "# +,-,/,*,**,//,% - Exercise\n",
    "\n",
    "num1 = float(input(\"Enter 1st Number:\"))\n",
    "num2 = float(input(\"Enter 2nd Number:\"))\n",
    "\n",
    "print(\"Enter a operation:\")\n",
    "sym = input(\"Select specific operation from +,-,/,*,**,//,% :\")\n",
    "\n",
    "# result = 0\n",
    "if sym == '+':\n",
    "    result = num1 + num2\n",
    "elif sym == '-':\n",
    "    result = num1 - num2\n",
    "elif sym == '/':\n",
    "    result = num1 / num2\n",
    "elif sym == '*':\n",
    "    result = num1 * num2\n",
    "elif sym == '**':\n",
    "    result = num1 ** num2\n",
    "elif sym == '//':\n",
    "    result = num1 // num2\n",
    "elif sym == '%':\n",
    "    result = num1 % num2\n",
    "else:\n",
    "    print(\"Invalid input character\")\n",
    "\n",
    "print(num1, sym, num2, \":\", result)\n",
    "\n",
    "\n"
   ]
  },
  {
   "cell_type": "code",
   "execution_count": null,
   "metadata": {},
   "outputs": [],
   "source": []
  }
 ],
 "metadata": {
  "kernelspec": {
   "display_name": "Python 3",
   "language": "python",
   "name": "python3"
  },
  "language_info": {
   "codemirror_mode": {
    "name": "ipython",
    "version": 3
   },
   "file_extension": ".py",
   "mimetype": "text/x-python",
   "name": "python",
   "nbconvert_exporter": "python",
   "pygments_lexer": "ipython3",
   "version": "3.8.3"
  }
 },
 "nbformat": 4,
 "nbformat_minor": 4
}
