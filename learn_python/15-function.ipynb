{
 "cells": [
  {
   "cell_type": "code",
   "execution_count": 1,
   "metadata": {},
   "outputs": [
    {
     "name": "stdout",
     "output_type": "stream",
     "text": [
      "Hello World!\n",
      "50\n",
      "Akash\n",
      "Even\n",
      "[54, 98, 23, 56]\n"
     ]
    }
   ],
   "source": [
    "def myfun():  # myfun() is a function\n",
    "    print(\"Hello World!\")\n",
    "\n",
    "\n",
    "myfun()  # call the function for show output. We already use print under func so, here just call.\n",
    "\n",
    "\n",
    "def math():\n",
    "    return 30 + 20\n",
    "\n",
    "\n",
    "print(math())  # it'll print 50, We didn't use print under func so, here use print.\n",
    "\n",
    "\n",
    "def myname(str):\n",
    "    print(str)\n",
    "\n",
    "\n",
    "myname(\"Akash\")  # Akash assign into myname(str), str variable and we show by print it\n",
    "\n",
    "\n",
    "def check(num):\n",
    "    if num % 2 == 0:\n",
    "        print(\"Even\")\n",
    "    else:\n",
    "        print(\"Odd\")\n",
    "\n",
    "\n",
    "check(24)\n",
    "\n",
    "\n",
    "def lst(mylst):\n",
    "    print(mylst)\n",
    "\n",
    "\n",
    "lst1 = [54, 98, 23, 56]\n",
    "lst(lst1)"
   ]
  },
  {
   "cell_type": "code",
   "execution_count": 8,
   "metadata": {},
   "outputs": [
    {
     "name": "stdout",
     "output_type": "stream",
     "text": [
      "Hello Welcome\n"
     ]
    }
   ],
   "source": [
    "# print vs return\n",
    "def hello_world():\n",
    "    # print(\"Hello Welcome\")  # output show \"None\"\n",
    "    return \"Hello Welcome\"  # output show \"Hello Welcome\"\n",
    "\n",
    "\n",
    "val = hello_world()\n",
    "print(val)"
   ]
  },
  {
   "cell_type": "code",
   "execution_count": 9,
   "metadata": {},
   "outputs": [
    {
     "name": "stdout",
     "output_type": "stream",
     "text": [
      "My name is Akash and age is 27\n"
     ]
    }
   ],
   "source": [
    "def hello(name, age=27):\n",
    "    print(\"My name is {} and age is {}\".format(name, age))\n",
    "\n",
    "\n",
    "hello('Akash')"
   ]
  },
  {
   "cell_type": "code",
   "execution_count": 10,
   "metadata": {},
   "outputs": [
    {
     "name": "stdout",
     "output_type": "stream",
     "text": [
      "('Akash', 'Reveluv')\n",
      "{'age': 27, 'dob': 1993}\n",
      "(('Akash', 'Reveluv'), {'age': 27, 'dob': 1993})\n",
      "{}\n",
      "('Akash', 'Reveluv')\n",
      "{'age': 27, 'dob': 1993}\n"
     ]
    }
   ],
   "source": [
    "def anneyong(*args, **kwargs):\n",
    "    print(args)\n",
    "    print(kwargs)\n",
    "\n",
    "\n",
    "anneyong('Akash', 'Reveluv', age=27, dob=1993)\n",
    "\n",
    "lst = ('Akash', 'Reveluv')\n",
    "dict = {'age': 27, 'dob': 1993}\n",
    "\n",
    "anneyong(lst, dict)  # All considering as *args, thats not right. SO NOW:\n",
    "anneyong(*lst, **dict)  # Now its showing as we want"
   ]
  },
  {
   "cell_type": "code",
   "execution_count": 13,
   "metadata": {},
   "outputs": [],
   "source": [
    "nmbr = [1, 2, 3, 4, 5, 6, 7, 8, 9]"
   ]
  },
  {
   "cell_type": "code",
   "execution_count": 14,
   "metadata": {},
   "outputs": [],
   "source": [
    "def even_odd_sum(nmbr):\n",
    "    even_sum = 0\n",
    "    odd_sum = 0\n",
    "    for i in nmbr:\n",
    "        if i % 2 == 0:\n",
    "            even_sum = even_sum + i\n",
    "        else:\n",
    "            odd_sum = odd_sum + i\n",
    "    return even_sum, odd_sum"
   ]
  },
  {
   "cell_type": "code",
   "execution_count": 15,
   "metadata": {},
   "outputs": [
    {
     "data": {
      "text/plain": [
       "(20, 25)"
      ]
     },
     "execution_count": 15,
     "metadata": {},
     "output_type": "execute_result"
    }
   ],
   "source": [
    "even_odd_sum(nmbr)"
   ]
  },
  {
   "cell_type": "code",
   "execution_count": null,
   "metadata": {},
   "outputs": [],
   "source": []
  }
 ],
 "metadata": {
  "kernelspec": {
   "display_name": "Python 3",
   "language": "python",
   "name": "python3"
  },
  "language_info": {
   "codemirror_mode": {
    "name": "ipython",
    "version": 3
   },
   "file_extension": ".py",
   "mimetype": "text/x-python",
   "name": "python",
   "nbconvert_exporter": "python",
   "pygments_lexer": "ipython3",
   "version": "3.9.1"
  }
 },
 "nbformat": 4,
 "nbformat_minor": 4
}
