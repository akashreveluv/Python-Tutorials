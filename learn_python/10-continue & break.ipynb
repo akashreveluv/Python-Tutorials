{
 "cells": [
  {
   "cell_type": "code",
   "execution_count": 1,
   "metadata": {},
   "outputs": [
    {
     "name": "stdout",
     "output_type": "stream",
     "text": [
      "Sohyun\n",
      "Yerim\n",
      "--------------------------------------------------------------\n",
      "Sohyun\n",
      "Yerim\n",
      "Joy\n",
      "Natty\n"
     ]
    }
   ],
   "source": [
    "mylist = [\"Sohyun\", \"Yerim\", \"Joy\", \"Eunha\", \"Natty\"]\n",
    "\n",
    "for item in mylist:\n",
    "    if item == \"Joy\":\n",
    "        break  # after find desire value, no need to search all. Just break the loop and print.\n",
    "    print(item)\n",
    "\n",
    "print(\"--------------------------------------------------------------\")\n",
    "\n",
    "for item in mylist:\n",
    "    if item == \"Eunha\":\n",
    "        continue  # after find desire value,no need to print (skip),again search in loop and print remains.\n",
    "    print(item)\n",
    "\n"
   ]
  },
  {
   "cell_type": "code",
   "execution_count": null,
   "metadata": {},
   "outputs": [],
   "source": []
  }
 ],
 "metadata": {
  "kernelspec": {
   "display_name": "Python 3",
   "language": "python",
   "name": "python3"
  },
  "language_info": {
   "codemirror_mode": {
    "name": "ipython",
    "version": 3
   },
   "file_extension": ".py",
   "mimetype": "text/x-python",
   "name": "python",
   "nbconvert_exporter": "python",
   "pygments_lexer": "ipython3",
   "version": "3.8.3"
  }
 },
 "nbformat": 4,
 "nbformat_minor": 4
}
