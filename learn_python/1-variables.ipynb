{
 "cells": [
  {
   "cell_type": "code",
   "execution_count": 3,
   "metadata": {},
   "outputs": [
    {
     "name": "stdout",
     "output_type": "stream",
     "text": [
      "<class 'int'>\n",
      "<class 'float'>\n",
      "<class 'str'>\n",
      "30.5\n",
      "30.5\n",
      "<class 'float'>\n",
      "1020\n",
      "30\n",
      "--------------------------------TASK----------------------------------------\n",
      "a- <class 'int'>\n",
      "b- <class 'float'>\n",
      "c- <class 'str'>\n",
      "d- <class 'complex'>\n",
      "e- <class 'int'>\n",
      "f- <class 'float'>\n",
      "g- <class 'float'>\n"
     ]
    }
   ],
   "source": [
    "# VARIABLES\n",
    "a = 10\n",
    "print(type(a))\n",
    "b = 20.3\n",
    "print(type(b))\n",
    "c = \"Akash\"\n",
    "print(type(c))\n",
    "\n",
    "a = 10\n",
    "b = 20.5\n",
    "c = a+b\n",
    "print(a+b)\n",
    "print(c)\n",
    "print(type(c))\n",
    "\n",
    "a = \"10\"\n",
    "b = \"20\"\n",
    "print(a+b)  # a & b string concatenate by + sign\n",
    "print(int(a) + int(b))  # When declare int before variables, then they work as variables\n",
    "\n",
    "print(\"--------------------------------TASK----------------------------------------\")\n",
    "\n",
    "a = 30\n",
    "b = 39.80\n",
    "c = \"Reveluv\"\n",
    "d = 5+6j\n",
    "e = 15-10\n",
    "f = 15/3\n",
    "g = 2.50*2\n",
    "print(\"a-\", type(a))\n",
    "print(\"b-\", type(b))\n",
    "print(\"c-\", type(c))\n",
    "print(\"d-\", type(d))\n",
    "print(\"e-\", type(e))\n",
    "print(\"f-\", type(f))\n",
    "print(\"g-\", type(g))\n"
   ]
  },
  {
   "cell_type": "code",
   "execution_count": null,
   "metadata": {},
   "outputs": [],
   "source": []
  }
 ],
 "metadata": {
  "kernelspec": {
   "display_name": "Python 3 (ipykernel)",
   "language": "python",
   "name": "python3"
  },
  "language_info": {
   "codemirror_mode": {
    "name": "ipython",
    "version": 3
   },
   "file_extension": ".py",
   "mimetype": "text/x-python",
   "name": "python",
   "nbconvert_exporter": "python",
   "pygments_lexer": "ipython3",
   "version": "3.10.2"
  }
 },
 "nbformat": 4,
 "nbformat_minor": 4
}
