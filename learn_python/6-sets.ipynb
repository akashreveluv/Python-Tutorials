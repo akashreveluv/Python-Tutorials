{
 "cells": [
  {
   "cell_type": "code",
   "execution_count": 1,
   "metadata": {},
   "outputs": [
    {
     "name": "stdout",
     "output_type": "stream",
     "text": [
      "{4, 6, 7, 8, 9, 10}\n",
      "<class 'set'>\n",
      "[8, 9, 10, 4, 6, 10, 9, 7, 8]\n",
      "{4, 6, 7, 8, 9, 10}\n",
      "{4, 6, 7, 8, 9, 10, 22}\n",
      "{4, 6, 7, 8, 9, 22}\n",
      "{4, 6, 7, 8, 9, 22}\n",
      "{3, 5, 8, 9, 10}\n",
      "{8, 9}\n",
      "{3, 5, 8, 9, 10}\n"
     ]
    }
   ],
   "source": [
    "# SETS\n",
    "\n",
    "myset = {8, 9, 10, 4, 6, 10, 9, 7, 8}\n",
    "print(myset)  # output will print duplicate value once and all no. in ascending order.\n",
    "print(type(myset))\n",
    "mylist = [8, 9, 10, 4, 6, 10, 9, 7, 8]\n",
    "myset = set(mylist)  # from list to set\n",
    "print(mylist)\n",
    "print(myset)\n",
    "myset.add(22)  # add value in set\n",
    "print(myset)\n",
    "myset.remove(10)  # remove value from set if available, otherwise show error.\n",
    "print(myset)\n",
    "myset.discard(77)  # discard value from set if available, otherwise show the set as it is.\n",
    "print(myset)\n",
    "myset1 = {8, 9, 10}\n",
    "myset2 = {8, 9, 3, 5}\n",
    "myset3 = myset1.union(myset2)  # show all values, but show duplicate values at once.\n",
    "print(myset3)\n",
    "myset4 = myset1.intersection(myset2)  # show only common values, i.e.-\n",
    "# show only duplicate values at once.\n",
    "print(myset4)\n",
    "myset1.update(myset2)  # myset1 values updated by myset2 values, one kind of union.\n",
    "print(myset1)\n"
   ]
  },
  {
   "cell_type": "code",
   "execution_count": null,
   "metadata": {},
   "outputs": [],
   "source": []
  }
 ],
 "metadata": {
  "kernelspec": {
   "display_name": "Python 3",
   "language": "python",
   "name": "python3"
  },
  "language_info": {
   "codemirror_mode": {
    "name": "ipython",
    "version": 3
   },
   "file_extension": ".py",
   "mimetype": "text/x-python",
   "name": "python",
   "nbconvert_exporter": "python",
   "pygments_lexer": "ipython3",
   "version": "3.8.3"
  }
 },
 "nbformat": 4,
 "nbformat_minor": 4
}
