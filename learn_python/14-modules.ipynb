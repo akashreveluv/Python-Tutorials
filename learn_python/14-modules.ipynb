{
 "cells": [
  {
   "cell_type": "code",
   "execution_count": 2,
   "metadata": {},
   "outputs": [
    {
     "name": "stdout",
     "output_type": "stream",
     "text": [
      "24\n",
      "3\n",
      "2\n"
     ]
    }
   ],
   "source": [
    "# import flask\n",
    "# import requests\n",
    "# a = requests.get(\"https://www.examaasaanhai.com\")\n",
    "# print(a.text)\n",
    "import math  # built-in function\n",
    "a = math.factorial(4)\n",
    "b = math.isqrt(9)\n",
    "c = math.gcd(10, 102)\n",
    "print(a)\n",
    "print(b)\n",
    "print(c)"
   ]
  },
  {
   "cell_type": "code",
   "execution_count": null,
   "metadata": {},
   "outputs": [],
   "source": []
  }
 ],
 "metadata": {
  "kernelspec": {
   "display_name": "Python 3",
   "language": "python",
   "name": "python3"
  },
  "language_info": {
   "codemirror_mode": {
    "name": "ipython",
    "version": 3
   },
   "file_extension": ".py",
   "mimetype": "text/x-python",
   "name": "python",
   "nbconvert_exporter": "python",
   "pygments_lexer": "ipython3",
   "version": "3.8.3"
  }
 },
 "nbformat": 4,
 "nbformat_minor": 4
}
