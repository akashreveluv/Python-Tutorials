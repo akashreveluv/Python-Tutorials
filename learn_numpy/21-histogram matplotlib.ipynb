{
 "cells": [
  {
   "cell_type": "code",
   "execution_count": 1,
   "metadata": {},
   "outputs": [
    {
     "name": "stdout",
     "output_type": "stream",
     "text": [
      "------------------------Program-1----------------------\n",
      "[3 4 5 2 1]\n",
      "[  0  20  40  60  80 100]\n",
      "------------------------Program-2----------------------\n"
     ]
    },
    {
     "data": {
      "image/png": "[encoded data removed]",
      "text/plain": [
       "<Figure size 432x288 with 1 Axes>"
      ]
     },
     "metadata": {
      "needs_background": "light"
     },
     "output_type": "display_data"
    }
   ],
   "source": [
    "from matplotlib import pyplot as plt\n",
    "import numpy as np\n",
    "\n",
    "\"\"\"\n",
    "NumPy has a numpy.histogram() function that is a graphical representation of\n",
    "the frequency distribution of data. Rectangles of equal horizontal size corresponding\n",
    "to class interval called bin and variable height corresponding to frequency.\n",
    "\n",
    "numpy.histogram()\n",
    "The numpy.histogram() function takes the input array and bins as two parameters.\n",
    "The successive elements in bin array act as the boundary of each bin.\n",
    "\"\"\"\n",
    "print(\"------------------------Program-1----------------------\")\n",
    "a = np.array([22, 87, 5, 43, 56, 73, 55, 54, 11, 20, 51, 5, 79, 31, 27])\n",
    "np.histogram(a, bins=[0, 20, 40, 60, 80, 100])\n",
    "hist, bins = np.histogram(a, bins=[0, 20, 40, 60, 80, 100])\n",
    "print(hist)\n",
    "print(bins)\n",
    "\n",
    "print(\"------------------------Program-2----------------------\")\n",
    "\"\"\"\n",
    "plt()\n",
    "Matplotlib can convert this numeric representation of histogram into a graph. \n",
    "The plt() function of pyplot submodule takes the array containing the data and bin array as parameters \n",
    "and converts into a histogram.\n",
    "\"\"\"\n",
    "a = np.array([22, 87, 5, 43, 56, 73, 55, 54, 11, 20, 51, 5, 79, 31, 27])\n",
    "plt.hist(a, bins=[0, 20, 40, 60, 80, 100])\n",
    "plt.title(\"histogram\")\n",
    "plt.show()"
   ]
  },
  {
   "cell_type": "code",
   "execution_count": null,
   "metadata": {},
   "outputs": [],
   "source": []
  }
 ],
 "metadata": {
  "kernelspec": {
   "display_name": "Python 3",
   "language": "python",
   "name": "python3"
  },
  "language_info": {
   "codemirror_mode": {
    "name": "ipython",
    "version": 3
   },
   "file_extension": ".py",
   "mimetype": "text/x-python",
   "name": "python",
   "nbconvert_exporter": "python",
   "pygments_lexer": "ipython3",
   "version": "3.8.3"
  }
 },
 "nbformat": 4,
 "nbformat_minor": 4
}
