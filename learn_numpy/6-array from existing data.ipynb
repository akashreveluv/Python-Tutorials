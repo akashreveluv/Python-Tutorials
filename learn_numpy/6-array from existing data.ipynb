{
 "cells": [
  {
   "cell_type": "code",
   "execution_count": 1,
   "metadata": {},
   "outputs": [
    {
     "name": "stdout",
     "output_type": "stream",
     "text": [
      "--------------------------Program1 Ex1--------------------------------\n",
      "[1 2 3]\n",
      "--------------------------Program1 Ex2--------------------------------\n",
      "[1. 2. 3.]\n",
      "--------------------------Program1 Ex3--------------------------------\n",
      "[1 2 3]\n",
      "--------------------------Program1 Ex4--------------------------------\n",
      "[(1, 2, 3) (4, 5)]\n",
      "[[1 2 3]\n",
      " [4 5 6]]\n"
     ]
    }
   ],
   "source": [
    "import numpy as np\n",
    "\n",
    "\"\"\"numpy.asarray\n",
    "This function is similar to numpy.array except for the fact that it has fewer parameters. \n",
    "This routine is useful for converting Python sequence into ndarray.\n",
    "numpy.asarray(a, dtype = None, order = None)\"\"\"\n",
    "print(\"--------------------------Program1 Ex1--------------------------------\")\n",
    "# convert list to ndarray\n",
    "x = [1, 2, 3]\n",
    "a = np.asarray(x)\n",
    "print(a)\n",
    "\n",
    "print(\"--------------------------Program1 Ex2--------------------------------\")\n",
    "# dtype is set\n",
    "x = [1, 2, 3]\n",
    "a = np.asarray(x, dtype=float)\n",
    "print(a)\n",
    "\n",
    "print(\"--------------------------Program1 Ex3--------------------------------\")\n",
    "# ndarray from tuple\n",
    "x = (1, 2, 3)\n",
    "a = np.asarray(x)\n",
    "print(a)\n",
    "\n",
    "print(\"--------------------------Program1 Ex4--------------------------------\")\n",
    "# ndarray from list of tuples\n",
    "# Creating an ndarray from ragged nested sequences\n",
    "# (which is a list-or-tuple of lists-or-tuples-or ndarrays with different lengths or shapes) is deprecated.\n",
    "# If you meant to do this, you must specify 'dtype=object' when creating the ndarray.\n",
    "x = [(1, 2, 3), (4, 5)]\n",
    "a = np.asarray(x, dtype=object)\n",
    "print(a)\n",
    "# Creating an ndarray from ragged nested sequences\n",
    "# (which is a list-or-tuple of lists-or-tuples-or ndarrays with same lengths or shapes) is deprecated.\n",
    "# If you meant to do this, you don't have to specify 'dtype=object' when creating the ndarray.\n",
    "x = [(1, 2, 3), (4, 5, 6)]\n",
    "a = np.asarray(x, dtype=object)\n",
    "print(a)"
   ]
  },
  {
   "cell_type": "code",
   "execution_count": null,
   "metadata": {},
   "outputs": [],
   "source": []
  }
 ],
 "metadata": {
  "kernelspec": {
   "display_name": "Python 3",
   "language": "python",
   "name": "python3"
  },
  "language_info": {
   "codemirror_mode": {
    "name": "ipython",
    "version": 3
   },
   "file_extension": ".py",
   "mimetype": "text/x-python",
   "name": "python",
   "nbconvert_exporter": "python",
   "pygments_lexer": "ipython3",
   "version": "3.8.3"
  }
 },
 "nbformat": 4,
 "nbformat_minor": 4
}
