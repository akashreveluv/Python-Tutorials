{
 "cells": [
  {
   "cell_type": "code",
   "execution_count": 1,
   "metadata": {},
   "outputs": [
    {
     "name": "stdout",
     "output_type": "stream",
     "text": [
      "Our array is:\n",
      "[   1  256 8755]\n",
      "Representation of data in memory in hexadecimal form:\n",
      "<map object at 0x0EADFE08>\n",
      "Applying byteswap() function:\n",
      "[  256     1 13090]\n",
      "In hexadecimal form:\n",
      "<map object at 0x0EADFF58>\n"
     ]
    }
   ],
   "source": [
    "import numpy as np\n",
    "\n",
    "a = np.array([1, 256, 8755], dtype=np.int16)\n",
    "\n",
    "print('Our array is:')\n",
    "print(a)\n",
    "\n",
    "print('Representation of data in memory in hexadecimal form:')\n",
    "print(map(hex, a))\n",
    "# byteswap() function swaps in place by passing True parameter\n",
    "\n",
    "print('Applying byteswap() function:')\n",
    "print(a.byteswap(True))\n",
    "\n",
    "print('In hexadecimal form:')\n",
    "print(map(hex, a))\n",
    "# We can see the bytes being swapped\n"
   ]
  },
  {
   "cell_type": "code",
   "execution_count": null,
   "metadata": {},
   "outputs": [],
   "source": []
  }
 ],
 "metadata": {
  "kernelspec": {
   "display_name": "Python 3",
   "language": "python",
   "name": "python3"
  },
  "language_info": {
   "codemirror_mode": {
    "name": "ipython",
    "version": 3
   },
   "file_extension": ".py",
   "mimetype": "text/x-python",
   "name": "python",
   "nbconvert_exporter": "python",
   "pygments_lexer": "ipython3",
   "version": "3.8.3"
  }
 },
 "nbformat": 4,
 "nbformat_minor": 4
}
