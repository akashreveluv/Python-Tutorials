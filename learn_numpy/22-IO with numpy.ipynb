{
 "cells": [
  {
   "cell_type": "code",
   "execution_count": 1,
   "metadata": {},
   "outputs": [
    {
     "name": "stdout",
     "output_type": "stream",
     "text": [
      "------------------------Example-1-----------------------\n",
      "[1 2 3 4 5]\n",
      "------------------------Example-2-----------------------\n",
      "[1. 2. 3. 4. 5.]\n"
     ]
    }
   ],
   "source": [
    "import numpy as np\n",
    "\n",
    "\"\"\"\n",
    "The ndarray objects can be saved to and loaded from the disk files. The IO functions available are −\n",
    "\n",
    "load() and save() functions handle /numPy binary files (with npy extension)\n",
    "\n",
    "loadtxt() and savetxt() functions handle normal text files\n",
    "\n",
    "NumPy introduces a simple file format for ndarray objects. \n",
    "This .npy file stores data, shape, dtype and other information required to reconstruct, \n",
    "the ndarray in a disk file such that the array is correctly retrieved even \n",
    "if the file is on another machine with different architecture.\n",
    "\"\"\"\n",
    "print(\"------------------------Example-1-----------------------\")\n",
    "a = np.array([1, 2, 3, 4, 5])\n",
    "np.save('outfile', a)\n",
    "b = np.load('outfile.npy')\n",
    "print(b)\n",
    "\n",
    "print(\"------------------------Example-2-----------------------\")\n",
    "\"\"\"savetxt()\n",
    "The storage and retrieval of array data in simple text file format is done with savetxt() and loadtxt() functions.\n",
    "\"\"\"\n",
    "m = np.array([1, 2, 3, 4, 5])\n",
    "np.savetxt('out.txt', m)\n",
    "n = np.loadtxt('out.txt')\n",
    "print(n)"
   ]
  },
  {
   "cell_type": "code",
   "execution_count": null,
   "metadata": {},
   "outputs": [],
   "source": []
  }
 ],
 "metadata": {
  "kernelspec": {
   "display_name": "Python 3",
   "language": "python",
   "name": "python3"
  },
  "language_info": {
   "codemirror_mode": {
    "name": "ipython",
    "version": 3
   },
   "file_extension": ".py",
   "mimetype": "text/x-python",
   "name": "python",
   "nbconvert_exporter": "python",
   "pygments_lexer": "ipython3",
   "version": "3.8.3"
  }
 },
 "nbformat": 4,
 "nbformat_minor": 4
}
