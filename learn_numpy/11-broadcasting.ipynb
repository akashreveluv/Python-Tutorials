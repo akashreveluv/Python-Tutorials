{
 "cells": [
  {
   "cell_type": "code",
   "execution_count": 1,
   "metadata": {},
   "outputs": [
    {
     "name": "stdout",
     "output_type": "stream",
     "text": [
      "----------------------Program1-------------------------\n",
      "[ 10  40  90 160]\n",
      "----------------------Program2-------------------------\n",
      "First array:\n",
      "[[ 0.  0.  0.]\n",
      " [10. 10. 10.]\n",
      " [20. 20. 20.]\n",
      " [30. 30. 30.]]\n",
      "\n",
      "\n",
      "Second array:\n",
      "[1. 2. 3.]\n",
      "\n",
      "\n",
      "First Array * Second Array\n",
      "[[ 0.  0.  0.]\n",
      " [10. 20. 30.]\n",
      " [20. 40. 60.]\n",
      " [30. 60. 90.]]\n"
     ]
    }
   ],
   "source": [
    "import numpy as np\n",
    "\n",
    "print(\"----------------------Program1-------------------------\")\n",
    "\"\"\"The term broadcasting refers to the ability of NumPy to treat arrays of different shapes during arithmetic operations.\n",
    "Arithmetic operations on arrays are usually done on corresponding elements. \n",
    "If two arrays are of exactly the same shape, then these operations are smoothly performed.\"\"\"\n",
    "a = np.array([1, 2, 3, 4])\n",
    "b = np.array([10, 20, 30, 40])\n",
    "c = a * b\n",
    "print(c)\n",
    "\n",
    "print(\"----------------------Program2-------------------------\")\n",
    "\"\"\"\n",
    "If the dimensions of two arrays are dissimilar, element-to-element operations are not possible. \n",
    "However, operations on arrays of non-similar shapes is still possible in NumPy, because of the broadcasting capability. \n",
    "The smaller array is broadcast to the size of the larger array so that they have compatible shapes.\n",
    "\n",
    "Broadcasting is possible if the following rules are satisfied −\n",
    "\n",
    "    .Array with smaller ndim than the other is prepended with '1' in its shape.\n",
    "\n",
    "    .Size in each dimension of the output shape \n",
    "    is maximum of the input sizes in that dimension.\n",
    "\n",
    "    .An input can be used in calculation, \n",
    "    if its size in a particular dimension matches the output size or its value is exactly 1.\n",
    "\n",
    "    .If an input has a dimension size of 1, \n",
    "    the first data entry in that dimension is used for all calculations along that dimension.\n",
    "\n",
    "A set of arrays is said to be broadcastable \n",
    "if the above rules produce a valid result and one of the following is true −\n",
    "\n",
    "    .Arrays have exactly the same shape.\n",
    "\n",
    "    .Arrays have the same number of dimensions and the length of each dimension is either a common length or 1.\n",
    "\n",
    "    .Array having too few dimensions can have its shape prepended with a dimension of length 1, \n",
    "    so that the above stated property is true.\n",
    "\n",
    "The following program shows an example of broadcasting --->\n",
    "\"\"\"\n",
    "a = np.array([[0.0, 0.0, 0.0], [10.0, 10.0, 10.0], [20.0, 20.0, 20.0], [30.0, 30.0, 30.0]])\n",
    "b = np.array([1.0, 2.0, 3.0])\n",
    "\n",
    "print('First array:')\n",
    "print(a)\n",
    "print('\\n')\n",
    "\n",
    "print('Second array:')\n",
    "print(b)\n",
    "print('\\n')\n",
    "\n",
    "print('First Array * Second Array')\n",
    "print(a * b)"
   ]
  },
  {
   "cell_type": "code",
   "execution_count": null,
   "metadata": {},
   "outputs": [],
   "source": []
  }
 ],
 "metadata": {
  "kernelspec": {
   "display_name": "Python 3",
   "language": "python",
   "name": "python3"
  },
  "language_info": {
   "codemirror_mode": {
    "name": "ipython",
    "version": 3
   },
   "file_extension": ".py",
   "mimetype": "text/x-python",
   "name": "python",
   "nbconvert_exporter": "python",
   "pygments_lexer": "ipython3",
   "version": "3.8.3"
  }
 },
 "nbformat": 4,
 "nbformat_minor": 4
}
