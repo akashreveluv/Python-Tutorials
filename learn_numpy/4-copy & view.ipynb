{
 "cells": [
  {
   "cell_type": "code",
   "execution_count": 1,
   "metadata": {},
   "outputs": [
    {
     "name": "stdout",
     "output_type": "stream",
     "text": [
      "------------------COPY-------------------\n",
      "[42  2  3  4  5]\n",
      "[1 2 3 4 5]\n",
      "--------------------VIEW-----------------------\n",
      "[42  2  3  4  5]\n",
      "[42  2  3  4  5]\n",
      "-------------------Check if Array Owns it's Data--------------------\n",
      "None\n",
      "[1 2 3 4 5]\n"
     ]
    }
   ],
   "source": [
    "# The Difference Between Copy and View\n",
    "# The main difference between a copy and a view of an array is that the copy is a new array,\n",
    "# and the view is just a view of the original array.\n",
    "#\n",
    "# The copy owns the data and any changes made to the copy will not affect original array,\n",
    "# and any changes made to the original array will not affect the copy.\n",
    "#\n",
    "# The view does not own the data and any changes made to the view will affect the original array,\n",
    "# and any changes made to the original array will affect the view.\n",
    "\n",
    "print(\"------------------COPY-------------------\")\n",
    "import numpy as np\n",
    "\n",
    "arr = np.array([1, 2, 3, 4, 5])\n",
    "x = arr.copy()\n",
    "arr[0] = 42\n",
    "\n",
    "print(arr)\n",
    "print(x)\n",
    "\n",
    "print(\"--------------------VIEW-----------------------\")\n",
    "arr = np.array([1, 2, 3, 4, 5])\n",
    "x = arr.view()\n",
    "arr[0] = 42\n",
    "\n",
    "print(arr)\n",
    "print(x)\n",
    "\n",
    "# Check if Array Owns it's Data\n",
    "# As mentioned above, copies owns the data, and views does not own the data, but how can we check this?\n",
    "#\n",
    "# Every NumPy array has the attribute base that returns None if the array owns the data.\n",
    "#\n",
    "# Otherwise, the base  attribute refers to the original object.\n",
    "\n",
    "print(\"-------------------Check if Array Owns it's Data--------------------\")\n",
    "arr = np.array([1, 2, 3, 4, 5])\n",
    "\n",
    "x = arr.copy()\n",
    "y = arr.view()\n",
    "\n",
    "print(x.base)\n",
    "print(y.base)"
   ]
  },
  {
   "cell_type": "code",
   "execution_count": null,
   "metadata": {},
   "outputs": [],
   "source": []
  }
 ],
 "metadata": {
  "kernelspec": {
   "display_name": "Python 3",
   "language": "python",
   "name": "python3"
  },
  "language_info": {
   "codemirror_mode": {
    "name": "ipython",
    "version": 3
   },
   "file_extension": ".py",
   "mimetype": "text/x-python",
   "name": "python",
   "nbconvert_exporter": "python",
   "pygments_lexer": "ipython3",
   "version": "3.8.3"
  }
 },
 "nbformat": 4,
 "nbformat_minor": 4
}
