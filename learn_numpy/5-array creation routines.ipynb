{
 "cells": [
  {
   "cell_type": "code",
   "execution_count": 1,
   "metadata": {},
   "outputs": [
    {
     "name": "stdout",
     "output_type": "stream",
     "text": [
      "------------------Program1------------------------\n",
      "[[4 0]\n",
      " [0 0]\n",
      " [0 0]]\n",
      "------------------Program2 Ex1------------------------\n",
      "[0. 0. 0. 0. 0.]\n",
      "------------------Program2 Ex2------------------------\n",
      "[0 0 0 0 0]\n",
      "------------------Program2 Ex3------------------------\n",
      "[[(0, 0) (0, 0)]\n",
      " [(0, 0) (0, 0)]]\n",
      "------------------Program3 Ex1------------------------\n",
      "[1. 1. 1. 1. 1.]\n",
      "------------------Program3 Ex2------------------------\n",
      "[[1 1]\n",
      " [1 1]]\n"
     ]
    }
   ],
   "source": [
    "import numpy as np\n",
    "\n",
    "\"\"\"The following code shows an example of an empty array.\"\"\"\n",
    "\n",
    "print(\"------------------Program1------------------------\")\n",
    "# Note − The elements in an array show random values as they are not initialized.\n",
    "x = np.empty([3, 2], dtype=int)\n",
    "print(x)\n",
    "\n",
    "\"\"\"Returns a new array of specified size, filled with zeros.\"\"\"\n",
    "\n",
    "print(\"------------------Program2 Ex1------------------------\")\n",
    "# array of five zeros. Default dtype is float\n",
    "x = np.zeros(5)\n",
    "print(x)\n",
    "print(\"------------------Program2 Ex2------------------------\")\n",
    "x = np.zeros((5,), dtype=int)\n",
    "print(x)\n",
    "print(\"------------------Program2 Ex3------------------------\")\n",
    "# custom type\n",
    "x = np.zeros((2, 2), dtype=[('x', 'i4'), ('y', 'i4')])\n",
    "print(x)\n",
    "\n",
    "\"\"\"Returns a new array of specified size and type, filled with ones.\"\"\"\n",
    "\n",
    "print(\"------------------Program3 Ex1------------------------\")\n",
    "# array of five ones. Default dtype is float\n",
    "x = np.ones(5)\n",
    "print(x)\n",
    "print(\"------------------Program3 Ex2------------------------\")\n",
    "x = np.ones([2, 2], dtype=int)\n",
    "print(x)"
   ]
  },
  {
   "cell_type": "code",
   "execution_count": null,
   "metadata": {},
   "outputs": [],
   "source": []
  }
 ],
 "metadata": {
  "kernelspec": {
   "display_name": "Python 3",
   "language": "python",
   "name": "python3"
  },
  "language_info": {
   "codemirror_mode": {
    "name": "ipython",
    "version": 3
   },
   "file_extension": ".py",
   "mimetype": "text/x-python",
   "name": "python",
   "nbconvert_exporter": "python",
   "pygments_lexer": "ipython3",
   "version": "3.8.3"
  }
 },
 "nbformat": 4,
 "nbformat_minor": 4
}
