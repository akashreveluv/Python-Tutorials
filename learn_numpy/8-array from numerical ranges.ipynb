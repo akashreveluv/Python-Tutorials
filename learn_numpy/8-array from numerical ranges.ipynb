{
 "cells": [
  {
   "cell_type": "code",
   "execution_count": 1,
   "metadata": {},
   "outputs": [
    {
     "name": "stdout",
     "output_type": "stream",
     "text": [
      "------------------P1 Example-1------------------------\n",
      "[0 1 2 3 4]\n",
      "------------------P1 Example-2------------------------\n",
      "[0. 1. 2. 3. 4.]\n",
      "------------------P1 Example-2------------------------\n",
      "[10 12 14 16 18]\n",
      "------------------P2 Example-1------------------------\n",
      "[10.  12.5 15.  17.5 20. ]\n",
      "------------------P2 Example-2------------------------\n",
      "[10. 12. 14. 16. 18.]\n",
      "------------------P2 Example-3------------------------\n",
      "(array([1.  , 1.25, 1.5 , 1.75, 2.  ]), 0.25)\n",
      "------------------P3 Example-1------------------------\n",
      "[  100.           166.81005372   278.25594022   464.15888336\n",
      "   774.26368268  1291.54966501  2154.43469003  3593.8136638\n",
      "  5994.84250319 10000.        ]\n",
      "------------------P3 Example-2------------------------\n",
      "[   2.    4.    8.   16.   32.   64.  128.  256.  512. 1024.]\n"
     ]
    }
   ],
   "source": [
    "import numpy as np\n",
    "\n",
    "\"\"\"numpy.arange\n",
    "This function returns an ndarray object containing evenly spaced values within a given range. \n",
    "The format of the function is as follows −\n",
    "numpy.arange(start, stop, step, dtype)\"\"\"\n",
    "\n",
    "print(\"------------------P1 Example-1------------------------\")\n",
    "x = np.arange(5)\n",
    "print(x)\n",
    "\n",
    "print(\"------------------P1 Example-2------------------------\")\n",
    "# dtype set\n",
    "x = np.arange(5, dtype=float)\n",
    "print(x)\n",
    "\n",
    "print(\"------------------P1 Example-2------------------------\")\n",
    "# start and stop parameters set\n",
    "x = np.arange(10, 20, 2)\n",
    "print(x)\n",
    "\n",
    "\"\"\"numpy.linspace\n",
    "This function is similar to arange() function. In this function, instead of step size, \n",
    "the number of evenly spaced values between the interval is specified. \n",
    "The usage of this function is as follows −\n",
    "numpy.linspace(start, stop, num, endpoint, retstep, dtype)\"\"\"\n",
    "\n",
    "print(\"------------------P2 Example-1------------------------\")\n",
    "x = np.linspace(10, 20, 5)\n",
    "print(x)\n",
    "\n",
    "print(\"------------------P2 Example-2------------------------\")\n",
    "# endpoint set to false\n",
    "x = np.linspace(10, 20, 5, endpoint=False)\n",
    "# endpoint True by default, hence the stop value is included in the sequence. If false, it is not included.\n",
    "print(x)\n",
    "\n",
    "print(\"------------------P2 Example-3------------------------\")\n",
    "# find retstep value\n",
    "# retstep - If true, returns samples and step between the consecutive numbers\n",
    "x = np.linspace(1, 2, 5, retstep=True)  # retstep here is 0.25\n",
    "print(x)\n",
    "\n",
    "\"\"\"numpy.logspace\n",
    "This function returns an ndarray object that contains the numbers that are evenly spaced on a log scale. \n",
    "Start and stop endpoints of the scale are indices of the base, usually 10.\n",
    "numpy.logspace(start, stop, num, endpoint, base, dtype)\"\"\"\n",
    "\n",
    "print(\"------------------P3 Example-1------------------------\")\n",
    "# default base is 10\n",
    "a = np.logspace(2, 4, num=10)\n",
    "print(a)\n",
    "\n",
    "print(\"------------------P3 Example-2------------------------\")\n",
    "# set base of log space to 2\n",
    "a = np.logspace(1, 10, num=10, base=2)\n",
    "print(a)"
   ]
  },
  {
   "cell_type": "code",
   "execution_count": null,
   "metadata": {},
   "outputs": [],
   "source": []
  }
 ],
 "metadata": {
  "kernelspec": {
   "display_name": "Python 3",
   "language": "python",
   "name": "python3"
  },
  "language_info": {
   "codemirror_mode": {
    "name": "ipython",
    "version": 3
   },
   "file_extension": ".py",
   "mimetype": "text/x-python",
   "name": "python",
   "nbconvert_exporter": "python",
   "pygments_lexer": "ipython3",
   "version": "3.8.3"
  }
 },
 "nbformat": 4,
 "nbformat_minor": 4
}
