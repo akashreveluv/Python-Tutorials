{
 "cells": [
  {
   "cell_type": "markdown",
   "metadata": {},
   "source": [
    "# Sparse data structures\n",
    "Pandas provides data structures for efficiently storing sparse data. These are not necessarily sparse in the typical “mostly 0”. Rather, you can view these objects as being “compressed” where any data matching a specific value (NaN / missing value, though any value can be chosen, including 0) is omitted. The compressed values are not actually stored in the array."
   ]
  },
  {
   "cell_type": "code",
   "execution_count": 3,
   "metadata": {},
   "outputs": [
    {
     "name": "stdout",
     "output_type": "stream",
     "text": [
      "0    2.205386\n",
      "1   -0.203786\n",
      "2         NaN\n",
      "3         NaN\n",
      "4         NaN\n",
      "5         NaN\n",
      "6         NaN\n",
      "7         NaN\n",
      "8   -1.358803\n",
      "9    1.111127\n",
      "dtype: Sparse[float64, nan]\n"
     ]
    }
   ],
   "source": [
    "import pandas as pd\n",
    "import numpy as np\n",
    "\n",
    "ts = pd.Series(np.random.randn(10))\n",
    "ts[2:-2] = np.nan\n",
    "sts = pd.Series(pd.arrays.SparseArray(ts))\n",
    "print(sts)"
   ]
  },
  {
   "cell_type": "markdown",
   "metadata": {},
   "source": [
    "Let us now assume you had a large NA DataFrame and execute the following code −"
   ]
  },
  {
   "cell_type": "code",
   "execution_count": 9,
   "metadata": {},
   "outputs": [
    {
     "name": "stdout",
     "output_type": "stream",
     "text": [
      "    0   1   2   3\n",
      "0 NaN NaN NaN NaN\n",
      "1 NaN NaN NaN NaN\n",
      "2 NaN NaN NaN NaN\n",
      "3 NaN NaN NaN NaN\n",
      "4 NaN NaN NaN NaN\n"
     ]
    }
   ],
   "source": [
    "df = pd.DataFrame(np.random.randn(10000, 4))\n",
    "\n",
    "df.iloc[:9998] = np.nan\n",
    "\n",
    "sdf = df.astype(pd.SparseDtype(\"float\", np.nan))\n",
    "\n",
    "print(sdf.head())"
   ]
  },
  {
   "cell_type": "code",
   "execution_count": 10,
   "metadata": {},
   "outputs": [
    {
     "name": "stdout",
     "output_type": "stream",
     "text": [
      "0    Sparse[float64, nan]\n",
      "1    Sparse[float64, nan]\n",
      "2    Sparse[float64, nan]\n",
      "3    Sparse[float64, nan]\n",
      "dtype: object\n"
     ]
    }
   ],
   "source": [
    "print(sdf.dtypes)"
   ]
  },
  {
   "cell_type": "code",
   "execution_count": 11,
   "metadata": {},
   "outputs": [
    {
     "name": "stdout",
     "output_type": "stream",
     "text": [
      "0.0002\n"
     ]
    }
   ],
   "source": [
    "print(sdf.sparse.density)"
   ]
  },
  {
   "cell_type": "markdown",
   "metadata": {},
   "source": [
    "# SparseArray\n",
    "arrays.SparseArray is a ExtensionArray for storing an array of sparse values (see dtypes for more on extension arrays). It is a 1-dimensional ndarray-like object storing only values distinct from the fill_value:"
   ]
  },
  {
   "cell_type": "code",
   "execution_count": 12,
   "metadata": {},
   "outputs": [
    {
     "name": "stdout",
     "output_type": "stream",
     "text": [
      "[-0.6276816320815497, 0.82141575208587, nan, nan, nan, 1.1543554931992392, 2.010552362696765, nan, 0.5907138009484671, -1.1607948246680355]\n",
      "Fill: nan\n",
      "IntIndex\n",
      "Indices: array([0, 1, 5, 6, 8, 9])\n",
      "\n"
     ]
    }
   ],
   "source": [
    "arr = np.random.randn(10)\n",
    "arr[2:5] = np.nan\n",
    "arr[7:8] = np.nan\n",
    "sparr = pd.arrays.SparseArray(arr)\n",
    "\n",
    "print(sparr)"
   ]
  },
  {
   "cell_type": "markdown",
   "metadata": {},
   "source": [
    "A sparse array can be converted to a regular (dense) ndarray with numpy.asarray()"
   ]
  },
  {
   "cell_type": "code",
   "execution_count": 13,
   "metadata": {},
   "outputs": [
    {
     "name": "stdout",
     "output_type": "stream",
     "text": [
      "[-0.62768163  0.82141575         nan         nan         nan  1.15435549\n",
      "  2.01055236         nan  0.5907138  -1.16079482]\n"
     ]
    }
   ],
   "source": [
    "print(np.asarray(sparr))"
   ]
  },
  {
   "cell_type": "markdown",
   "metadata": {},
   "source": [
    "# Sparse calculation\n",
    "You can apply NumPy ufuncs to SparseArray and get a SparseArray as a result."
   ]
  },
  {
   "cell_type": "code",
   "execution_count": 17,
   "metadata": {},
   "outputs": [
    {
     "name": "stdout",
     "output_type": "stream",
     "text": [
      "[1.0, nan, nan, 2.0, nan]\n",
      "Fill: nan\n",
      "IntIndex\n",
      "Indices: array([0, 3])\n",
      "\n"
     ]
    }
   ],
   "source": [
    "arr = pd.arrays.SparseArray([1., np.nan, np.nan, -2., np.nan])\n",
    "\n",
    "print(np.abs(arr))\n",
    "\n",
    "# take absolute abs (make float and negetive value to int & positive), so -2. is 2"
   ]
  },
  {
   "cell_type": "markdown",
   "metadata": {},
   "source": [
    "The ufunc is also applied to fill_value. This is needed to get the correct dense result."
   ]
  },
  {
   "cell_type": "code",
   "execution_count": 18,
   "metadata": {},
   "outputs": [
    {
     "name": "stdout",
     "output_type": "stream",
     "text": [
      "[1.0, 1, 1, 2.0, 1]\n",
      "Fill: 1\n",
      "IntIndex\n",
      "Indices: array([0, 3])\n",
      "\n"
     ]
    }
   ],
   "source": [
    "arr = pd.arrays.SparseArray([1., -1, -1, -2., -1], fill_value=-1)\n",
    "\n",
    "print(np.abs(arr))"
   ]
  },
  {
   "cell_type": "code",
   "execution_count": 19,
   "metadata": {},
   "outputs": [
    {
     "name": "stdout",
     "output_type": "stream",
     "text": [
      "[1. 1. 1. 2. 1.]\n"
     ]
    }
   ],
   "source": [
    "print(np.abs(arr).to_dense())"
   ]
  },
  {
   "cell_type": "markdown",
   "metadata": {},
   "source": [
    "# SparseArray & to_dense"
   ]
  },
  {
   "cell_type": "code",
   "execution_count": 23,
   "metadata": {},
   "outputs": [
    {
     "name": "stdout",
     "output_type": "stream",
     "text": [
      "[19.5, 16.8, nan, 22.78, nan, 20.124, nan, 18.1002, nan]\n",
      "Fill: nan\n",
      "IntIndex\n",
      "Indices: array([0, 1, 3, 5, 7])\n",
      "\n"
     ]
    }
   ],
   "source": [
    "# importing pandas as pd \n",
    "import pandas as pd \n",
    "  \n",
    "# Creating the Series in sparse \n",
    "sr = pd.arrays.SparseArray([19.5, 16.8, None, 22.78, None, 20.124, None, 18.1002, None]) \n",
    "  \n",
    "# Print the series \n",
    "print(sr)"
   ]
  },
  {
   "cell_type": "code",
   "execution_count": 26,
   "metadata": {},
   "outputs": [
    {
     "name": "stdout",
     "output_type": "stream",
     "text": [
      "[19.5    16.8        nan 22.78       nan 20.124      nan 18.1002     nan]\n"
     ]
    }
   ],
   "source": [
    "# convert to dense object \n",
    "print(sr.to_dense())"
   ]
  },
  {
   "cell_type": "code",
   "execution_count": null,
   "metadata": {},
   "outputs": [],
   "source": []
  }
 ],
 "metadata": {
  "kernelspec": {
   "display_name": "Python 3",
   "language": "python",
   "name": "python3"
  },
  "language_info": {
   "codemirror_mode": {
    "name": "ipython",
    "version": 3
   },
   "file_extension": ".py",
   "mimetype": "text/x-python",
   "name": "python",
   "nbconvert_exporter": "python",
   "pygments_lexer": "ipython3",
   "version": "3.8.3"
  }
 },
 "nbformat": 4,
 "nbformat_minor": 4
}
