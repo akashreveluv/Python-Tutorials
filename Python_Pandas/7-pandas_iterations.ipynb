{
 "cells": [
  {
   "cell_type": "markdown",
   "metadata": {},
   "source": [
    "# To iterate over the rows of the DataFrame, we can use the following functions:\n",
    "\n",
    "iteritems() − to iterate over the (key,value) pairs\n",
    "\n",
    "iterrows() − iterate over the rows as (index,series) pairs\n",
    "\n",
    "itertuples() − iterate over the rows as namedtuples"
   ]
  },
  {
   "cell_type": "markdown",
   "metadata": {},
   "source": [
    "# iteritems()\n",
    "Iterates over each column as key, value pair with label as key and column value as a Series object."
   ]
  },
  {
   "cell_type": "code",
   "execution_count": 8,
   "metadata": {},
   "outputs": [
    {
     "name": "stdout",
     "output_type": "stream",
     "text": [
      "Name \n",
      " 0        Tom\n",
      "1      James\n",
      "2      Ricky\n",
      "3        Vin\n",
      "4      Steve\n",
      "5      Smith\n",
      "6       Jack\n",
      "7        Lee\n",
      "8      David\n",
      "9     Gasper\n",
      "10    Betina\n",
      "11    Andres\n",
      "Name: Name, dtype: object\n",
      "Age \n",
      " 0     25\n",
      "1     26\n",
      "2     25\n",
      "3     23\n",
      "4     30\n",
      "5     29\n",
      "6     23\n",
      "7     34\n",
      "8     40\n",
      "9     30\n",
      "10    51\n",
      "11    46\n",
      "Name: Age, dtype: int64\n",
      "Rating \n",
      " 0     4.23\n",
      "1     3.24\n",
      "2     3.98\n",
      "3     2.56\n",
      "4     3.20\n",
      "5     4.60\n",
      "6     3.80\n",
      "7     3.78\n",
      "8     2.98\n",
      "9     4.80\n",
      "10    4.10\n",
      "11    3.65\n",
      "Name: Rating, dtype: float64\n"
     ]
    }
   ],
   "source": [
    "import pandas as pd\n",
    "import numpy as np\n",
    "\n",
    "d = {'Name':pd.Series(['Tom','James','Ricky','Vin','Steve','Smith','Jack',\n",
    "   'Lee','David','Gasper','Betina','Andres']),\n",
    "   'Age':pd.Series([25,26,25,23,30,29,23,34,40,30,51,46]),\n",
    "   'Rating':pd.Series([4.23,3.24,3.98,2.56,3.20,4.6,3.8,3.78,2.98,4.80,4.10,3.65])\n",
    "}\n",
    " \n",
    "df = pd.DataFrame(d)\n",
    "for key,value in df.iteritems():\n",
    "    print(key,\"\\n\",value)"
   ]
  },
  {
   "cell_type": "markdown",
   "metadata": {},
   "source": [
    "# iterrows()\n",
    "iterrows() returns the iterator yielding each index value along with a series containing the data in each row."
   ]
  },
  {
   "cell_type": "code",
   "execution_count": 9,
   "metadata": {},
   "outputs": [
    {
     "name": "stdout",
     "output_type": "stream",
     "text": [
      "0 \n",
      " Name       Tom\n",
      "Age         25\n",
      "Rating    4.23\n",
      "Name: 0, dtype: object\n",
      "1 \n",
      " Name      James\n",
      "Age          26\n",
      "Rating     3.24\n",
      "Name: 1, dtype: object\n",
      "2 \n",
      " Name      Ricky\n",
      "Age          25\n",
      "Rating     3.98\n",
      "Name: 2, dtype: object\n",
      "3 \n",
      " Name       Vin\n",
      "Age         23\n",
      "Rating    2.56\n",
      "Name: 3, dtype: object\n",
      "4 \n",
      " Name      Steve\n",
      "Age          30\n",
      "Rating      3.2\n",
      "Name: 4, dtype: object\n",
      "5 \n",
      " Name      Smith\n",
      "Age          29\n",
      "Rating      4.6\n",
      "Name: 5, dtype: object\n",
      "6 \n",
      " Name      Jack\n",
      "Age         23\n",
      "Rating     3.8\n",
      "Name: 6, dtype: object\n",
      "7 \n",
      " Name       Lee\n",
      "Age         34\n",
      "Rating    3.78\n",
      "Name: 7, dtype: object\n",
      "8 \n",
      " Name      David\n",
      "Age          40\n",
      "Rating     2.98\n",
      "Name: 8, dtype: object\n",
      "9 \n",
      " Name      Gasper\n",
      "Age           30\n",
      "Rating       4.8\n",
      "Name: 9, dtype: object\n",
      "10 \n",
      " Name      Betina\n",
      "Age           51\n",
      "Rating       4.1\n",
      "Name: 10, dtype: object\n",
      "11 \n",
      " Name      Andres\n",
      "Age           46\n",
      "Rating      3.65\n",
      "Name: 11, dtype: object\n"
     ]
    }
   ],
   "source": [
    "import pandas as pd\n",
    "import numpy as np\n",
    "\n",
    "d = {'Name':pd.Series(['Tom','James','Ricky','Vin','Steve','Smith','Jack',\n",
    "   'Lee','David','Gasper','Betina','Andres']),\n",
    "   'Age':pd.Series([25,26,25,23,30,29,23,34,40,30,51,46]),\n",
    "   'Rating':pd.Series([4.23,3.24,3.98,2.56,3.20,4.6,3.8,3.78,2.98,4.80,4.10,3.65])\n",
    "}\n",
    " \n",
    "df = pd.DataFrame(d)\n",
    "for row_index,row in df.iterrows():\n",
    "    print(row_index,\"\\n\",row)"
   ]
  },
  {
   "cell_type": "markdown",
   "metadata": {},
   "source": [
    "# itertuples()\n",
    "itertuples() method will return an iterator yielding a named tuple for each row in the DataFrame. The first element of the tuple will be the row’s corresponding index value, while the remaining values are the row values."
   ]
  },
  {
   "cell_type": "code",
   "execution_count": 10,
   "metadata": {},
   "outputs": [
    {
     "name": "stdout",
     "output_type": "stream",
     "text": [
      "Pandas(Index=0, Name='Tom', Age=25, Rating=4.23)\n",
      "Pandas(Index=1, Name='James', Age=26, Rating=3.24)\n",
      "Pandas(Index=2, Name='Ricky', Age=25, Rating=3.98)\n",
      "Pandas(Index=3, Name='Vin', Age=23, Rating=2.56)\n",
      "Pandas(Index=4, Name='Steve', Age=30, Rating=3.2)\n",
      "Pandas(Index=5, Name='Smith', Age=29, Rating=4.6)\n",
      "Pandas(Index=6, Name='Jack', Age=23, Rating=3.8)\n",
      "Pandas(Index=7, Name='Lee', Age=34, Rating=3.78)\n",
      "Pandas(Index=8, Name='David', Age=40, Rating=2.98)\n",
      "Pandas(Index=9, Name='Gasper', Age=30, Rating=4.8)\n",
      "Pandas(Index=10, Name='Betina', Age=51, Rating=4.1)\n",
      "Pandas(Index=11, Name='Andres', Age=46, Rating=3.65)\n"
     ]
    }
   ],
   "source": [
    "import pandas as pd\n",
    "import numpy as np\n",
    "\n",
    "d = {'Name':pd.Series(['Tom','James','Ricky','Vin','Steve','Smith','Jack',\n",
    "   'Lee','David','Gasper','Betina','Andres']),\n",
    "   'Age':pd.Series([25,26,25,23,30,29,23,34,40,30,51,46]),\n",
    "   'Rating':pd.Series([4.23,3.24,3.98,2.56,3.20,4.6,3.8,3.78,2.98,4.80,4.10,3.65])\n",
    "}\n",
    " \n",
    "df = pd.DataFrame(d)\n",
    "for row in df.itertuples():\n",
    "    print(row)"
   ]
  },
  {
   "cell_type": "code",
   "execution_count": null,
   "metadata": {},
   "outputs": [],
   "source": []
  }
 ],
 "metadata": {
  "kernelspec": {
   "display_name": "Python 3",
   "language": "python",
   "name": "python3"
  },
  "language_info": {
   "codemirror_mode": {
    "name": "ipython",
    "version": 3
   },
   "file_extension": ".py",
   "mimetype": "text/x-python",
   "name": "python",
   "nbconvert_exporter": "python",
   "pygments_lexer": "ipython3",
   "version": "3.8.3"
  }
 },
 "nbformat": 4,
 "nbformat_minor": 4
}
