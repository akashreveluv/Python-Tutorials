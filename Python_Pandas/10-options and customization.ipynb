{
 "cells": [
  {
   "cell_type": "markdown",
   "metadata": {},
   "source": [
    "# Pandas provide API to customize some aspects of its behavior, display is being mostly used.\n",
    "\n",
    "The API is composed of five relevant functions. They are −\n",
    "\n",
    "get_option()\n",
    "\n",
    "set_option()\n",
    "\n",
    "reset_option()\n",
    "\n",
    "option_context()\n",
    "\n",
    "Let us now understand how the functions operate."
   ]
  },
  {
   "cell_type": "markdown",
   "metadata": {},
   "source": [
    "# get_option(param)\n",
    "get_option takes a single parameter and returns the value as given in the output below −\n",
    "\n",
    "# display.max_rows\n",
    "Displays the default number of value. Interpreter reads this value and displays the rows with this value as upper limit to display."
   ]
  },
  {
   "cell_type": "code",
   "execution_count": 2,
   "metadata": {},
   "outputs": [
    {
     "name": "stdout",
     "output_type": "stream",
     "text": [
      "60\n"
     ]
    }
   ],
   "source": [
    "import pandas as pd\n",
    "print(pd.get_option(\"display.max_rows\"))"
   ]
  },
  {
   "cell_type": "markdown",
   "metadata": {},
   "source": [
    "# display.max_columns\n",
    "Displays the default number of value. Interpreter reads this value and displays the rows with this value as upper limit to display."
   ]
  },
  {
   "cell_type": "code",
   "execution_count": 3,
   "metadata": {},
   "outputs": [
    {
     "name": "stdout",
     "output_type": "stream",
     "text": [
      "20\n"
     ]
    }
   ],
   "source": [
    "import pandas as pd\n",
    "print(pd.get_option(\"display.max_columns\"))"
   ]
  },
  {
   "cell_type": "markdown",
   "metadata": {},
   "source": [
    "Here, 60 and 20 are the default configuration parameter values."
   ]
  },
  {
   "cell_type": "markdown",
   "metadata": {},
   "source": [
    "# set_option(param,value)\n",
    "set_option takes two arguments and sets the value to the parameter as shown below −\n",
    "\n",
    "# display.max_rows\n",
    "Using set_option(), we can change the default number of rows to be displayed."
   ]
  },
  {
   "cell_type": "code",
   "execution_count": 4,
   "metadata": {},
   "outputs": [
    {
     "name": "stdout",
     "output_type": "stream",
     "text": [
      "80\n"
     ]
    }
   ],
   "source": [
    "import pandas as pd\n",
    "\n",
    "pd.set_option(\"display.max_rows\",80)\n",
    "\n",
    "print(pd.get_option(\"display.max_rows\"))"
   ]
  },
  {
   "cell_type": "markdown",
   "metadata": {},
   "source": [
    "# display.max_columns\n",
    "Using set_option(), we can change the default number of rows to be displayed."
   ]
  },
  {
   "cell_type": "code",
   "execution_count": 5,
   "metadata": {},
   "outputs": [
    {
     "name": "stdout",
     "output_type": "stream",
     "text": [
      "30\n"
     ]
    }
   ],
   "source": [
    "import pandas as pd\n",
    "\n",
    "pd.set_option(\"display.max_columns\",30)\n",
    "\n",
    "print(pd.get_option(\"display.max_columns\"))"
   ]
  },
  {
   "cell_type": "markdown",
   "metadata": {},
   "source": [
    "# reset_option(param)\n",
    "reset_option takes an argument and sets the value back to the default value.\n",
    "\n",
    "# display.max_rows\n",
    "Using reset_option(), we can change the value back to the default number of rows to be displayed."
   ]
  },
  {
   "cell_type": "code",
   "execution_count": 6,
   "metadata": {},
   "outputs": [
    {
     "name": "stdout",
     "output_type": "stream",
     "text": [
      "60\n"
     ]
    }
   ],
   "source": [
    "import pandas as pd\n",
    "\n",
    "pd.reset_option(\"display.max_rows\")\n",
    "print(pd.get_option(\"display.max_rows\"))"
   ]
  },
  {
   "cell_type": "markdown",
   "metadata": {},
   "source": [
    "# option_context()\n",
    "option_context context manager is used to set the option in with statement temporarily. Option values are restored automatically when you exit the with block −\n",
    "\n",
    "# display.max_rows\n",
    "Using option_context(), we can set the value temporarily."
   ]
  },
  {
   "cell_type": "code",
   "execution_count": 9,
   "metadata": {},
   "outputs": [
    {
     "name": "stdout",
     "output_type": "stream",
     "text": [
      "10\n",
      "60\n"
     ]
    }
   ],
   "source": [
    "import pandas as pd\n",
    "with pd.option_context(\"display.max_rows\",10):\n",
    "    print(pd.get_option(\"display.max_rows\"))\n",
    "print(pd.get_option(\"display.max_rows\"))"
   ]
  },
  {
   "cell_type": "markdown",
   "metadata": {},
   "source": [
    "# display.max_columns\n",
    "Using option_context(), we can set the value temporarily."
   ]
  },
  {
   "cell_type": "code",
   "execution_count": 11,
   "metadata": {},
   "outputs": [
    {
     "name": "stdout",
     "output_type": "stream",
     "text": [
      "15\n",
      "30\n"
     ]
    }
   ],
   "source": [
    "import pandas as pd\n",
    "with pd.option_context(\"display.max_columns\",15):\n",
    "    print(pd.get_option(\"display.max_columns\"))\n",
    "print(pd.get_option(\"display.max_columns\"))"
   ]
  }
 ],
 "metadata": {
  "kernelspec": {
   "display_name": "Python 3",
   "language": "python",
   "name": "python3"
  },
  "language_info": {
   "codemirror_mode": {
    "name": "ipython",
    "version": 3
   },
   "file_extension": ".py",
   "mimetype": "text/x-python",
   "name": "python",
   "nbconvert_exporter": "python",
   "pygments_lexer": "ipython3",
   "version": "3.8.3"
  }
 },
 "nbformat": 4,
 "nbformat_minor": 4
}
