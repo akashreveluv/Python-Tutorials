{
 "cells": [
  {
   "cell_type": "markdown",
   "metadata": {},
   "source": [
    "# Create a Range of Dates\n",
    "Using the date.range() function by specifying the periods and the frequency, we can create the date series. By default, the frequency of range is Days."
   ]
  },
  {
   "cell_type": "code",
   "execution_count": 3,
   "metadata": {},
   "outputs": [
    {
     "name": "stdout",
     "output_type": "stream",
     "text": [
      "DatetimeIndex(['2020-01-01', '2020-01-02', '2020-01-03', '2020-01-04',\n",
      "               '2020-01-05'],\n",
      "              dtype='datetime64[ns]', freq='D')\n"
     ]
    }
   ],
   "source": [
    "import pandas as pd\n",
    "\n",
    "print(pd.date_range('1/1/2020', periods=5))"
   ]
  },
  {
   "cell_type": "markdown",
   "metadata": {},
   "source": [
    "# Change the Date Frequency"
   ]
  },
  {
   "cell_type": "code",
   "execution_count": 4,
   "metadata": {},
   "outputs": [
    {
     "name": "stdout",
     "output_type": "stream",
     "text": [
      "DatetimeIndex(['2020-01-31', '2020-02-29', '2020-03-31', '2020-04-30',\n",
      "               '2020-05-31'],\n",
      "              dtype='datetime64[ns]', freq='M')\n"
     ]
    }
   ],
   "source": [
    "import pandas as pd\n",
    "\n",
    "print(pd.date_range('1/1/2020', periods=5,freq='M'))"
   ]
  },
  {
   "cell_type": "markdown",
   "metadata": {},
   "source": [
    "# bdate_range\n",
    "bdate_range() stands for business date ranges. Unlike date_range(), it excludes Saturday and Sunday."
   ]
  },
  {
   "cell_type": "code",
   "execution_count": 9,
   "metadata": {},
   "outputs": [
    {
     "name": "stdout",
     "output_type": "stream",
     "text": [
      "DatetimeIndex(['2020-08-07', '2020-08-10', '2020-08-11', '2020-08-12',\n",
      "               '2020-08-13'],\n",
      "              dtype='datetime64[ns]', freq='B')\n"
     ]
    }
   ],
   "source": [
    "import pandas as pd\n",
    "\n",
    "print(pd.bdate_range('8/7/2020', periods=5))\n",
    "\n",
    "# Observe, after 7th August, the date jumps to 10th August excluding 8th and 9th."
   ]
  },
  {
   "cell_type": "code",
   "execution_count": 10,
   "metadata": {},
   "outputs": [
    {
     "name": "stdout",
     "output_type": "stream",
     "text": [
      "DatetimeIndex(['2020-01-01', '2020-01-02', '2020-01-03', '2020-01-04',\n",
      "               '2020-01-05', '2020-01-06', '2020-01-07', '2020-01-08',\n",
      "               '2020-01-09', '2020-01-10', '2020-01-11', '2020-01-12',\n",
      "               '2020-01-13', '2020-01-14', '2020-01-15', '2020-01-16',\n",
      "               '2020-01-17', '2020-01-18', '2020-01-19', '2020-01-20',\n",
      "               '2020-01-21', '2020-01-22', '2020-01-23', '2020-01-24',\n",
      "               '2020-01-25', '2020-01-26', '2020-01-27', '2020-01-28',\n",
      "               '2020-01-29', '2020-01-30', '2020-01-31'],\n",
      "              dtype='datetime64[ns]', freq='D')\n",
      "DatetimeIndex(['2020-01-01', '2020-01-02', '2020-01-03', '2020-01-06',\n",
      "               '2020-01-07', '2020-01-08', '2020-01-09', '2020-01-10',\n",
      "               '2020-01-13', '2020-01-14', '2020-01-15', '2020-01-16',\n",
      "               '2020-01-17', '2020-01-20', '2020-01-21', '2020-01-22',\n",
      "               '2020-01-23', '2020-01-24', '2020-01-27', '2020-01-28',\n",
      "               '2020-01-29', '2020-01-30', '2020-01-31'],\n",
      "              dtype='datetime64[ns]', freq='B')\n"
     ]
    },
    {
     "name": "stderr",
     "output_type": "stream",
     "text": [
      "<ipython-input-10-c0250173060e>:2: FutureWarning: The pandas.datetime class is deprecated and will be removed from pandas in a future version. Import from datetime module instead.\n",
      "  start = pd.datetime(2020, 1, 1)\n",
      "<ipython-input-10-c0250173060e>:3: FutureWarning: The pandas.datetime class is deprecated and will be removed from pandas in a future version. Import from datetime module instead.\n",
      "  end = pd.datetime(2020, 1, 31)\n"
     ]
    }
   ],
   "source": [
    "import pandas as pd\n",
    "start = pd.datetime(2020, 1, 1)\n",
    "end = pd.datetime(2020, 1, 31)\n",
    "\n",
    "print(pd.date_range(start, end))\n",
    "print(pd.bdate_range(start, end))"
   ]
  },
  {
   "cell_type": "code",
   "execution_count": 11,
   "metadata": {},
   "outputs": [
    {
     "name": "stdout",
     "output_type": "stream",
     "text": [
      "DatetimeIndex(['2020-08-01', '2020-08-02', '2020-08-03', '2020-08-04',\n",
      "               '2020-08-05', '2020-08-06', '2020-08-07', '2020-08-08',\n",
      "               '2020-08-09', '2020-08-10', '2020-08-11', '2020-08-12',\n",
      "               '2020-08-13', '2020-08-14', '2020-08-15', '2020-08-16',\n",
      "               '2020-08-17', '2020-08-18', '2020-08-19', '2020-08-20',\n",
      "               '2020-08-21', '2020-08-22', '2020-08-23', '2020-08-24',\n",
      "               '2020-08-25', '2020-08-26', '2020-08-27', '2020-08-28',\n",
      "               '2020-08-29', '2020-08-30', '2020-08-31'],\n",
      "              dtype='datetime64[ns]', freq='D')\n",
      "DatetimeIndex(['2020-08-03', '2020-08-04', '2020-08-05', '2020-08-06',\n",
      "               '2020-08-07', '2020-08-10', '2020-08-11', '2020-08-12',\n",
      "               '2020-08-13', '2020-08-14', '2020-08-17', '2020-08-18',\n",
      "               '2020-08-19', '2020-08-20', '2020-08-21', '2020-08-24',\n",
      "               '2020-08-25', '2020-08-26', '2020-08-27', '2020-08-28',\n",
      "               '2020-08-31'],\n",
      "              dtype='datetime64[ns]', freq='B')\n"
     ]
    }
   ],
   "source": [
    "import pandas as pd\n",
    "\n",
    "print(pd.date_range('8/1/2020', '8/31/2020'))\n",
    "print(pd.bdate_range('8/1/2020', '8/31/2020'))"
   ]
  },
  {
   "cell_type": "code",
   "execution_count": null,
   "metadata": {},
   "outputs": [],
   "source": []
  }
 ],
 "metadata": {
  "kernelspec": {
   "display_name": "Python 3",
   "language": "python",
   "name": "python3"
  },
  "language_info": {
   "codemirror_mode": {
    "name": "ipython",
    "version": 3
   },
   "file_extension": ".py",
   "mimetype": "text/x-python",
   "name": "python",
   "nbconvert_exporter": "python",
   "pygments_lexer": "ipython3",
   "version": "3.8.3"
  }
 },
 "nbformat": 4,
 "nbformat_minor": 4
}
