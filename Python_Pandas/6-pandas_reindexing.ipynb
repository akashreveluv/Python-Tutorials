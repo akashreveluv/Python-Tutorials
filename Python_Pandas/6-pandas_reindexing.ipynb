{
 "cells": [
  {
   "cell_type": "markdown",
   "metadata": {},
   "source": [
    "# Reindexing changes the row labels and column labels of a DataFrame. To reindex means to conform the data to match a given set of labels along a particular axis.\n",
    "\n",
    "Multiple operations can be accomplished through indexing like −\n",
    "\n",
    "Reorder the existing data to match a new set of labels.\n",
    "\n",
    "Insert missing value (NA) markers in label locations where no data for the label existed.\n",
    "\n",
    "# Reindexing the Rows\n",
    "One can reindex a single row or multiple rows by using reindex() method. Default values in the new index that are not present in the dataframe are assigned NaN."
   ]
  },
  {
   "cell_type": "code",
   "execution_count": 40,
   "metadata": {},
   "outputs": [
    {
     "name": "stdout",
     "output_type": "stream",
     "text": [
      "          a         b         c         d         e\n",
      "A  0.443144  0.863117  0.967090  0.572074  0.373850\n",
      "B  0.082602  0.309696  0.336453  0.501487  0.736750\n",
      "C  0.195776  0.630415  0.680766  0.283206  0.032514\n",
      "D  0.034231  0.982406  0.444418  0.614612  0.644616\n",
      "E  0.090357  0.325015  0.066323  0.938246  0.621118\n",
      "\n",
      "\n",
      "Dataframe after reindexing rows: \n",
      "           a         b         c         d         e\n",
      "B  0.082602  0.309696  0.336453  0.501487  0.736750\n",
      "D  0.034231  0.982406  0.444418  0.614612  0.644616\n",
      "A  0.443144  0.863117  0.967090  0.572074  0.373850\n",
      "C  0.195776  0.630415  0.680766  0.283206  0.032514\n",
      "E  0.090357  0.325015  0.066323  0.938246  0.621118\n"
     ]
    }
   ],
   "source": [
    "# import numpy and pandas module \n",
    "import pandas as pd \n",
    "import numpy as np \n",
    "  \n",
    "column=['a','b','c','d','e'] \n",
    "index=['A','B','C','D','E'] \n",
    "  \n",
    "# create a dataframe of random values of array \n",
    "df1 = pd.DataFrame(np.random.rand(5,5),  \n",
    "            columns=column, index=index) \n",
    "  \n",
    "print(df1) \n",
    "  \n",
    "print('\\n\\nDataframe after reindexing rows: \\n', df1.reindex(['B', 'D', 'A', 'C', 'E']))"
   ]
  },
  {
   "cell_type": "code",
   "execution_count": 10,
   "metadata": {},
   "outputs": [
    {
     "name": "stdout",
     "output_type": "stream",
     "text": [
      "          a         b         c         d         e\n",
      "U       NaN       NaN       NaN       NaN       NaN\n",
      "A  0.307343  0.136659  0.086458  0.888116  0.365017\n",
      "B  0.021879  0.463088  0.032796  0.906684  0.771560\n",
      "C  0.054575  0.149609  0.508707  0.524589  0.590389\n",
      "Z       NaN       NaN       NaN       NaN       NaN\n"
     ]
    }
   ],
   "source": [
    "# import numpy and pandas module \n",
    "import pandas as pd \n",
    "import numpy as np \n",
    "  \n",
    "column = ['a', 'b', 'c', 'd', 'e'] \n",
    "index = ['A', 'B', 'C', 'D', 'E'] \n",
    "   \n",
    "# create a dataframe of random values of array  \n",
    "df1 = pd.DataFrame(np.random.rand(5, 5),  \n",
    "        columns = column, index = index) \n",
    "  \n",
    "# create the new index for rows \n",
    "new_index =['U', 'A', 'B', 'C', 'Z'] \n",
    "  \n",
    "print(df1.reindex(new_index))"
   ]
  },
  {
   "cell_type": "markdown",
   "metadata": {},
   "source": [
    "# Reindexing the columns using axis keyword\n",
    "One can reindex a single column or multiple columns by using reindex() method and by specifying the axis we want to reindex. Default values in the new index that are not present in the dataframe are assigned NaN."
   ]
  },
  {
   "cell_type": "code",
   "execution_count": 13,
   "metadata": {},
   "outputs": [
    {
     "name": "stdout",
     "output_type": "stream",
     "text": [
      "          e         a         b         c         d\n",
      "A  0.541003  0.569069  0.287900  0.166292  0.228272\n",
      "B  0.932306  0.859487  0.956609  0.342564  0.941535\n",
      "C  0.438604  0.392831  0.215062  0.853722  0.858698\n",
      "D  0.264160  0.746961  0.383011  0.475865  0.610636\n",
      "E  0.703779  0.983521  0.496582  0.895621  0.458165\n"
     ]
    }
   ],
   "source": [
    "# import numpy and pandas module \n",
    "import pandas as pd \n",
    "import numpy as np \n",
    "  \n",
    "column=['a','b','c','d','e'] \n",
    "index=['A','B','C','D','E'] \n",
    "  \n",
    "#create a dataframe of random values of array \n",
    "df1 = pd.DataFrame(np.random.rand(5,5),  \n",
    "           columns=column, index=index) \n",
    "  \n",
    "colum=['e','a','b','c','d'] \n",
    "   \n",
    "# create the new index for columns \n",
    "print(df1.reindex(colum, axis='columns'))"
   ]
  },
  {
   "cell_type": "code",
   "execution_count": 14,
   "metadata": {},
   "outputs": [
    {
     "name": "stdout",
     "output_type": "stream",
     "text": [
      "          a         b         c   g   h\n",
      "A  0.846496  0.996774  0.438960 NaN NaN\n",
      "B  0.634472  0.139707  0.854421 NaN NaN\n",
      "C  0.497452  0.843615  0.137774 NaN NaN\n",
      "D  0.611333  0.608320  0.166228 NaN NaN\n",
      "E  0.506571  0.529835  0.525538 NaN NaN\n"
     ]
    }
   ],
   "source": [
    "# import numpy and pandas module \n",
    "import pandas as pd \n",
    "import numpy as np \n",
    "  \n",
    "column =['a', 'b', 'c', 'd', 'e'] \n",
    "index =['A', 'B', 'C', 'D', 'E'] \n",
    "   \n",
    "# create a dataframe of random values of array \n",
    "df1 = pd.DataFrame(np.random.rand(5, 5),  \n",
    "        columns = column, index = index) \n",
    "  \n",
    "colum =['a', 'b', 'c', 'g', 'h'] \n",
    "  \n",
    "# create the new index for columns \n",
    "print(df1.reindex(colum, axis ='columns')) "
   ]
  },
  {
   "cell_type": "markdown",
   "metadata": {},
   "source": [
    "# Replacing the missing values\n",
    "Missing values from the dataframe can be filled by passing a value to the keyword fill_value. This keyword replaces the NaN values."
   ]
  },
  {
   "cell_type": "code",
   "execution_count": 15,
   "metadata": {},
   "outputs": [
    {
     "name": "stdout",
     "output_type": "stream",
     "text": [
      "          a         b         c    g    h\n",
      "A  0.239672  0.076196  0.131670  1.5  1.5\n",
      "B  0.007688  0.955590  0.411585  1.5  1.5\n",
      "C  0.699835  0.334325  0.333599  1.5  1.5\n",
      "D  0.111823  0.710649  0.038048  1.5  1.5\n",
      "E  0.293232  0.093021  0.559703  1.5  1.5\n"
     ]
    }
   ],
   "source": [
    "# import numpy and pandas module \n",
    "import pandas as pd \n",
    "import numpy as np \n",
    "  \n",
    "column =['a', 'b', 'c', 'd', 'e'] \n",
    "index =['A', 'B', 'C', 'D', 'E'] \n",
    "   \n",
    "# create a dataframe of random values of array \n",
    "df1 = pd.DataFrame(np.random.rand(5, 5),  \n",
    "        columns = column, index = index) \n",
    "  \n",
    "colum =['a', 'b', 'c', 'g', 'h'] \n",
    "  \n",
    "# create the new index for columns  \n",
    "print(df1.reindex(colum, axis ='columns', fill_value = 1.5))"
   ]
  },
  {
   "cell_type": "markdown",
   "metadata": {},
   "source": [
    "Replacing the missing data with a string."
   ]
  },
  {
   "cell_type": "code",
   "execution_count": 17,
   "metadata": {},
   "outputs": [
    {
     "name": "stdout",
     "output_type": "stream",
     "text": [
      "          a         b         c             g             h\n",
      "A  0.907035  0.760745  0.576351  data missing  data missing\n",
      "B  0.655364  0.751028  0.550398  data missing  data missing\n",
      "C  0.574628  0.752276  0.455496  data missing  data missing\n",
      "D  0.405090  0.149018  0.101732  data missing  data missing\n",
      "E  0.055434  0.411849  0.259453  data missing  data missing\n"
     ]
    }
   ],
   "source": [
    "# import numpy and pandas module \n",
    "import pandas as pd \n",
    "import numpy as np \n",
    "  \n",
    "column =['a', 'b', 'c', 'd', 'e'] \n",
    "index =['A', 'B', 'C', 'D', 'E'] \n",
    "   \n",
    "# create a dataframe of random values of array \n",
    "df1 = pd.DataFrame(np.random.rand(5, 5),  \n",
    "       columns = column, index = index) \n",
    "  \n",
    "colum =['a', 'b', 'c', 'g', 'h'] \n",
    "  \n",
    "# create the new index for columns \n",
    "print(df1.reindex(colum, axis ='columns', fill_value ='data missing'))"
   ]
  },
  {
   "cell_type": "markdown",
   "metadata": {},
   "source": [
    "# Reindex to Align with Other Objects\n",
    "You may wish to take an object and reindex its axes to be labeled the same as another object. Consider the following example to understand the same."
   ]
  },
  {
   "cell_type": "code",
   "execution_count": 21,
   "metadata": {},
   "outputs": [
    {
     "name": "stdout",
     "output_type": "stream",
     "text": [
      "       col1      col2      col3\n",
      "0 -1.580296  0.656225  0.652748\n",
      "1  1.051219  0.208885 -0.885359\n",
      "2 -2.017438  0.482372 -0.656926\n",
      "3 -0.033910  0.775881 -0.906268\n",
      "4  1.055259 -0.503661  1.015371\n",
      "5 -0.805985 -0.183944  1.272977\n",
      "6  1.320010 -0.520094 -1.866639\n",
      "7  0.060139  1.046127 -0.208677\n",
      "8  1.211727  1.099565 -0.922496\n",
      "9  0.886015  1.774377 -0.390498\n",
      "       col1      col2      col3\n",
      "0 -1.580296  0.656225  0.652748\n",
      "1  1.051219  0.208885 -0.885359\n",
      "2 -2.017438  0.482372 -0.656926\n",
      "3 -0.033910  0.775881 -0.906268\n",
      "4  1.055259 -0.503661  1.015371\n",
      "5 -0.805985 -0.183944  1.272977\n",
      "6  1.320010 -0.520094 -1.866639\n"
     ]
    }
   ],
   "source": [
    "import pandas as pd\n",
    "import numpy as np\n",
    "\n",
    "df1 = pd.DataFrame(np.random.randn(10,3),columns=['col1','col2','col3'])\n",
    "df2 = pd.DataFrame(np.random.randn(7,3),columns=['col1','col2','col3'])\n",
    "print(df1)\n",
    "\n",
    "df1 = df1.reindex_like(df2)\n",
    "print(df1)\n",
    "\n",
    "# Note − Here, the df1 DataFrame is altered and reindexed like df2. \n",
    "# The column names should be matched or else NAN will be added for the entire column label."
   ]
  },
  {
   "cell_type": "markdown",
   "metadata": {},
   "source": [
    "# Filling while ReIndexing\n",
    "reindex() takes an optional parameter method which is a filling method with values as follows −\n",
    "\n",
    "# pad/ffill − Fill values forward\n",
    "\n",
    "# bfill/backfill − Fill values backward\n",
    "\n",
    "# nearest − Fill from the nearest index values"
   ]
  },
  {
   "cell_type": "code",
   "execution_count": 28,
   "metadata": {},
   "outputs": [
    {
     "name": "stdout",
     "output_type": "stream",
     "text": [
      "       col1      col2      col3\n",
      "0 -1.137404  0.388312 -0.080256\n",
      "1  0.794907 -1.093496  0.363636\n",
      "2       NaN       NaN       NaN\n",
      "3       NaN       NaN       NaN\n",
      "4       NaN       NaN       NaN\n",
      "5       NaN       NaN       NaN\n",
      "Data Frame with Forward Fill:\n",
      "       col1      col2      col3\n",
      "0 -1.137404  0.388312 -0.080256\n",
      "1  0.794907 -1.093496  0.363636\n",
      "2  0.794907 -1.093496  0.363636\n",
      "3  0.794907 -1.093496  0.363636\n",
      "4  0.794907 -1.093496  0.363636\n",
      "5  0.794907 -1.093496  0.363636\n"
     ]
    }
   ],
   "source": [
    "import pandas as pd\n",
    "import numpy as np\n",
    "\n",
    "df1 = pd.DataFrame(np.random.randn(6,3),columns=['col1','col2','col3'])\n",
    "df2 = pd.DataFrame(np.random.randn(2,3),columns=['col1','col2','col3'])\n",
    "\n",
    "# Padding NAN's\n",
    "print(df2.reindex_like(df1))\n",
    "\n",
    "# Now Fill the NAN's with preceding Values\n",
    "print(\"Data Frame with Forward Fill:\")\n",
    "print(df2.reindex_like(df1,method='ffill'))\n",
    "\n",
    "# Note − The last four rows are padded."
   ]
  },
  {
   "cell_type": "code",
   "execution_count": 25,
   "metadata": {},
   "outputs": [
    {
     "name": "stdout",
     "output_type": "stream",
     "text": [
      "       col1      col2      col3\n",
      "0 -0.554222 -0.911926  1.081381\n",
      "1  0.131455  1.617852  1.448053\n",
      "2       NaN       NaN       NaN\n",
      "3       NaN       NaN       NaN\n",
      "4       NaN       NaN       NaN\n",
      "5       NaN       NaN       NaN\n",
      "Data Frame with Forward Fill:\n",
      "       col1      col2      col3\n",
      "0 -0.554222 -0.911926  1.081381\n",
      "1  0.131455  1.617852  1.448053\n",
      "2  0.131455  1.617852  1.448053\n",
      "3  0.131455  1.617852  1.448053\n",
      "4  0.131455  1.617852  1.448053\n",
      "5  0.131455  1.617852  1.448053\n"
     ]
    }
   ],
   "source": [
    "import pandas as pd\n",
    "import numpy as np\n",
    "\n",
    "df1 = pd.DataFrame(np.random.randn(6,3),columns=['col1','col2','col3'])\n",
    "df2 = pd.DataFrame(np.random.randn(2,3),columns=['col1','col2','col3'])\n",
    "\n",
    "# Padding NAN's\n",
    "print(df2.reindex_like(df1))\n",
    "\n",
    "# Now Fill the NAN's with preceding Values\n",
    "print(\"Data Frame with Forward Fill:\")\n",
    "print(df2.reindex_like(df1,method='nearest'))\n",
    "\n",
    "# nearest same as ffill"
   ]
  },
  {
   "cell_type": "markdown",
   "metadata": {},
   "source": [
    "# Limits on Filling while Reindexing\n",
    "The limit argument provides additional control over filling while reindexing. Limit specifies the maximum count of consecutive matches. Let us consider the following example to understand the same −"
   ]
  },
  {
   "cell_type": "code",
   "execution_count": 33,
   "metadata": {},
   "outputs": [
    {
     "name": "stdout",
     "output_type": "stream",
     "text": [
      "       col1      col2      col3\n",
      "0  0.238450  0.125482  0.048011\n",
      "1  1.118609  1.182929  0.006071\n",
      "2       NaN       NaN       NaN\n",
      "3       NaN       NaN       NaN\n",
      "4       NaN       NaN       NaN\n",
      "5       NaN       NaN       NaN\n",
      "Data Frame with Forward Fill limiting to 1:\n",
      "       col1      col2      col3\n",
      "0  0.238450  0.125482  0.048011\n",
      "1  1.118609  1.182929  0.006071\n",
      "2  1.118609  1.182929  0.006071\n",
      "3       NaN       NaN       NaN\n",
      "4       NaN       NaN       NaN\n",
      "5       NaN       NaN       NaN\n"
     ]
    }
   ],
   "source": [
    "import pandas as pd\n",
    "import numpy as np\n",
    " \n",
    "df1 = pd.DataFrame(np.random.randn(6,3),columns=['col1','col2','col3'])\n",
    "df2 = pd.DataFrame(np.random.randn(2,3),columns=['col1','col2','col3'])\n",
    "\n",
    "# Padding NAN's\n",
    "print(df2.reindex_like(df1))\n",
    "\n",
    "# Now Fill the NAN's with preceding Values\n",
    "print (\"Data Frame with Forward Fill limiting to 1:\")\n",
    "print(df2.reindex_like(df1,method='ffill',limit=1))\n",
    "\n",
    "# Note − Observe, only the 2th row is filled by the preceding 1th row. Then, the rows are left as they are."
   ]
  },
  {
   "cell_type": "markdown",
   "metadata": {},
   "source": [
    "# Renaming\n",
    "The rename() method allows you to relabel an axis based on some mapping (a dict or Series) or an arbitrary function.\n",
    "\n",
    "Let us consider the following example to understand this −"
   ]
  },
  {
   "cell_type": "code",
   "execution_count": 39,
   "metadata": {},
   "outputs": [
    {
     "name": "stdout",
     "output_type": "stream",
     "text": [
      "       col1      col2      col3\n",
      "0  0.346793  0.542074  2.426515\n",
      "1  1.268244  0.397823  0.398001\n",
      "2 -1.819425  1.796556 -0.347490\n",
      "3 -0.731021  1.839596  0.191207\n",
      "4  0.599060  1.685261 -0.146123\n",
      "5  1.908652 -0.210549 -0.447093\n",
      "After renaming the rows and columns:\n",
      "            c1        c2      col3\n",
      "zero  0.346793  0.542074  2.426515\n",
      "one   1.268244  0.397823  0.398001\n",
      "two  -1.819425  1.796556 -0.347490\n",
      "3    -0.731021  1.839596  0.191207\n",
      "4     0.599060  1.685261 -0.146123\n",
      "5     1.908652 -0.210549 -0.447093\n"
     ]
    }
   ],
   "source": [
    "import pandas as pd\n",
    "import numpy as np\n",
    "\n",
    "df1 = pd.DataFrame(np.random.randn(6,3),columns=['col1','col2','col3'])\n",
    "print(df1)\n",
    "\n",
    "print (\"After renaming the rows and columns:\")\n",
    "print (df1.rename(columns={'col1' : 'c1', 'col2' : 'c2'}, index = {0 : 'zero', 1 : 'one', 2 : 'two'}))"
   ]
  },
  {
   "cell_type": "code",
   "execution_count": null,
   "metadata": {},
   "outputs": [],
   "source": []
  }
 ],
 "metadata": {
  "kernelspec": {
   "display_name": "Python 3",
   "language": "python",
   "name": "python3"
  },
  "language_info": {
   "codemirror_mode": {
    "name": "ipython",
    "version": 3
   },
   "file_extension": ".py",
   "mimetype": "text/x-python",
   "name": "python",
   "nbconvert_exporter": "python",
   "pygments_lexer": "ipython3",
   "version": "3.8.3"
  }
 },
 "nbformat": 4,
 "nbformat_minor": 4
}
