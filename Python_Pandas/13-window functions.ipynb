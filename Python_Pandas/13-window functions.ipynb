{
 "cells": [
  {
   "cell_type": "markdown",
   "metadata": {},
   "source": [
    "For working on numerical data, Pandas provide few variants like rolling, expanding and exponentially moving weights for window statistics. Among these are sum, mean, median, variance, covariance, correlation, etc.\n",
    "\n",
    "We will now learn how each of these can be applied on DataFrame objects.\n",
    "\n",
    "# .rolling() Function\n",
    "This function can be applied on a series of data. Specify the window=n argument and apply the appropriate statistical function on top of it."
   ]
  },
  {
   "cell_type": "code",
   "execution_count": 22,
   "metadata": {},
   "outputs": [
    {
     "name": "stdout",
     "output_type": "stream",
     "text": [
      "                   A         B         C         D\n",
      "2000-01-01       NaN       NaN       NaN       NaN\n",
      "2000-01-02       NaN       NaN       NaN       NaN\n",
      "2000-01-03  7.000000  6.333333  5.333333  6.000000\n",
      "2000-01-04  8.000000  5.333333  7.000000  6.000000\n",
      "2000-01-05  6.000000  5.333333  5.666667  5.333333\n",
      "2000-01-06  6.333333  5.333333  4.333333  3.666667\n",
      "2000-01-07  4.333333  4.666667  3.666667  4.666667\n",
      "2000-01-08  6.000000  4.000000  5.000000  6.333333\n",
      "2000-01-09  5.000000  1.666667  7.333333  8.666667\n",
      "2000-01-10  4.333333  3.666667  8.666667  7.000000\n"
     ]
    }
   ],
   "source": [
    "import pandas as pd\n",
    "import numpy as np\n",
    "\n",
    "df = pd.DataFrame(np.random.randint(10, size=(10, 4)),index = pd.date_range('1/1/2000', periods=10),\n",
    "                  columns = ['A', 'B','C','D'])\n",
    "print(df.rolling(window=3).mean())\n",
    "\n",
    "# Note − Since the window size is 3, for first two elements there are nulls and from third the value will be \n",
    "# the average of the n, n-1 and n-2 elements. \n",
    "# Thus we can also apply various functions as mentioned above."
   ]
  },
  {
   "cell_type": "markdown",
   "metadata": {},
   "source": [
    "# .expanding() Function\n",
    "This function can be applied on a series of data. Specify the min_periods=n argument and apply the appropriate statistical function on top of it."
   ]
  },
  {
   "cell_type": "code",
   "execution_count": 23,
   "metadata": {},
   "outputs": [
    {
     "name": "stdout",
     "output_type": "stream",
     "text": [
      "                   A         B         C         D\n",
      "2000-01-01       NaN       NaN       NaN       NaN\n",
      "2000-01-02       NaN       NaN       NaN       NaN\n",
      "2000-01-03  4.666667  4.333333  4.666667  5.000000\n",
      "2000-01-04  4.250000  3.250000  4.500000  4.000000\n",
      "2000-01-05  4.400000  3.400000  5.400000  5.000000\n",
      "2000-01-06  4.833333  4.166667  4.833333  5.666667\n",
      "2000-01-07  5.142857  4.428571  4.571429  5.571429\n",
      "2000-01-08  5.125000  4.000000  4.000000  5.375000\n",
      "2000-01-09  4.555556  4.222222  3.666667  5.444444\n",
      "2000-01-10  5.000000  3.800000  3.600000  5.400000\n"
     ]
    }
   ],
   "source": [
    "import pandas as pd\n",
    "import numpy as np\n",
    "\n",
    "df = pd.DataFrame(np.random.randint(10, size=(10, 4)),index = pd.date_range('1/1/2000', periods=10),\n",
    "                  columns = ['A', 'B', 'C', 'D'])\n",
    "print(df.expanding(min_periods=3).mean())"
   ]
  },
  {
   "cell_type": "markdown",
   "metadata": {},
   "source": [
    "# .ewm() Function\n",
    "ewm is applied on a series of data. Specify any of the com, span, halflife argument and apply the appropriate statistical function on top of it. It assigns the weights exponentially."
   ]
  },
  {
   "cell_type": "code",
   "execution_count": 24,
   "metadata": {},
   "outputs": [
    {
     "name": "stdout",
     "output_type": "stream",
     "text": [
      "                   A         B         C         D\n",
      "2000-01-01  5.000000  2.000000  9.000000  6.000000\n",
      "2000-01-02  3.500000  2.000000  6.750000  7.500000\n",
      "2000-01-03  3.846154  1.307692  8.307692  7.153846\n",
      "2000-01-04  1.925000  0.425000  4.050000  5.025000\n",
      "2000-01-05  6.661157  5.495868  4.016529  3.000000\n",
      "2000-01-06  4.884615  3.829670  3.337912  4.335165\n",
      "2000-01-07  6.295517  5.277219  4.446478  4.111619\n",
      "2000-01-08  5.431707  2.425305  2.148476  6.704268\n",
      "2000-01-09  3.810487  3.475155  4.716289  6.901433\n",
      "2000-01-10  1.936797  3.158380  4.238755  2.300400\n"
     ]
    }
   ],
   "source": [
    "import pandas as pd\n",
    "import numpy as np\n",
    " \n",
    "df = pd.DataFrame(np.random.randint(10, size=(10, 4)),index = pd.date_range('1/1/2000', periods=10),\n",
    "                  columns = ['A', 'B', 'C', 'D'])\n",
    "print(df.ewm(com=0.5).mean())"
   ]
  },
  {
   "cell_type": "code",
   "execution_count": null,
   "metadata": {},
   "outputs": [],
   "source": []
  }
 ],
 "metadata": {
  "kernelspec": {
   "display_name": "Python 3",
   "language": "python",
   "name": "python3"
  },
  "language_info": {
   "codemirror_mode": {
    "name": "ipython",
    "version": 3
   },
   "file_extension": ".py",
   "mimetype": "text/x-python",
   "name": "python",
   "nbconvert_exporter": "python",
   "pygments_lexer": "ipython3",
   "version": "3.8.3"
  }
 },
 "nbformat": 4,
 "nbformat_minor": 4
}
