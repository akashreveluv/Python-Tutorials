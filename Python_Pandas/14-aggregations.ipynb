{
 "cells": [
  {
   "cell_type": "markdown",
   "metadata": {},
   "source": [
    "# Applying Aggregations on DataFrame\n",
    "Let us create a DataFrame and apply aggregations on it."
   ]
  },
  {
   "cell_type": "code",
   "execution_count": 12,
   "metadata": {},
   "outputs": [
    {
     "name": "stdout",
     "output_type": "stream",
     "text": [
      "            A  B  C  D\n",
      "2000-01-01  6  2  6  0\n",
      "2000-01-02  4  8  2  2\n",
      "2000-01-03  7  6  1  3\n",
      "2000-01-04  3  5  0  2\n",
      "2000-01-05  6  2  9  9\n",
      "2000-01-06  1  2  1  8\n",
      "2000-01-07  4  2  4  5\n",
      "2000-01-08  4  0  7  3\n",
      "2000-01-09  2  1  9  8\n",
      "2000-01-10  7  1  8  7\n",
      "Rolling [window=3,min_periods=1,center=False,axis=0]\n"
     ]
    }
   ],
   "source": [
    "import pandas as pd\n",
    "import numpy as np\n",
    "\n",
    "df = pd.DataFrame(np.random.randint(10, size=(10, 4)),\n",
    "     index = pd.date_range('1/1/2000', periods=10),\n",
    "     columns = ['A', 'B', 'C', 'D'])\n",
    "\n",
    "print(df)\n",
    "r = df.rolling(window=3,min_periods=1)\n",
    "print(r)"
   ]
  },
  {
   "cell_type": "markdown",
   "metadata": {},
   "source": [
    "# Apply Aggregation on a Whole Dataframe"
   ]
  },
  {
   "cell_type": "code",
   "execution_count": 11,
   "metadata": {},
   "outputs": [
    {
     "name": "stdout",
     "output_type": "stream",
     "text": [
      "            A  B  C  D\n",
      "2000-01-01  8  0  7  3\n",
      "2000-01-02  7  3  4  2\n",
      "2000-01-03  0  6  5  0\n",
      "2000-01-04  0  4  1  2\n",
      "2000-01-05  8  6  9  2\n",
      "2000-01-06  5  2  0  5\n",
      "2000-01-07  6  0  5  5\n",
      "2000-01-08  3  5  4  9\n",
      "2000-01-09  4  7  7  6\n",
      "2000-01-10  2  9  5  2\n",
      "               A     B     C     D\n",
      "2000-01-01   8.0   0.0   7.0   3.0\n",
      "2000-01-02  15.0   3.0  11.0   5.0\n",
      "2000-01-03  15.0   9.0  16.0   5.0\n",
      "2000-01-04   7.0  13.0  10.0   4.0\n",
      "2000-01-05   8.0  16.0  15.0   4.0\n",
      "2000-01-06  13.0  12.0  10.0   9.0\n",
      "2000-01-07  19.0   8.0  14.0  12.0\n",
      "2000-01-08  14.0   7.0   9.0  19.0\n",
      "2000-01-09  13.0  12.0  16.0  20.0\n",
      "2000-01-10   9.0  21.0  16.0  17.0\n"
     ]
    }
   ],
   "source": [
    "import pandas as pd\n",
    "import numpy as np\n",
    "\n",
    "df = pd.DataFrame(np.random.randint(10, size=(10, 4)),\n",
    "   index = pd.date_range('1/1/2000', periods=10),\n",
    "   columns = ['A', 'B', 'C', 'D'])\n",
    "print(df)\n",
    "r = df.rolling(window=3,min_periods=1)\n",
    "print(r.aggregate(np.sum))"
   ]
  },
  {
   "cell_type": "markdown",
   "metadata": {},
   "source": [
    "# Apply Aggregation on a Single Column of a Dataframe"
   ]
  },
  {
   "cell_type": "code",
   "execution_count": 20,
   "metadata": {},
   "outputs": [
    {
     "name": "stdout",
     "output_type": "stream",
     "text": [
      "            A  B  C  D\n",
      "2000-01-01  7  4  1  5\n",
      "2000-01-02  9  2  7  5\n",
      "2000-01-03  4  7  1  7\n",
      "2000-01-04  6  4  3  3\n",
      "2000-01-05  1  3  2  9\n",
      "2000-01-06  2  7  3  5\n",
      "2000-01-07  9  9  1  5\n",
      "2000-01-08  8  6  6  4\n",
      "2000-01-09  7  3  0  5\n",
      "2000-01-10  7  6  3  3\n",
      "------------------------------------\n",
      "2000-01-01     7.0\n",
      "2000-01-02    16.0\n",
      "2000-01-03    20.0\n",
      "2000-01-04    19.0\n",
      "2000-01-05    11.0\n",
      "2000-01-06     9.0\n",
      "2000-01-07    12.0\n",
      "2000-01-08    19.0\n",
      "2000-01-09    24.0\n",
      "2000-01-10    22.0\n",
      "Freq: D, Name: A, dtype: float64\n"
     ]
    }
   ],
   "source": [
    "import pandas as pd\n",
    "import numpy as np\n",
    "\n",
    "df = pd.DataFrame(np.random.randint(10, size=(10, 4)),\n",
    "   index = pd.date_range('1/1/2000', periods=10),\n",
    "   columns = ['A', 'B', 'C', 'D'])\n",
    "print(df)\n",
    "print(\"------------------------------------\")\n",
    "\n",
    "r = df.rolling(window=3,min_periods=1)\n",
    "print(r['A'].aggregate(np.sum))"
   ]
  },
  {
   "cell_type": "markdown",
   "metadata": {},
   "source": [
    "# Apply Aggregation on Multiple Columns of a DataFrame"
   ]
  },
  {
   "cell_type": "code",
   "execution_count": 24,
   "metadata": {},
   "outputs": [
    {
     "name": "stdout",
     "output_type": "stream",
     "text": [
      "            A  B  C  D\n",
      "2000-01-01  0  8  0  3\n",
      "2000-01-02  7  5  7  1\n",
      "2000-01-03  1  0  3  8\n",
      "2000-01-04  7  7  4  5\n",
      "2000-01-05  5  9  1  9\n",
      "2000-01-06  1  8  0  5\n",
      "2000-01-07  6  5  6  8\n",
      "2000-01-08  6  0  1  4\n",
      "2000-01-09  4  0  3  0\n",
      "2000-01-10  2  2  6  1\n",
      "               A     B\n",
      "2000-01-01   0.0   8.0\n",
      "2000-01-02   7.0  13.0\n",
      "2000-01-03   8.0  13.0\n",
      "2000-01-04  15.0  12.0\n",
      "2000-01-05  13.0  16.0\n",
      "2000-01-06  13.0  24.0\n",
      "2000-01-07  12.0  22.0\n",
      "2000-01-08  13.0  13.0\n",
      "2000-01-09  16.0   5.0\n",
      "2000-01-10  12.0   2.0\n"
     ]
    }
   ],
   "source": [
    "import pandas as pd\n",
    "import numpy as np\n",
    "\n",
    "df = pd.DataFrame(np.random.randint(10, size=(10, 4)),\n",
    "   index = pd.date_range('1/1/2000', periods=10),\n",
    "   columns = ['A', 'B', 'C', 'D'])\n",
    "print(df)\n",
    "r = df.rolling(window=3,min_periods=1)\n",
    "print(r[['A','B']].aggregate(np.sum))"
   ]
  },
  {
   "cell_type": "markdown",
   "metadata": {},
   "source": [
    "# Apply Multiple Functions on a Single Column of a DataFrame"
   ]
  },
  {
   "cell_type": "code",
   "execution_count": 27,
   "metadata": {},
   "outputs": [
    {
     "name": "stdout",
     "output_type": "stream",
     "text": [
      "            A  B  C  D\n",
      "2000-01-01  8  6  2  4\n",
      "2000-01-02  4  2  9  6\n",
      "2000-01-03  7  4  2  5\n",
      "2000-01-04  9  2  6  5\n",
      "2000-01-05  4  1  3  5\n",
      "2000-01-06  3  4  4  2\n",
      "2000-01-07  1  5  0  1\n",
      "2000-01-08  5  9  8  2\n",
      "2000-01-09  3  4  2  9\n",
      "2000-01-10  9  0  6  7\n",
      "             sum      mean\n",
      "2000-01-01   8.0  8.000000\n",
      "2000-01-02  12.0  6.000000\n",
      "2000-01-03  19.0  6.333333\n",
      "2000-01-04  20.0  6.666667\n",
      "2000-01-05  20.0  6.666667\n",
      "2000-01-06  16.0  5.333333\n",
      "2000-01-07   8.0  2.666667\n",
      "2000-01-08   9.0  3.000000\n",
      "2000-01-09   9.0  3.000000\n",
      "2000-01-10  17.0  5.666667\n"
     ]
    }
   ],
   "source": [
    "import pandas as pd\n",
    "import numpy as np\n",
    "\n",
    "df = pd.DataFrame(np.random.randint(10, size=(10, 4)),\n",
    "   index = pd.date_range('1/1/2000', periods=10),\n",
    "   columns = ['A', 'B', 'C', 'D'])\n",
    "print(df)\n",
    "r = df.rolling(window=3,min_periods=1)\n",
    "print(r['A'].aggregate([np.sum,np.mean]))"
   ]
  },
  {
   "cell_type": "markdown",
   "metadata": {},
   "source": [
    "# Apply Multiple Functions on Multiple Columns of a DataFrame"
   ]
  },
  {
   "cell_type": "code",
   "execution_count": 28,
   "metadata": {},
   "outputs": [
    {
     "name": "stdout",
     "output_type": "stream",
     "text": [
      "            A  B  C  D\n",
      "2000-01-01  4  9  6  5\n",
      "2000-01-02  8  6  0  2\n",
      "2000-01-03  3  4  7  8\n",
      "2000-01-04  9  8  3  5\n",
      "2000-01-05  2  7  7  0\n",
      "2000-01-06  3  1  5  9\n",
      "2000-01-07  4  5  4  2\n",
      "2000-01-08  0  2  3  4\n",
      "2000-01-09  8  1  1  9\n",
      "2000-01-10  8  0  6  4\n",
      "               A               B          \n",
      "             sum      mean   sum      mean\n",
      "2000-01-01   4.0  4.000000   9.0  9.000000\n",
      "2000-01-02  12.0  6.000000  15.0  7.500000\n",
      "2000-01-03  15.0  5.000000  19.0  6.333333\n",
      "2000-01-04  20.0  6.666667  18.0  6.000000\n",
      "2000-01-05  14.0  4.666667  19.0  6.333333\n",
      "2000-01-06  14.0  4.666667  16.0  5.333333\n",
      "2000-01-07   9.0  3.000000  13.0  4.333333\n",
      "2000-01-08   7.0  2.333333   8.0  2.666667\n",
      "2000-01-09  12.0  4.000000   8.0  2.666667\n",
      "2000-01-10  16.0  5.333333   3.0  1.000000\n"
     ]
    }
   ],
   "source": [
    "import pandas as pd\n",
    "import numpy as np\n",
    "\n",
    "df = pd.DataFrame(np.random.randint(10, size=(10, 4)),\n",
    "   index = pd.date_range('1/1/2000', periods=10),\n",
    "   columns = ['A', 'B', 'C', 'D'])\n",
    "print(df)\n",
    "r = df.rolling(window=3,min_periods=1)\n",
    "print(r['A','B'].aggregate([np.sum,np.mean]))"
   ]
  },
  {
   "cell_type": "markdown",
   "metadata": {},
   "source": [
    "# Apply Different Functions to Different Columns of a Dataframe"
   ]
  },
  {
   "cell_type": "code",
   "execution_count": 36,
   "metadata": {},
   "outputs": [
    {
     "name": "stdout",
     "output_type": "stream",
     "text": [
      "            A  B  C  D\n",
      "2000-01-01  7  2  1  2\n",
      "2000-01-02  3  7  2  5\n",
      "2000-01-03  1  0  4  3\n",
      "2000-01-04  1  7  8  7\n",
      "2000-01-05  7  5  4  4\n",
      "2000-01-06  9  0  8  6\n",
      "2000-01-07  5  6  5  4\n",
      "2000-01-08  4  4  9  4\n",
      "2000-01-09  5  4  2  2\n",
      "2000-01-10  4  7  5  6\n",
      "               A         B\n",
      "2000-01-01   7.0  2.000000\n",
      "2000-01-02  10.0  4.500000\n",
      "2000-01-03  11.0  3.000000\n",
      "2000-01-04   5.0  4.666667\n",
      "2000-01-05   9.0  4.000000\n",
      "2000-01-06  17.0  4.000000\n",
      "2000-01-07  21.0  3.666667\n",
      "2000-01-08  18.0  3.333333\n",
      "2000-01-09  14.0  4.666667\n",
      "2000-01-10  13.0  5.000000\n"
     ]
    }
   ],
   "source": [
    "import pandas as pd\n",
    "import numpy as np\n",
    " \n",
    "df = pd.DataFrame(np.random.randint(10, size=(10, 4)),\n",
    "     index = pd.date_range('1/1/2000', periods=10),\n",
    "     columns = ['A', 'B', 'C', 'D'])\n",
    "print(df)\n",
    "r = df.rolling(window=3,min_periods=1)\n",
    "print(r.aggregate({'A' : np.sum,'B' : np.mean}))"
   ]
  },
  {
   "cell_type": "code",
   "execution_count": null,
   "metadata": {},
   "outputs": [],
   "source": []
  }
 ],
 "metadata": {
  "kernelspec": {
   "display_name": "Python 3",
   "language": "python",
   "name": "python3"
  },
  "language_info": {
   "codemirror_mode": {
    "name": "ipython",
    "version": 3
   },
   "file_extension": ".py",
   "mimetype": "text/x-python",
   "name": "python",
   "nbconvert_exporter": "python",
   "pygments_lexer": "ipython3",
   "version": "3.8.3"
  }
 },
 "nbformat": 4,
 "nbformat_minor": 4
}
