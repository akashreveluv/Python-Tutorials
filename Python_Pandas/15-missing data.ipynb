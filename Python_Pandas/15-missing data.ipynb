{
 "cells": [
  {
   "cell_type": "markdown",
   "metadata": {},
   "source": [
    "# Missing data\n",
    "is always a problem in real life scenarios. Areas like machine learning and data mining face severe issues in the accuracy of their model predictions because of poor quality of data caused by missing values. In these areas, missing value treatment is a major point of focus to make their models more accurate and valid.\n",
    "\n",
    "Let us now see how we can handle missing values (say NA or NaN) using Pandas."
   ]
  },
  {
   "cell_type": "code",
   "execution_count": 5,
   "metadata": {},
   "outputs": [
    {
     "name": "stdout",
     "output_type": "stream",
     "text": [
      "        one       two     three\n",
      "a  0.940463 -0.340565 -1.837282\n",
      "b       NaN       NaN       NaN\n",
      "c -0.728328  0.474133  0.054413\n",
      "d       NaN       NaN       NaN\n",
      "e -1.064686 -0.898499  0.894368\n",
      "f  0.375816 -0.675072 -0.287711\n",
      "g       NaN       NaN       NaN\n",
      "h  0.321263  0.068812 -1.024018\n"
     ]
    }
   ],
   "source": [
    "# import the pandas library\n",
    "import pandas as pd\n",
    "import numpy as np\n",
    "\n",
    "df = pd.DataFrame(np.random.randn(5, 3), index=['a', 'c', 'e', 'f',\n",
    "'h'],columns=['one', 'two', 'three'])\n",
    "\n",
    "df = df.reindex(['a', 'b', 'c', 'd', 'e', 'f', 'g', 'h'])\n",
    "\n",
    "print(df)\n",
    "\n",
    "# Using reindexing, we have created a DataFrame with missing values. In the output, NaN means Not a Number."
   ]
  },
  {
   "cell_type": "markdown",
   "metadata": {},
   "source": [
    "# Check for Missing Values\n",
    "To make detecting missing values easier (and across different array dtypes), Pandas provides the isnull() and notnull() functions, which are also methods on Series and DataFrame objects −"
   ]
  },
  {
   "cell_type": "code",
   "execution_count": 6,
   "metadata": {},
   "outputs": [
    {
     "name": "stdout",
     "output_type": "stream",
     "text": [
      "a    False\n",
      "b     True\n",
      "c    False\n",
      "d     True\n",
      "e    False\n",
      "f    False\n",
      "g     True\n",
      "h    False\n",
      "Name: one, dtype: bool\n"
     ]
    }
   ],
   "source": [
    "import pandas as pd\n",
    "import numpy as np\n",
    " \n",
    "df = pd.DataFrame(np.random.randn(5, 3), index=['a', 'c', 'e', 'f',\n",
    "'h'],columns=['one', 'two', 'three'])\n",
    "\n",
    "df = df.reindex(['a', 'b', 'c', 'd', 'e', 'f', 'g', 'h'])\n",
    "\n",
    "print(df['one'].isnull())"
   ]
  },
  {
   "cell_type": "code",
   "execution_count": 1,
   "metadata": {},
   "outputs": [
    {
     "name": "stdout",
     "output_type": "stream",
     "text": [
      "a     True\n",
      "b    False\n",
      "c     True\n",
      "d    False\n",
      "e     True\n",
      "f     True\n",
      "g    False\n",
      "h     True\n",
      "Name: one, dtype: bool\n"
     ]
    }
   ],
   "source": [
    "import pandas as pd\n",
    "import numpy as np\n",
    "\n",
    "df = pd.DataFrame(np.random.randn(5, 3), index=['a', 'c', 'e', 'f',\n",
    "'h'],columns=['one', 'two', 'three'])\n",
    "\n",
    "df = df.reindex(['a', 'b', 'c', 'd', 'e', 'f', 'g', 'h'])\n",
    "\n",
    "print(df['one'].notnull())"
   ]
  },
  {
   "cell_type": "markdown",
   "metadata": {},
   "source": [
    "# Calculations with Missing Data\n",
    ">  When summing data, NA will be treated as Zero\n",
    "\n",
    ">  If the data are all NA, then the result will be NA"
   ]
  },
  {
   "cell_type": "code",
   "execution_count": 5,
   "metadata": {},
   "outputs": [
    {
     "name": "stdout",
     "output_type": "stream",
     "text": [
      "        one       two     three\n",
      "a  1.357254 -0.622479 -0.234068\n",
      "b       NaN       NaN       NaN\n",
      "c -1.083986 -0.152065  0.694614\n",
      "d       NaN       NaN       NaN\n",
      "e  1.511118 -0.323155 -0.134069\n",
      "f -1.219519 -0.057692 -1.697159\n",
      "g       NaN       NaN       NaN\n",
      "h  1.545225 -0.839488  0.233139\n",
      "2.11009211022252\n"
     ]
    }
   ],
   "source": [
    "import pandas as pd\n",
    "import numpy as np\n",
    "\n",
    "df = pd.DataFrame(np.random.randn(5, 3), index=['a', 'c', 'e', 'f',\n",
    "'h'],columns=['one', 'two', 'three'])\n",
    "\n",
    "df = df.reindex(['a', 'b', 'c', 'd', 'e', 'f', 'g', 'h'])\n",
    "print(df)\n",
    "\n",
    "print(df['one'].sum())"
   ]
  },
  {
   "cell_type": "code",
   "execution_count": 6,
   "metadata": {},
   "outputs": [
    {
     "name": "stdout",
     "output_type": "stream",
     "text": [
      "   one  two\n",
      "0  NaN  NaN\n",
      "1  NaN  NaN\n",
      "2  NaN  NaN\n",
      "3  NaN  NaN\n",
      "4  NaN  NaN\n",
      "5  NaN  NaN\n",
      "0\n"
     ]
    }
   ],
   "source": [
    "import pandas as pd\n",
    "import numpy as np\n",
    "\n",
    "df = pd.DataFrame(index=[0,1,2,3,4,5],columns=['one','two'])\n",
    "\n",
    "print(df)\n",
    "print(df['one'].sum())"
   ]
  },
  {
   "cell_type": "markdown",
   "metadata": {},
   "source": [
    "# Cleaning / Filling Missing Data\n",
    "Pandas provides various methods for cleaning the missing values. The fillna function can “fill in” NA values with non-null data in a couple of ways, which we have illustrated in the following sections.\n",
    "\n",
    "# Replace NaN with a Scalar Value\n",
    "The following program shows how you can replace \"NaN\" with \"0\"."
   ]
  },
  {
   "cell_type": "code",
   "execution_count": 9,
   "metadata": {},
   "outputs": [
    {
     "name": "stdout",
     "output_type": "stream",
     "text": [
      "        one       two     three\n",
      "a -0.530415 -0.389313  1.220359\n",
      "c  0.107680 -1.255502 -2.223981\n",
      "e -0.547719 -0.890175 -2.193763\n",
      "        one       two     three\n",
      "a -0.530415 -0.389313  1.220359\n",
      "b       NaN       NaN       NaN\n",
      "c  0.107680 -1.255502 -2.223981\n",
      "NaN replaced with '0':\n",
      "        one       two     three\n",
      "a -0.530415 -0.389313  1.220359\n",
      "b  0.000000  0.000000  0.000000\n",
      "c  0.107680 -1.255502 -2.223981\n"
     ]
    }
   ],
   "source": [
    "import pandas as pd\n",
    "import numpy as np\n",
    "\n",
    "df = pd.DataFrame(np.random.randn(3, 3), index=['a', 'c', 'e'],columns=['one',\n",
    "'two', 'three'])\n",
    "print(df)\n",
    "\n",
    "df = df.reindex(['a', 'b', 'c'])\n",
    "print(df)\n",
    "\n",
    "print (\"NaN replaced with '0':\")\n",
    "print(df.fillna(0))\n",
    "\n",
    "# Here, we are filling with value zero; instead we can also fill with any other value."
   ]
  },
  {
   "cell_type": "markdown",
   "metadata": {},
   "source": [
    "# Fill NA Forward and Backward\n",
    "Using the concepts of filling discussed in the ReIndexing Chapter we will fill the missing values.\n",
    "\n",
    "# pad/fill\n",
    "\n",
    "Fill methods Forward\n",
    "\n",
    "# bfill/backfill\n",
    "\n",
    "Fill methods Backward"
   ]
  },
  {
   "cell_type": "code",
   "execution_count": 11,
   "metadata": {},
   "outputs": [
    {
     "name": "stdout",
     "output_type": "stream",
     "text": [
      "        one       two     three\n",
      "a  0.343581  1.061289  0.264791\n",
      "b       NaN       NaN       NaN\n",
      "c  0.451677 -1.401001 -1.789420\n",
      "d       NaN       NaN       NaN\n",
      "e  0.002460  0.646232  0.281441\n",
      "f  1.056473  0.245884  1.146801\n",
      "g       NaN       NaN       NaN\n",
      "h  0.514490  0.649167 -0.916691\n",
      "        one       two     three\n",
      "a  0.343581  1.061289  0.264791\n",
      "b  0.343581  1.061289  0.264791\n",
      "c  0.451677 -1.401001 -1.789420\n",
      "d  0.451677 -1.401001 -1.789420\n",
      "e  0.002460  0.646232  0.281441\n",
      "f  1.056473  0.245884  1.146801\n",
      "g  1.056473  0.245884  1.146801\n",
      "h  0.514490  0.649167 -0.916691\n"
     ]
    }
   ],
   "source": [
    "import pandas as pd\n",
    "import numpy as np\n",
    "\n",
    "df = pd.DataFrame(np.random.randn(5, 3), index=['a', 'c', 'e', 'f',\n",
    "'h'],columns=['one', 'two', 'three'])\n",
    "\n",
    "df = df.reindex(['a', 'b', 'c', 'd', 'e', 'f', 'g', 'h'])\n",
    "print(df)\n",
    "\n",
    "print(df.fillna(method='pad'))"
   ]
  },
  {
   "cell_type": "code",
   "execution_count": 12,
   "metadata": {},
   "outputs": [
    {
     "name": "stdout",
     "output_type": "stream",
     "text": [
      "        one       two     three\n",
      "a  0.096311  2.571615 -0.835888\n",
      "b       NaN       NaN       NaN\n",
      "c -2.106597 -0.337306 -1.122852\n",
      "d       NaN       NaN       NaN\n",
      "e -0.424513  0.774408 -0.857533\n",
      "f  1.045501 -0.570207 -0.798906\n",
      "g       NaN       NaN       NaN\n",
      "h  1.468672  0.824735 -1.107703\n",
      "        one       two     three\n",
      "a  0.096311  2.571615 -0.835888\n",
      "b -2.106597 -0.337306 -1.122852\n",
      "c -2.106597 -0.337306 -1.122852\n",
      "d -0.424513  0.774408 -0.857533\n",
      "e -0.424513  0.774408 -0.857533\n",
      "f  1.045501 -0.570207 -0.798906\n",
      "g  1.468672  0.824735 -1.107703\n",
      "h  1.468672  0.824735 -1.107703\n"
     ]
    }
   ],
   "source": [
    "import pandas as pd\n",
    "import numpy as np\n",
    "\n",
    "df = pd.DataFrame(np.random.randn(5, 3), index=['a', 'c', 'e', 'f',\n",
    "'h'],columns=['one', 'two', 'three'])\n",
    "\n",
    "df = df.reindex(['a', 'b', 'c', 'd', 'e', 'f', 'g', 'h'])\n",
    "print(df)\n",
    "\n",
    "print(df.fillna(method='backfill'))"
   ]
  },
  {
   "cell_type": "markdown",
   "metadata": {},
   "source": [
    "# Drop Missing Values\n",
    "If you want to simply exclude the missing values, then use the dropna function along with the axis argument. By default, axis=0, i.e., along row, which means that if any value within a row is NA then the whole row is excluded."
   ]
  },
  {
   "cell_type": "code",
   "execution_count": 14,
   "metadata": {},
   "outputs": [
    {
     "name": "stdout",
     "output_type": "stream",
     "text": [
      "        one       two     three\n",
      "a  0.565671 -0.436732 -1.050266\n",
      "b       NaN       NaN       NaN\n",
      "c  0.726742  1.957275 -0.362878\n",
      "d       NaN       NaN       NaN\n",
      "e  0.310776 -1.311723  0.709041\n",
      "f  0.687475  0.536972 -2.300331\n",
      "g       NaN       NaN       NaN\n",
      "h  0.930695  1.321308 -1.367443\n",
      "        one       two     three\n",
      "a  0.565671 -0.436732 -1.050266\n",
      "c  0.726742  1.957275 -0.362878\n",
      "e  0.310776 -1.311723  0.709041\n",
      "f  0.687475  0.536972 -2.300331\n",
      "h  0.930695  1.321308 -1.367443\n"
     ]
    }
   ],
   "source": [
    "import pandas as pd\n",
    "import numpy as np\n",
    "\n",
    "df = pd.DataFrame(np.random.randn(5, 3), index=['a', 'c', 'e', 'f',\n",
    "'h'],columns=['one', 'two', 'three'])\n",
    "\n",
    "df = df.reindex(['a', 'b', 'c', 'd', 'e', 'f', 'g', 'h'])\n",
    "print(df)\n",
    "\n",
    "print(df.dropna())"
   ]
  },
  {
   "cell_type": "code",
   "execution_count": 19,
   "metadata": {},
   "outputs": [
    {
     "name": "stdout",
     "output_type": "stream",
     "text": [
      "        one       two     three\n",
      "a -1.211359 -0.736993  0.551887\n",
      "b       NaN       NaN       NaN\n",
      "c -0.712212  1.482116 -0.044715\n",
      "d       NaN       NaN       NaN\n",
      "e -1.075143  0.235990 -1.194043\n",
      "f  0.127326 -0.295030  0.823656\n",
      "g       NaN       NaN       NaN\n",
      "h  0.006178 -0.826464 -0.773656\n",
      "Empty DataFrame\n",
      "Columns: []\n",
      "Index: [a, b, c, d, e, f, g, h]\n",
      "        one       two     three\n",
      "a -1.211359 -0.736993  0.551887\n",
      "c -0.712212  1.482116 -0.044715\n",
      "e -1.075143  0.235990 -1.194043\n",
      "f  0.127326 -0.295030  0.823656\n",
      "h  0.006178 -0.826464 -0.773656\n"
     ]
    }
   ],
   "source": [
    "import pandas as pd\n",
    "import numpy as np\n",
    "\n",
    "df = pd.DataFrame(np.random.randn(5, 3), index=['a', 'c', 'e', 'f',\n",
    "'h'],columns=['one', 'two', 'three'])\n",
    "\n",
    "df = df.reindex(['a', 'b', 'c', 'd', 'e', 'f', 'g', 'h'])\n",
    "print(df)\n",
    "\n",
    "print(df.dropna(axis=1))\n",
    "print(df.dropna(axis=0))"
   ]
  },
  {
   "cell_type": "markdown",
   "metadata": {},
   "source": [
    "# Replace Missing (or) Generic Values\n",
    "Many times, we have to replace a generic value with some specific value. We can achieve this by applying the replace method.\n",
    "\n",
    "Replacing NA with a scalar value is equivalent behavior of the fillna() function."
   ]
  },
  {
   "cell_type": "code",
   "execution_count": 23,
   "metadata": {},
   "outputs": [
    {
     "name": "stdout",
     "output_type": "stream",
     "text": [
      "    one   two\n",
      "0    10  1000\n",
      "1    20     0\n",
      "2    30    30\n",
      "3    40    40\n",
      "4    50    50\n",
      "5  2000    60\n",
      "   one  two\n",
      "0   10   10\n",
      "1   20   20\n",
      "2   30   30\n",
      "3   40   40\n",
      "4   50   50\n",
      "5   60   60\n"
     ]
    }
   ],
   "source": [
    "import pandas as pd\n",
    "import numpy as np\n",
    "\n",
    "df = pd.DataFrame({'one':[10,20,30,40,50,2000], 'two':[1000,0,30,40,50,60]})\n",
    "print(df)\n",
    "\n",
    "print(df.replace({1000:10,2000:60,0:20}))"
   ]
  },
  {
   "cell_type": "code",
   "execution_count": null,
   "metadata": {},
   "outputs": [],
   "source": []
  }
 ],
 "metadata": {
  "kernelspec": {
   "display_name": "Python 3",
   "language": "python",
   "name": "python3"
  },
  "language_info": {
   "codemirror_mode": {
    "name": "ipython",
    "version": 3
   },
   "file_extension": ".py",
   "mimetype": "text/x-python",
   "name": "python",
   "nbconvert_exporter": "python",
   "pygments_lexer": "ipython3",
   "version": "3.8.3"
  }
 },
 "nbformat": 4,
 "nbformat_minor": 4
}
