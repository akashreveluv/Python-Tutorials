{
 "cells": [
  {
   "cell_type": "markdown",
   "metadata": {},
   "source": [
    "# => Basic Functionality"
   ]
  },
  {
   "cell_type": "code",
   "execution_count": 6,
   "metadata": {},
   "outputs": [
    {
     "name": "stdout",
     "output_type": "stream",
     "text": [
      "0   -0.426968\n",
      "1   -1.003142\n",
      "2   -1.442115\n",
      "3   -0.192773\n",
      "4   -0.298215\n",
      "dtype: float64\n"
     ]
    }
   ],
   "source": [
    "import pandas as pd\n",
    "import numpy as np\n",
    "\n",
    "#Create a series with 5 random numbers\n",
    "s = pd.Series(np.random.randn(5))\n",
    "print(s)"
   ]
  },
  {
   "cell_type": "markdown",
   "metadata": {},
   "source": [
    "# axes\n",
    "Returns the list of the labels of the series."
   ]
  },
  {
   "cell_type": "code",
   "execution_count": 1,
   "metadata": {},
   "outputs": [
    {
     "name": "stdout",
     "output_type": "stream",
     "text": [
      "0    0.522826\n",
      "1    1.119726\n",
      "2   -0.011160\n",
      "3   -1.788153\n",
      "dtype: float64\n",
      "The axes are:\n",
      "[RangeIndex(start=0, stop=4, step=1)]\n"
     ]
    }
   ],
   "source": [
    "import pandas as pd\n",
    "import numpy as np\n",
    "\n",
    "#Create a series with 4 random numbers\n",
    "s = pd.Series(np.random.randn(4))\n",
    "print(s)\n",
    "print (\"The axes are:\")\n",
    "print(s.axes)\n",
    "\n",
    "# The result is a compact format of a list of values from 0 to 3, i.e., [0,1,2,3]."
   ]
  },
  {
   "cell_type": "markdown",
   "metadata": {},
   "source": [
    "# empty\n",
    "Returns the Boolean value saying whether the Object is empty or not. True indicates that the object is empty."
   ]
  },
  {
   "cell_type": "code",
   "execution_count": 12,
   "metadata": {},
   "outputs": [
    {
     "name": "stdout",
     "output_type": "stream",
     "text": [
      "Is the Object empty?\n",
      "False\n"
     ]
    }
   ],
   "source": [
    "import pandas as pd\n",
    "import numpy as np\n",
    "\n",
    "#Create a series with 5 random numbers\n",
    "s = pd.Series(np.random.randn(5))\n",
    "print (\"Is the Object empty?\")\n",
    "print(s.empty)"
   ]
  },
  {
   "cell_type": "markdown",
   "metadata": {},
   "source": [
    "# ndim\n",
    "Returns the number of dimensions of the object. By definition, a Series is a 1D data structure, so it returns"
   ]
  },
  {
   "cell_type": "code",
   "execution_count": 14,
   "metadata": {},
   "outputs": [
    {
     "name": "stdout",
     "output_type": "stream",
     "text": [
      "0    0.831327\n",
      "1   -0.357961\n",
      "2   -1.970412\n",
      "3   -0.398408\n",
      "dtype: float64\n",
      "The dimensions of the object:\n",
      "1\n"
     ]
    }
   ],
   "source": [
    "import pandas as pd\n",
    "import numpy as np\n",
    "\n",
    "#Create a series with 4 random numbers\n",
    "s = pd.Series(np.random.randn(4))\n",
    "print(s)\n",
    "\n",
    "print (\"The dimensions of the object:\")\n",
    "print(s.ndim)"
   ]
  },
  {
   "cell_type": "markdown",
   "metadata": {},
   "source": [
    "# size\n",
    "Returns the size(length) of the series."
   ]
  },
  {
   "cell_type": "code",
   "execution_count": 16,
   "metadata": {},
   "outputs": [
    {
     "name": "stdout",
     "output_type": "stream",
     "text": [
      "0   -0.318939\n",
      "1   -0.261690\n",
      "2    0.769079\n",
      "dtype: float64\n",
      "The size of the object:\n",
      "3\n"
     ]
    }
   ],
   "source": [
    "import pandas as pd\n",
    "import numpy as np\n",
    "\n",
    "#Create a series with 3 random numbers\n",
    "s = pd.Series(np.random.randn(3))\n",
    "print(s)\n",
    "print (\"The size of the object:\")\n",
    "print(s.size)"
   ]
  },
  {
   "cell_type": "markdown",
   "metadata": {},
   "source": [
    "# values\n",
    "Returns the actual data in the series as an array."
   ]
  },
  {
   "cell_type": "code",
   "execution_count": 17,
   "metadata": {},
   "outputs": [
    {
     "name": "stdout",
     "output_type": "stream",
     "text": [
      "0    1.277034\n",
      "1    0.815681\n",
      "2   -1.042398\n",
      "3   -0.347367\n",
      "dtype: float64\n",
      "The actual data series is:\n",
      "[ 1.2770336   0.81568138 -1.04239802 -0.34736711]\n"
     ]
    }
   ],
   "source": [
    "import pandas as pd\n",
    "import numpy as np\n",
    "\n",
    "#Create a series with 4 random numbers\n",
    "s = pd.Series(np.random.randn(4))\n",
    "print(s)\n",
    "\n",
    "print (\"The actual data series is:\")\n",
    "print(s.values)"
   ]
  },
  {
   "cell_type": "markdown",
   "metadata": {},
   "source": [
    "# Head & Tail\n",
    "To view a small sample of a Series or the DataFrame object, use the head() and the tail() methods.\n",
    "\n",
    "head() returns the first n rows(observe the index values). The default number of elements to display is five, but you may pass a custom number."
   ]
  },
  {
   "cell_type": "code",
   "execution_count": 18,
   "metadata": {},
   "outputs": [
    {
     "name": "stdout",
     "output_type": "stream",
     "text": [
      "The original series is:\n",
      "0    0.564282\n",
      "1   -0.522064\n",
      "2    0.465227\n",
      "3   -1.502994\n",
      "dtype: float64\n",
      "The first two rows of the data series:\n",
      "0    0.564282\n",
      "1   -0.522064\n",
      "dtype: float64\n"
     ]
    }
   ],
   "source": [
    "import pandas as pd\n",
    "import numpy as np\n",
    "\n",
    "#Create a series with 4 random numbers\n",
    "s = pd.Series(np.random.randn(4))\n",
    "print (\"The original series is:\")\n",
    "print(s)\n",
    "\n",
    "print (\"The first two rows of the data series:\")\n",
    "print(s.head(2))"
   ]
  },
  {
   "cell_type": "markdown",
   "metadata": {},
   "source": [
    "tail() returns the last n rows(observe the index values). The default number of elements to display is five, but you may pass a custom number."
   ]
  },
  {
   "cell_type": "code",
   "execution_count": 20,
   "metadata": {},
   "outputs": [
    {
     "name": "stdout",
     "output_type": "stream",
     "text": [
      "The original series is:\n",
      "0   -1.946589\n",
      "1    0.374611\n",
      "2   -0.109260\n",
      "3   -0.401824\n",
      "dtype: float64\n",
      "The last two rows of the data series:\n",
      "2   -0.109260\n",
      "3   -0.401824\n",
      "dtype: float64\n"
     ]
    }
   ],
   "source": [
    "import pandas as pd\n",
    "import numpy as np\n",
    "\n",
    "#Create a series with 4 random numbers\n",
    "s = pd.Series(np.random.randn(4))\n",
    "print (\"The original series is:\")\n",
    "print(s)\n",
    "\n",
    "print (\"The last two rows of the data series:\")\n",
    "print(s.tail(2))"
   ]
  },
  {
   "cell_type": "markdown",
   "metadata": {},
   "source": [
    "# Example 1 "
   ]
  },
  {
   "cell_type": "code",
   "execution_count": 1,
   "metadata": {},
   "outputs": [
    {
     "name": "stdout",
     "output_type": "stream",
     "text": [
      "Our data series is:\n",
      "    Name  Age  Rating\n",
      "0    Tom   25    4.23\n",
      "1  James   26    3.24\n",
      "2  Ricky   25    3.98\n",
      "3    Vin   23    2.56\n",
      "4  Steve   30    3.20\n",
      "5  Smith   29    4.60\n",
      "6   Jack   23    3.80\n"
     ]
    }
   ],
   "source": [
    "import pandas as pd\n",
    "import numpy as np\n",
    "\n",
    "#Create a Dictionary of series\n",
    "d = {'Name':pd.Series(['Tom','James','Ricky','Vin','Steve','Smith','Jack']),\n",
    "   'Age':pd.Series([25,26,25,23,30,29,23]),\n",
    "   'Rating':pd.Series([4.23,3.24,3.98,2.56,3.20,4.6,3.8])}\n",
    "\n",
    "#Create a DataFrame\n",
    "df = pd.DataFrame(d)\n",
    "print (\"Our data series is:\")\n",
    "print(df)"
   ]
  },
  {
   "cell_type": "markdown",
   "metadata": {},
   "source": [
    "# T (Transpose)\n",
    "Returns the transpose of the DataFrame. The rows and columns will interchange."
   ]
  },
  {
   "cell_type": "code",
   "execution_count": 2,
   "metadata": {},
   "outputs": [
    {
     "name": "stdout",
     "output_type": "stream",
     "text": [
      "The transpose of the data series is:\n",
      "           0      1      2     3      4      5     6\n",
      "Name     Tom  James  Ricky   Vin  Steve  Smith  Jack\n",
      "Age       25     26     25    23     30     29    23\n",
      "Rating  4.23   3.24   3.98  2.56    3.2    4.6   3.8\n"
     ]
    }
   ],
   "source": [
    "import pandas as pd\n",
    "import numpy as np\n",
    " \n",
    "# Create a Dictionary of series\n",
    "d = {'Name':pd.Series(['Tom','James','Ricky','Vin','Steve','Smith','Jack']),\n",
    "   'Age':pd.Series([25,26,25,23,30,29,23]),\n",
    "   'Rating':pd.Series([4.23,3.24,3.98,2.56,3.20,4.6,3.8])}\n",
    "\n",
    "# Create a DataFrame\n",
    "df = pd.DataFrame(d)\n",
    "print (\"The transpose of the data series is:\")\n",
    "print(df.T)"
   ]
  },
  {
   "cell_type": "markdown",
   "metadata": {},
   "source": [
    "# axes\n",
    "Returns the list of row axis labels and column axis labels."
   ]
  },
  {
   "cell_type": "code",
   "execution_count": 3,
   "metadata": {},
   "outputs": [
    {
     "name": "stdout",
     "output_type": "stream",
     "text": [
      "Row axis labels and column axis labels are:\n",
      "[RangeIndex(start=0, stop=7, step=1), Index(['Name', 'Age', 'Rating'], dtype='object')]\n"
     ]
    }
   ],
   "source": [
    "import pandas as pd\n",
    "import numpy as np\n",
    "\n",
    "#Create a Dictionary of series\n",
    "d = {'Name':pd.Series(['Tom','James','Ricky','Vin','Steve','Smith','Jack']),\n",
    "   'Age':pd.Series([25,26,25,23,30,29,23]),\n",
    "   'Rating':pd.Series([4.23,3.24,3.98,2.56,3.20,4.6,3.8])}\n",
    "\n",
    "#Create a DataFrame\n",
    "df = pd.DataFrame(d)\n",
    "print (\"Row axis labels and column axis labels are:\")\n",
    "print(df.axes)"
   ]
  },
  {
   "cell_type": "markdown",
   "metadata": {},
   "source": [
    "# dtypes\n",
    "Returns the data type of each column."
   ]
  },
  {
   "cell_type": "code",
   "execution_count": 5,
   "metadata": {},
   "outputs": [
    {
     "name": "stdout",
     "output_type": "stream",
     "text": [
      "The data types of each column are:\n",
      "Name       object\n",
      "Age         int64\n",
      "Rating    float64\n",
      "dtype: object\n"
     ]
    }
   ],
   "source": [
    "import pandas as pd\n",
    "import numpy as np\n",
    "\n",
    "#Create a Dictionary of series\n",
    "d = {'Name':pd.Series(['Tom','James','Ricky','Vin','Steve','Smith','Jack']),\n",
    "   'Age':pd.Series([25,26,25,23,30,29,23]),\n",
    "   'Rating':pd.Series([4.23,3.24,3.98,2.56,3.20,4.6,3.8])}\n",
    "\n",
    "#Create a DataFrame\n",
    "df = pd.DataFrame(d)\n",
    "print (\"The data types of each column are:\")\n",
    "print(df.dtypes)"
   ]
  },
  {
   "cell_type": "markdown",
   "metadata": {},
   "source": [
    "# empty\n",
    "Returns the Boolean value saying whether the Object is empty or not; True indicates that the object is empty."
   ]
  },
  {
   "cell_type": "code",
   "execution_count": 7,
   "metadata": {},
   "outputs": [
    {
     "name": "stdout",
     "output_type": "stream",
     "text": [
      "Is the object empty?\n",
      "False\n"
     ]
    }
   ],
   "source": [
    "import pandas as pd\n",
    "import numpy as np\n",
    " \n",
    "#Create a Dictionary of series\n",
    "d = {'Name':pd.Series(['Tom','James','Ricky','Vin','Steve','Smith','Jack']),\n",
    "   'Age':pd.Series([25,26,25,23,30,29,23]),\n",
    "   'Rating':pd.Series([4.23,3.24,3.98,2.56,3.20,4.6,3.8])}\n",
    " \n",
    "#Create a DataFrame\n",
    "df = pd.DataFrame(d)\n",
    "print (\"Is the object empty?\")\n",
    "print(df.empty)"
   ]
  },
  {
   "cell_type": "markdown",
   "metadata": {},
   "source": [
    "# ndim\n",
    "Returns the number of dimensions of the object. By definition, DataFrame is a 2D object."
   ]
  },
  {
   "cell_type": "code",
   "execution_count": 8,
   "metadata": {},
   "outputs": [
    {
     "name": "stdout",
     "output_type": "stream",
     "text": [
      "Our object is:\n",
      "    Name  Age  Rating\n",
      "0    Tom   25    4.23\n",
      "1  James   26    3.24\n",
      "2  Ricky   25    3.98\n",
      "3    Vin   23    2.56\n",
      "4  Steve   30    3.20\n",
      "5  Smith   29    4.60\n",
      "6   Jack   23    3.80\n",
      "The dimension of the object is:\n",
      "2\n"
     ]
    }
   ],
   "source": [
    "import pandas as pd\n",
    "import numpy as np\n",
    "\n",
    "#Create a Dictionary of series\n",
    "d = {'Name':pd.Series(['Tom','James','Ricky','Vin','Steve','Smith','Jack']),\n",
    "   'Age':pd.Series([25,26,25,23,30,29,23]),\n",
    "   'Rating':pd.Series([4.23,3.24,3.98,2.56,3.20,4.6,3.8])}\n",
    "\n",
    "#Create a DataFrame\n",
    "df = pd.DataFrame(d)\n",
    "print (\"Our object is:\")\n",
    "print(df)\n",
    "print (\"The dimension of the object is:\")\n",
    "print(df.ndim)"
   ]
  },
  {
   "cell_type": "markdown",
   "metadata": {},
   "source": [
    "# shape\n",
    "Returns a tuple representing the dimensionality of the DataFrame. Tuple (a,b), where a represents the number of rows and b represents the number of columns."
   ]
  },
  {
   "cell_type": "code",
   "execution_count": 9,
   "metadata": {},
   "outputs": [
    {
     "name": "stdout",
     "output_type": "stream",
     "text": [
      "Our object is:\n",
      "    Name  Age  Rating\n",
      "0    Tom   25    4.23\n",
      "1  James   26    3.24\n",
      "2  Ricky   25    3.98\n",
      "3    Vin   23    2.56\n",
      "4  Steve   30    3.20\n",
      "5  Smith   29    4.60\n",
      "6   Jack   23    3.80\n",
      "The shape of the object is:\n",
      "(7, 3)\n"
     ]
    }
   ],
   "source": [
    "import pandas as pd\n",
    "import numpy as np\n",
    " \n",
    "#Create a Dictionary of series\n",
    "d = {'Name':pd.Series(['Tom','James','Ricky','Vin','Steve','Smith','Jack']),\n",
    "   'Age':pd.Series([25,26,25,23,30,29,23]),\n",
    "   'Rating':pd.Series([4.23,3.24,3.98,2.56,3.20,4.6,3.8])}\n",
    " \n",
    "#Create a DataFrame\n",
    "df = pd.DataFrame(d)\n",
    "print (\"Our object is:\")\n",
    "print(df)\n",
    "print (\"The shape of the object is:\")\n",
    "print(df.shape)"
   ]
  },
  {
   "cell_type": "markdown",
   "metadata": {},
   "source": [
    "# size\n",
    "Returns the number of elements in the DataFrame."
   ]
  },
  {
   "cell_type": "code",
   "execution_count": 10,
   "metadata": {},
   "outputs": [
    {
     "name": "stdout",
     "output_type": "stream",
     "text": [
      "Our object is:\n",
      "    Name  Age  Rating\n",
      "0    Tom   25    4.23\n",
      "1  James   26    3.24\n",
      "2  Ricky   25    3.98\n",
      "3    Vin   23    2.56\n",
      "4  Steve   30    3.20\n",
      "5  Smith   29    4.60\n",
      "6   Jack   23    3.80\n",
      "The total number of elements in our object is:\n",
      "21\n"
     ]
    }
   ],
   "source": [
    "import pandas as pd\n",
    "import numpy as np\n",
    " \n",
    "#Create a Dictionary of series\n",
    "d = {'Name':pd.Series(['Tom','James','Ricky','Vin','Steve','Smith','Jack']),\n",
    "   'Age':pd.Series([25,26,25,23,30,29,23]),\n",
    "   'Rating':pd.Series([4.23,3.24,3.98,2.56,3.20,4.6,3.8])}\n",
    " \n",
    "#Create a DataFrame\n",
    "df = pd.DataFrame(d)\n",
    "print (\"Our object is:\")\n",
    "print(df)\n",
    "print (\"The total number of elements in our object is:\")\n",
    "print(df.size)"
   ]
  },
  {
   "cell_type": "markdown",
   "metadata": {},
   "source": [
    "# values\n",
    "Returns the actual data in the DataFrame as an NDarray."
   ]
  },
  {
   "cell_type": "code",
   "execution_count": 11,
   "metadata": {},
   "outputs": [
    {
     "name": "stdout",
     "output_type": "stream",
     "text": [
      "Our object is:\n",
      "    Name  Age  Rating\n",
      "0    Tom   25    4.23\n",
      "1  James   26    3.24\n",
      "2  Ricky   25    3.98\n",
      "3    Vin   23    2.56\n",
      "4  Steve   30    3.20\n",
      "5  Smith   29    4.60\n",
      "6   Jack   23    3.80\n",
      "The actual data in our data frame is:\n",
      "[['Tom' 25 4.23]\n",
      " ['James' 26 3.24]\n",
      " ['Ricky' 25 3.98]\n",
      " ['Vin' 23 2.56]\n",
      " ['Steve' 30 3.2]\n",
      " ['Smith' 29 4.6]\n",
      " ['Jack' 23 3.8]]\n"
     ]
    }
   ],
   "source": [
    "import pandas as pd\n",
    "import numpy as np\n",
    " \n",
    "#Create a Dictionary of series\n",
    "d = {'Name':pd.Series(['Tom','James','Ricky','Vin','Steve','Smith','Jack']),\n",
    "   'Age':pd.Series([25,26,25,23,30,29,23]),\n",
    "   'Rating':pd.Series([4.23,3.24,3.98,2.56,3.20,4.6,3.8])}\n",
    " \n",
    "#Create a DataFrame\n",
    "df = pd.DataFrame(d)\n",
    "print (\"Our object is:\")\n",
    "print(df)\n",
    "print (\"The actual data in our data frame is:\")\n",
    "print(df.values)"
   ]
  },
  {
   "cell_type": "markdown",
   "metadata": {},
   "source": [
    "# Head & Tail\n",
    "To view a small sample of a DataFrame object, use the head() and tail() methods. head() returns the first n rows (observe the index values). The default number of elements to display is five, but you may pass a custom number."
   ]
  },
  {
   "cell_type": "code",
   "execution_count": 12,
   "metadata": {},
   "outputs": [
    {
     "name": "stdout",
     "output_type": "stream",
     "text": [
      "Our data frame is:\n",
      "    Name  Age  Rating\n",
      "0    Tom   25    4.23\n",
      "1  James   26    3.24\n",
      "2  Ricky   25    3.98\n",
      "3    Vin   23    2.56\n",
      "4  Steve   30    3.20\n",
      "5  Smith   29    4.60\n",
      "6   Jack   23    3.80\n",
      "The first two rows of the data frame is:\n",
      "    Name  Age  Rating\n",
      "0    Tom   25    4.23\n",
      "1  James   26    3.24\n"
     ]
    }
   ],
   "source": [
    "import pandas as pd\n",
    "import numpy as np\n",
    " \n",
    "#Create a Dictionary of series\n",
    "d = {'Name':pd.Series(['Tom','James','Ricky','Vin','Steve','Smith','Jack']),\n",
    "   'Age':pd.Series([25,26,25,23,30,29,23]),\n",
    "   'Rating':pd.Series([4.23,3.24,3.98,2.56,3.20,4.6,3.8])}\n",
    "\n",
    "#Create a DataFrame\n",
    "df = pd.DataFrame(d)\n",
    "print (\"Our data frame is:\")\n",
    "print(df)\n",
    "print (\"The first two rows of the data frame is:\")\n",
    "print(df.head(2))"
   ]
  },
  {
   "cell_type": "markdown",
   "metadata": {},
   "source": [
    "tail() returns the last n rows (observe the index values). The default number of elements to display is five, but you may pass a custom number."
   ]
  },
  {
   "cell_type": "code",
   "execution_count": 13,
   "metadata": {},
   "outputs": [
    {
     "name": "stdout",
     "output_type": "stream",
     "text": [
      "Our data frame is:\n",
      "    Name  Age  Rating\n",
      "0    Tom   25    4.23\n",
      "1  James   26    3.24\n",
      "2  Ricky   25    3.98\n",
      "3    Vin   23    2.56\n",
      "4  Steve   30    3.20\n",
      "5  Smith   29    4.60\n",
      "6   Jack   23    3.80\n",
      "The last two rows of the data frame is:\n",
      "    Name  Age  Rating\n",
      "5  Smith   29     4.6\n",
      "6   Jack   23     3.8\n"
     ]
    }
   ],
   "source": [
    "import pandas as pd\n",
    "import numpy as np\n",
    "\n",
    "#Create a Dictionary of series\n",
    "d = {'Name':pd.Series(['Tom','James','Ricky','Vin','Steve','Smith','Jack']),\n",
    "   'Age':pd.Series([25,26,25,23,30,29,23]), \n",
    "   'Rating':pd.Series([4.23,3.24,3.98,2.56,3.20,4.6,3.8])}\n",
    " \n",
    "#Create a DataFrame\n",
    "df = pd.DataFrame(d)\n",
    "print (\"Our data frame is:\")\n",
    "print(df)\n",
    "print (\"The last two rows of the data frame is:\")\n",
    "print(df.tail(2))"
   ]
  },
  {
   "cell_type": "code",
   "execution_count": null,
   "metadata": {},
   "outputs": [],
   "source": []
  }
 ],
 "metadata": {
  "kernelspec": {
   "display_name": "Python 3",
   "language": "python",
   "name": "python3"
  },
  "language_info": {
   "codemirror_mode": {
    "name": "ipython",
    "version": 3
   },
   "file_extension": ".py",
   "mimetype": "text/x-python",
   "name": "python",
   "nbconvert_exporter": "python",
   "pygments_lexer": "ipython3",
   "version": "3.8.3"
  }
 },
 "nbformat": 4,
 "nbformat_minor": 4
}
