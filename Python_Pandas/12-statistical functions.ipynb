{
 "cells": [
  {
   "cell_type": "markdown",
   "metadata": {},
   "source": [
    "# Percent_change\n",
    "Series, DatFrames and Panel, all have the function pct_change(). This function compares every element with its prior element and computes the change percentage."
   ]
  },
  {
   "cell_type": "code",
   "execution_count": 5,
   "metadata": {},
   "outputs": [
    {
     "name": "stdout",
     "output_type": "stream",
     "text": [
      "0    1\n",
      "1    2\n",
      "2    3\n",
      "3    4\n",
      "4    5\n",
      "5    4\n",
      "dtype: int64\n",
      "0         NaN\n",
      "1    1.000000\n",
      "2    0.500000\n",
      "3    0.333333\n",
      "4    0.250000\n",
      "5   -0.200000\n",
      "dtype: float64\n",
      "           0         1\n",
      "0        NaN       NaN\n",
      "1  18.469605 -1.807851\n",
      "2  -1.665887 -0.600807\n",
      "3  -1.873809  4.607648\n",
      "4  -1.438265 -0.978726\n"
     ]
    }
   ],
   "source": [
    "import pandas as pd\n",
    "import numpy as np\n",
    "s = pd.Series([1,2,3,4,5,4])\n",
    "print(s)\n",
    "print(s.pct_change())\n",
    "\n",
    "df = pd.DataFrame(np.random.randn(5, 2))\n",
    "print(df.pct_change())\n",
    "\n",
    "# By default, the pct_change() operates on columns; if you want to apply the same row wise, then use axis=1() argument."
   ]
  },
  {
   "cell_type": "markdown",
   "metadata": {},
   "source": [
    "# Covariance\n",
    "Covariance is applied on series data. The Series object has a method cov to compute covariance between series objects. NA will be excluded automatically."
   ]
  },
  {
   "cell_type": "code",
   "execution_count": 6,
   "metadata": {},
   "outputs": [
    {
     "name": "stdout",
     "output_type": "stream",
     "text": [
      "0.14361050913525644\n"
     ]
    }
   ],
   "source": [
    "import pandas as pd\n",
    "import numpy as np\n",
    "s1 = pd.Series(np.random.randn(10))\n",
    "s2 = pd.Series(np.random.randn(10))\n",
    "print(s1.cov(s2))"
   ]
  },
  {
   "cell_type": "code",
   "execution_count": 8,
   "metadata": {},
   "outputs": [
    {
     "name": "stdout",
     "output_type": "stream",
     "text": [
      "-0.4919548787212941\n",
      "          a         b         c         d         e\n",
      "a  1.515605 -0.491955 -0.195372  0.013336 -0.117609\n",
      "b -0.491955  1.020031 -0.409498 -0.086240  0.099735\n",
      "c -0.195372 -0.409498  1.649113  0.119809 -0.760584\n",
      "d  0.013336 -0.086240  0.119809  0.919401 -0.087486\n",
      "e -0.117609  0.099735 -0.760584 -0.087486  1.052796\n"
     ]
    }
   ],
   "source": [
    "# Covariance method when applied on a DataFrame, computes cov between all the columns.\n",
    "\n",
    "import pandas as pd\n",
    "import numpy as np\n",
    "frame = pd.DataFrame(np.random.randn(10, 5), columns=['a', 'b', 'c', 'd', 'e'])\n",
    "print(frame['a'].cov(frame['b']))\n",
    "print (frame.cov())\n",
    "\n",
    "# Note − Observe the cov between a and b column in the first statement and the same is the value returned by cov on DataFrame."
   ]
  },
  {
   "cell_type": "markdown",
   "metadata": {},
   "source": [
    "# Correlation\n",
    "Correlation shows the linear relationship between any two array of values (series). There are multiple methods to compute the correlation like pearson(default), spearman and kendall."
   ]
  },
  {
   "cell_type": "code",
   "execution_count": 10,
   "metadata": {},
   "outputs": [
    {
     "name": "stdout",
     "output_type": "stream",
     "text": [
      "0.02073370913987883\n",
      "          a         b         c         d         e\n",
      "a  1.000000  0.020734  0.083472 -0.207064 -0.319218\n",
      "b  0.020734  1.000000 -0.309663 -0.248847 -0.337124\n",
      "c  0.083472 -0.309663  1.000000  0.262084 -0.150408\n",
      "d -0.207064 -0.248847  0.262084  1.000000  0.627536\n",
      "e -0.319218 -0.337124 -0.150408  0.627536  1.000000\n"
     ]
    }
   ],
   "source": [
    "import pandas as pd\n",
    "import numpy as np\n",
    "frame = pd.DataFrame(np.random.randn(10, 5), columns=['a', 'b', 'c', 'd', 'e'])\n",
    "\n",
    "print(frame['a'].corr(frame['b']))\n",
    "print(frame.corr())\n",
    "\n",
    "# If any non-numeric column is present in the DataFrame, it is excluded automatically."
   ]
  },
  {
   "cell_type": "markdown",
   "metadata": {},
   "source": [
    "# Data Ranking\n",
    "Data Ranking produces ranking for each element in the array of elements. In case of ties, assigns the mean rank."
   ]
  },
  {
   "cell_type": "code",
   "execution_count": 13,
   "metadata": {},
   "outputs": [
    {
     "name": "stdout",
     "output_type": "stream",
     "text": [
      "a    5.0\n",
      "b    3.5\n",
      "c    1.0\n",
      "d    3.5\n",
      "e    2.0\n",
      "dtype: float64\n"
     ]
    }
   ],
   "source": [
    "import pandas as pd\n",
    "import numpy as np\n",
    "\n",
    "s = pd.Series(np.random.randn(5), index=list('abcde'))\n",
    "s['d'] = s['b'] # so there's a tie\n",
    "print(s.rank())"
   ]
  },
  {
   "cell_type": "markdown",
   "metadata": {},
   "source": [
    "# Rank optionally takes a parameter ascending which by default is true; when false, data is reverse-ranked, with larger values assigned a smaller rank.\n",
    "\n",
    "Rank supports different tie-breaking methods, specified with the method parameter −\n",
    "\n",
    "average − average rank of tied group\n",
    "\n",
    "min − lowest rank in the group\n",
    "\n",
    "max − highest rank in the group\n",
    "\n",
    "first − ranks assigned in the order they appear in the array\n",
    "\n",
    "# Syntax: DataFrame.rank(self, axis=0, method='average', numeric_only=None, na_option='keep', ascending=True, pct=False)"
   ]
  },
  {
   "cell_type": "code",
   "execution_count": 19,
   "metadata": {},
   "outputs": [
    {
     "name": "stdout",
     "output_type": "stream",
     "text": [
      "     Animal  Number_legs\n",
      "0       fox          4.0\n",
      "1  Kangaroo          2.0\n",
      "2      deer          4.0\n",
      "3    spider          8.0\n",
      "4     snake          NaN\n"
     ]
    }
   ],
   "source": [
    "import numpy as np\n",
    "import pandas as pd\n",
    "df = pd.DataFrame(data={'Animal': ['fox', 'Kangaroo', 'deer',\n",
    "                                   'spider', 'snake'],\n",
    "                        'Number_legs': [4, 2, 4, 8, np.nan]})\n",
    "print(df)\n"
   ]
  },
  {
   "cell_type": "code",
   "execution_count": 20,
   "metadata": {},
   "outputs": [
    {
     "name": "stdout",
     "output_type": "stream",
     "text": [
      "     Animal  Number_legs  default_rank  max_rank  NA_bottom  pct_rank\n",
      "0       fox          4.0           2.5       3.0        2.5     0.625\n",
      "1  Kangaroo          2.0           1.0       1.0        1.0     0.250\n",
      "2      deer          4.0           2.5       3.0        2.5     0.625\n",
      "3    spider          8.0           4.0       4.0        4.0     1.000\n",
      "4     snake          NaN           NaN       NaN        5.0       NaN\n"
     ]
    }
   ],
   "source": [
    "df['default_rank'] = df['Number_legs'].rank()\n",
    "df['max_rank'] = df['Number_legs'].rank(method='max')\n",
    "df['NA_bottom'] = df['Number_legs'].rank(na_option='bottom')\n",
    "df['pct_rank'] = df['Number_legs'].rank(pct=True)\n",
    "print(df)"
   ]
  },
  {
   "cell_type": "markdown",
   "metadata": {},
   "source": [
    "# ***DataFrame.rank() procedure images attached"
   ]
  },
  {
   "cell_type": "code",
   "execution_count": null,
   "metadata": {},
   "outputs": [],
   "source": []
  }
 ],
 "metadata": {
  "kernelspec": {
   "display_name": "Python 3",
   "language": "python",
   "name": "python3"
  },
  "language_info": {
   "codemirror_mode": {
    "name": "ipython",
    "version": 3
   },
   "file_extension": ".py",
   "mimetype": "text/x-python",
   "name": "python",
   "nbconvert_exporter": "python",
   "pygments_lexer": "ipython3",
   "version": "3.8.3"
  }
 },
 "nbformat": 4,
 "nbformat_minor": 4
}
