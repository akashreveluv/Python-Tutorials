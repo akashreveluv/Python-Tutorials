{
 "cells": [
  {
   "cell_type": "markdown",
   "metadata": {},
   "source": [
    "# => Function Application"
   ]
  },
  {
   "cell_type": "markdown",
   "metadata": {},
   "source": [
    "# Table-wise Function Application\n",
    "Custom operations can be performed by passing the function and the appropriate number of parameters as pipe arguments. Thus, operation is performed on the whole DataFrame.\n",
    "\n",
    "For example, add a value 2 to all the elements in the DataFrame. Then,\n",
    "\n",
    "adder function:\n",
    "The adder function adds two numeric values as parameters and returns the sum.\n",
    "\n",
    "def adder(ele1,ele2):\n",
    "\n",
    "   return ele1+ele2\n",
    "   \n",
    "We will now use the custom function to conduct operation on the DataFrame:\n",
    "\n",
    "df = pd.DataFrame(np.random.randn(5,3),columns=['col1','col2','col3'])\n",
    "\n",
    "df.pipe(adder,2)"
   ]
  },
  {
   "cell_type": "code",
   "execution_count": 8,
   "metadata": {},
   "outputs": [
    {
     "name": "stdout",
     "output_type": "stream",
     "text": [
      "   Col1  Col2\n",
      "0    25    23\n",
      "1    26    24\n",
      "2    25    98\n",
      "3    23    56\n",
      "4    30    20\n",
      "5    29    46\n",
      "6    23    38\n",
      "   Col1  Col2\n",
      "0    27    25\n",
      "1    28    26\n",
      "2    27   100\n",
      "3    25    58\n",
      "4    32    22\n",
      "5    31    48\n",
      "6    25    40\n"
     ]
    }
   ],
   "source": [
    "import pandas as pd\n",
    "import numpy as np\n",
    "\n",
    "def adder(ele1,ele2):\n",
    "   return ele1+ele2\n",
    "\n",
    "d = {'Col1':pd.Series([25,26,25,23,30,29,23]),\n",
    "     'Col2':pd.Series([23,24,98,56,20,46,38])}\n",
    "\n",
    "df = pd.DataFrame(d)\n",
    "print(df)\n",
    "df.pipe(adder,2)\n",
    "print(df.pipe(adder,2))\n",
    "\n",
    "# (adder,2) means add 2 with prvious values"
   ]
  },
  {
   "cell_type": "markdown",
   "metadata": {},
   "source": [
    "# Row or Column Wise Function Application\n",
    "Arbitrary functions can be applied along the axes of a DataFrame or Panel using the apply() method, which, like the descriptive statistics methods, takes an optional axis argument. By default, the operation performs column wise, taking each column as an array-like."
   ]
  },
  {
   "cell_type": "code",
   "execution_count": 9,
   "metadata": {},
   "outputs": [
    {
     "name": "stdout",
     "output_type": "stream",
     "text": [
      "   Col1  Col2\n",
      "0    25    23\n",
      "1    26    24\n",
      "2    25    98\n",
      "3    23    56\n",
      "4    30    20\n",
      "5    29    46\n",
      "6    23    38\n",
      "Col1    25.857143\n",
      "Col2    43.571429\n",
      "dtype: float64\n"
     ]
    }
   ],
   "source": [
    "import pandas as pd\n",
    "import numpy as np\n",
    "\n",
    "d = {'Col1':pd.Series([25,26,25,23,30,29,23]),\n",
    "     'Col2':pd.Series([23,24,98,56,20,46,38])}\n",
    "\n",
    "df = pd.DataFrame(d)\n",
    "print(df)\n",
    "df.apply(np.mean)\n",
    "print(df.apply(np.mean))"
   ]
  },
  {
   "cell_type": "markdown",
   "metadata": {},
   "source": [
    "By passing axis parameter, operations can be performed row wise."
   ]
  },
  {
   "cell_type": "code",
   "execution_count": 22,
   "metadata": {},
   "outputs": [
    {
     "name": "stdout",
     "output_type": "stream",
     "text": [
      "   Col1  Col2\n",
      "0    25    23\n",
      "1    26    24\n",
      "2    25    98\n",
      "3    23    56\n",
      "4    30    20\n",
      "5    29    46\n",
      "6    23    38\n",
      "0    24.0\n",
      "1    25.0\n",
      "2    61.5\n",
      "3    39.5\n",
      "4    25.0\n",
      "5    37.5\n",
      "6    30.5\n",
      "dtype: float64\n"
     ]
    }
   ],
   "source": [
    "import pandas as pd\n",
    "import numpy as np\n",
    "\n",
    "d = {'Col1':pd.Series([25,26,25,23,30,29,23]),\n",
    "     'Col2':pd.Series([23,24,98,56,20,46,38])}\n",
    "\n",
    "df = pd.DataFrame(d)\n",
    "print(df)\n",
    "df.apply(np.mean,axis=1)\n",
    "print(df.apply(np.mean,axis=1))"
   ]
  },
  {
   "cell_type": "code",
   "execution_count": 23,
   "metadata": {},
   "outputs": [
    {
     "name": "stdout",
     "output_type": "stream",
     "text": [
      "   Col1  Col2\n",
      "0    25    23\n",
      "1    26    24\n",
      "2    25    98\n",
      "3    23    56\n",
      "4    30    20\n",
      "5    29    46\n",
      "6    23    38\n",
      "Col1     7\n",
      "Col2    78\n",
      "dtype: int64\n"
     ]
    }
   ],
   "source": [
    "import pandas as pd\n",
    "import numpy as np\n",
    "\n",
    "d = {'Col1':pd.Series([25,26,25,23,30,29,23]),\n",
    "     'Col2':pd.Series([23,24,98,56,20,46,38])}\n",
    "\n",
    "df = pd.DataFrame(d)\n",
    "print(df)\n",
    "df.apply(lambda x: x.max() - x.min())\n",
    "print(df.apply(lambda x: x.max() - x.min()))"
   ]
  },
  {
   "cell_type": "markdown",
   "metadata": {},
   "source": [
    "# Element Wise Function Application\n",
    "Not all functions can be vectorized (neither the NumPy arrays which return another array nor any value), the methods applymap() on DataFrame and analogously map() on Series accept any Python function taking a single value and returning a single value."
   ]
  },
  {
   "cell_type": "code",
   "execution_count": 43,
   "metadata": {},
   "outputs": [
    {
     "name": "stdout",
     "output_type": "stream",
     "text": [
      "   Col1  Col2\n",
      "0    25    23\n",
      "1    26    24\n",
      "2    25    98\n",
      "3    23    56\n",
      "4    30    20\n",
      "5    29    46\n",
      "6    23    38\n",
      "Col1    25.857143\n",
      "Col2    43.571429\n",
      "dtype: float64\n",
      "   Col1  Col2\n",
      "0    50    46\n",
      "1    52    48\n",
      "2    50   196\n",
      "3    46   112\n",
      "4    60    40\n",
      "5    58    92\n",
      "6    46    76\n",
      "Col1    51.714286\n",
      "Col2    87.142857\n",
      "dtype: float64\n"
     ]
    }
   ],
   "source": [
    "import pandas as pd\n",
    "import numpy as np\n",
    "\n",
    "# My custom function\n",
    "d = {'Col1':pd.Series([25,26,25,23,30,29,23]),\n",
    "     'Col2':pd.Series([23,24,98,56,20,46,38])}\n",
    "\n",
    "df = pd.DataFrame(d)\n",
    "print(df)\n",
    "print(df.apply(np.mean))\n",
    "\n",
    "e = df.applymap(lambda x:x*2)\n",
    "print(e)\n",
    "print(e.apply(np.mean))"
   ]
  },
  {
   "cell_type": "code",
   "execution_count": null,
   "metadata": {},
   "outputs": [],
   "source": []
  }
 ],
 "metadata": {
  "kernelspec": {
   "display_name": "Python 3",
   "language": "python",
   "name": "python3"
  },
  "language_info": {
   "codemirror_mode": {
    "name": "ipython",
    "version": 3
   },
   "file_extension": ".py",
   "mimetype": "text/x-python",
   "name": "python",
   "nbconvert_exporter": "python",
   "pygments_lexer": "ipython3",
   "version": "3.8.3"
  }
 },
 "nbformat": 4,
 "nbformat_minor": 4
}
