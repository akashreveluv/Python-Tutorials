{
 "cells": [
  {
   "cell_type": "markdown",
   "metadata": {},
   "source": [
    "# .loc()\n",
    "Pandas provide various methods to have purely label based indexing. When slicing, the start bound is also included. Integers are valid labels, but they refer to the label and not the position.\n",
    "\n",
    ".loc() has multiple access methods like −\n",
    "\n",
    "A single scalar label\n",
    "\n",
    "A list of labels\n",
    "\n",
    "A slice object\n",
    "\n",
    "A Boolean array\n",
    "\n",
    "loc takes two single/list/range operator separated by ','. The first one indicates the row and the second one indicates columns."
   ]
  },
  {
   "cell_type": "code",
   "execution_count": 4,
   "metadata": {},
   "outputs": [
    {
     "name": "stdout",
     "output_type": "stream",
     "text": [
      "          A         B         C         D\n",
      "a  1.096278 -1.647415 -0.251057  1.954675\n",
      "b -0.580774  0.395721  0.393233 -1.973930\n",
      "c  1.410728 -0.240370 -1.214701 -0.172524\n",
      "d -0.628234 -1.880941 -1.412224  1.118922\n",
      "e -0.158342  0.878600 -0.241386  1.936614\n",
      "f -0.836674 -0.688087  1.004928 -0.356123\n",
      "g  0.438677  1.502420 -0.664426  1.164653\n",
      "h  1.953061  0.461443  2.655314  0.224409\n",
      "a    1.096278\n",
      "b   -0.580774\n",
      "c    1.410728\n",
      "d   -0.628234\n",
      "e   -0.158342\n",
      "f   -0.836674\n",
      "g    0.438677\n",
      "h    1.953061\n",
      "Name: A, dtype: float64\n"
     ]
    }
   ],
   "source": [
    "#import the pandas library and aliasing as pd\n",
    "import pandas as pd\n",
    "import numpy as np\n",
    "\n",
    "df = pd.DataFrame(np.random.randn(8, 4), index = ['a','b','c','d','e','f','g','h'], columns = ['A', 'B', 'C', 'D'])\n",
    "print(df)\n",
    "\n",
    "#select all rows for a specific column\n",
    "print(df.loc[:,'A'])"
   ]
  },
  {
   "cell_type": "code",
   "execution_count": 5,
   "metadata": {},
   "outputs": [
    {
     "name": "stdout",
     "output_type": "stream",
     "text": [
      "          A         B         C         D\n",
      "a  1.753347  0.548918  0.221170 -0.469401\n",
      "b  0.126962  1.269080  0.193590 -0.528623\n",
      "c -0.155304  0.078160 -0.825097  1.122959\n",
      "d  1.971200 -2.889288 -1.551213 -0.717457\n",
      "e  0.774243 -0.060985  1.511442  0.784624\n",
      "f  1.380526  0.073035 -0.027343  0.071038\n",
      "g -0.981993 -0.686952 -0.564366 -1.600899\n",
      "h  0.555015 -0.332697  1.016569 -0.081587\n",
      "          A         C\n",
      "a  1.753347  0.221170\n",
      "b  0.126962  0.193590\n",
      "c -0.155304 -0.825097\n",
      "d  1.971200 -1.551213\n",
      "e  0.774243  1.511442\n",
      "f  1.380526 -0.027343\n",
      "g -0.981993 -0.564366\n",
      "h  0.555015  1.016569\n"
     ]
    }
   ],
   "source": [
    "# import the pandas library and aliasing as pd\n",
    "import pandas as pd\n",
    "import numpy as np\n",
    "\n",
    "df = pd.DataFrame(np.random.randn(8, 4),\n",
    "index = ['a','b','c','d','e','f','g','h'], columns = ['A', 'B', 'C', 'D'])\n",
    "print(df)\n",
    "\n",
    "# Select all rows for multiple columns, say list[]\n",
    "print(df.loc[:,['A','C']])"
   ]
  },
  {
   "cell_type": "code",
   "execution_count": 6,
   "metadata": {},
   "outputs": [
    {
     "name": "stdout",
     "output_type": "stream",
     "text": [
      "          A         B         C         D\n",
      "a  1.832813  0.180657 -0.284105  0.305496\n",
      "b -1.445140 -1.382291 -1.590597 -0.317220\n",
      "c -0.853815 -0.814720 -0.705065  1.973263\n",
      "d  0.635805  0.206310 -0.462340 -2.090601\n",
      "e  0.043988  1.746199 -0.321536  0.618607\n",
      "f -1.535004  0.582930 -0.435163 -0.031373\n",
      "g  0.814033 -0.458521  0.600361 -2.901787\n",
      "h  1.285314  0.974239  0.350725  0.102968\n",
      "          A         C\n",
      "a  1.832813 -0.284105\n",
      "b -1.445140 -1.590597\n",
      "f -1.535004 -0.435163\n",
      "h  1.285314  0.350725\n"
     ]
    }
   ],
   "source": [
    "# import the pandas library and aliasing as pd\n",
    "import pandas as pd\n",
    "import numpy as np\n",
    "\n",
    "df = pd.DataFrame(np.random.randn(8, 4),\n",
    "index = ['a','b','c','d','e','f','g','h'], columns = ['A', 'B', 'C', 'D'])\n",
    "print(df)\n",
    "\n",
    "# Select few rows for multiple columns, say list[]\n",
    "print(df.loc[['a','b','f','h'],['A','C']])"
   ]
  },
  {
   "cell_type": "code",
   "execution_count": 9,
   "metadata": {},
   "outputs": [
    {
     "name": "stdout",
     "output_type": "stream",
     "text": [
      "          A         B         C         D\n",
      "a -0.563802 -0.415113 -0.162519 -0.507117\n",
      "b  1.587827 -0.593185 -0.362173  1.138198\n",
      "c -0.469905 -1.217095  1.155412  1.597632\n",
      "d -1.218572  0.827482  0.410244 -0.496775\n",
      "e  2.084680  0.610526 -1.146113 -0.726076\n",
      "f  2.675339  0.296635  0.168502 -1.587805\n",
      "g -0.473146  0.886598  0.281522  0.715216\n",
      "h -0.704196 -1.208114  0.872015 -2.034957\n",
      "          A         B         C         D\n",
      "a -0.563802 -0.415113 -0.162519 -0.507117\n",
      "b  1.587827 -0.593185 -0.362173  1.138198\n",
      "c -0.469905 -1.217095  1.155412  1.597632\n",
      "d -1.218572  0.827482  0.410244 -0.496775\n"
     ]
    }
   ],
   "source": [
    "# import the pandas library and aliasing as pd\n",
    "import pandas as pd\n",
    "import numpy as np\n",
    "\n",
    "df = pd.DataFrame(np.random.randn(8, 4), index = ['a','b','c','d','e','f','g','h'], columns = ['A', 'B', 'C', 'D'])\n",
    "print(df)\n",
    "\n",
    "# Select range of rows for all columns\n",
    "print(df.loc['a':'d'])"
   ]
  },
  {
   "cell_type": "code",
   "execution_count": 11,
   "metadata": {},
   "outputs": [
    {
     "name": "stdout",
     "output_type": "stream",
     "text": [
      "          A         B         C         D\n",
      "a  1.015093 -0.895725  3.193281 -0.578019\n",
      "b  0.673328 -0.113202  0.992497 -0.196117\n",
      "c -1.056500  0.868540  1.975858 -0.408475\n",
      "d  0.752579  1.684633 -0.349043 -1.266912\n",
      "e -0.412426 -0.930945  0.926463  0.131171\n",
      "f -0.485452  0.808752 -0.693638 -0.924010\n",
      "g -0.081315 -0.798329 -0.079063 -0.110479\n",
      "h  2.036262 -1.544525 -1.034428 -0.636214\n",
      "A     True\n",
      "B    False\n",
      "C     True\n",
      "D    False\n",
      "Name: a, dtype: bool\n"
     ]
    }
   ],
   "source": [
    "# import the pandas library and aliasing as pd\n",
    "import pandas as pd\n",
    "import numpy as np\n",
    "\n",
    "df = pd.DataFrame(np.random.randn(8, 4), index = ['a','b','c','d','e','f','g','h'], columns = ['A', 'B', 'C', 'D'])\n",
    "print(df)\n",
    "\n",
    "# for getting values with a boolean array\n",
    "print(df.loc['a']>0)"
   ]
  },
  {
   "cell_type": "markdown",
   "metadata": {},
   "source": [
    "# .iloc()\n",
    "Pandas provide various methods in order to get purely integer based indexing. Like python and numpy, these are 0-based indexing.\n",
    "\n",
    "The various access methods are as follows −\n",
    "\n",
    "An Integer\n",
    "\n",
    "A list of integers\n",
    "\n",
    "A range of values"
   ]
  },
  {
   "cell_type": "code",
   "execution_count": 12,
   "metadata": {},
   "outputs": [
    {
     "name": "stdout",
     "output_type": "stream",
     "text": [
      "          A         B         C         D\n",
      "0  0.268583 -0.548744  0.407880 -1.623845\n",
      "1 -0.225715 -0.121146  0.565861 -0.401561\n",
      "2 -1.365244  1.017681 -0.931980 -1.468910\n",
      "3 -0.734514  0.064865  0.730856 -0.018607\n",
      "4 -1.984188 -0.025511 -0.635995  1.278972\n",
      "5 -0.870295  1.649157  0.459523  0.596338\n",
      "6  0.396406  0.267798 -1.074098  1.146011\n",
      "7  1.331481 -1.362131 -0.578477  2.793404\n",
      "          A         B         C         D\n",
      "0  0.268583 -0.548744  0.407880 -1.623845\n",
      "1 -0.225715 -0.121146  0.565861 -0.401561\n",
      "2 -1.365244  1.017681 -0.931980 -1.468910\n",
      "3 -0.734514  0.064865  0.730856 -0.018607\n"
     ]
    }
   ],
   "source": [
    "# import the pandas library and aliasing as pd\n",
    "import pandas as pd\n",
    "import numpy as np\n",
    "\n",
    "df = pd.DataFrame(np.random.randn(8, 4), columns = ['A', 'B', 'C', 'D'])\n",
    "print(df)\n",
    "\n",
    "# select all rows for a specific column\n",
    "print(df.iloc[:4])"
   ]
  },
  {
   "cell_type": "code",
   "execution_count": 13,
   "metadata": {},
   "outputs": [
    {
     "name": "stdout",
     "output_type": "stream",
     "text": [
      "          A         B         C         D\n",
      "0  2.034693  0.347546  1.181646  0.946756\n",
      "1  1.580094  1.467627  0.007093  0.349166\n",
      "2  0.468708 -1.094926 -0.298761 -0.855611\n",
      "3 -0.355183 -0.764617 -1.357742  0.643384\n",
      "4  0.154332  0.544894  1.222597  1.682360\n",
      "5 -0.585404  0.876634 -0.881914  0.419987\n",
      "6  0.154115 -0.309241 -0.539036 -0.903217\n",
      "7  0.316781 -1.202801  0.714396 -2.130788\n",
      "          A         B         C         D\n",
      "0  2.034693  0.347546  1.181646  0.946756\n",
      "1  1.580094  1.467627  0.007093  0.349166\n",
      "2  0.468708 -1.094926 -0.298761 -0.855611\n",
      "3 -0.355183 -0.764617 -1.357742  0.643384\n",
      "          C         D\n",
      "1  0.007093  0.349166\n",
      "2 -0.298761 -0.855611\n",
      "3 -1.357742  0.643384\n",
      "4  1.222597  1.682360\n"
     ]
    }
   ],
   "source": [
    "import pandas as pd\n",
    "import numpy as np\n",
    "\n",
    "df = pd.DataFrame(np.random.randn(8, 4), columns = ['A', 'B', 'C', 'D'])\n",
    "print(df)\n",
    "\n",
    "# Integer slicing\n",
    "print(df.iloc[:4])\n",
    "print(df.iloc[1:5, 2:4])"
   ]
  },
  {
   "cell_type": "code",
   "execution_count": 14,
   "metadata": {},
   "outputs": [
    {
     "name": "stdout",
     "output_type": "stream",
     "text": [
      "          A         B         C         D\n",
      "0 -0.621386 -0.678477 -2.101714 -1.930692\n",
      "1  0.701737  0.829515 -0.235221 -0.228226\n",
      "2 -0.132358 -0.695124 -0.557506 -0.615735\n",
      "3  0.343472 -1.435389 -0.589702 -0.665028\n",
      "4  2.133530 -0.528777 -1.087123 -0.157017\n",
      "5 -0.750968  0.625724  1.195847  0.023428\n",
      "6  0.234251 -0.048307  0.779209 -0.794262\n",
      "7 -0.998000  0.450051 -1.702466  1.806221\n",
      "          B         D\n",
      "1  0.829515 -0.228226\n",
      "3 -1.435389 -0.665028\n",
      "5  0.625724  0.023428\n",
      "          A         B         C         D\n",
      "1  0.701737  0.829515 -0.235221 -0.228226\n",
      "2 -0.132358 -0.695124 -0.557506 -0.615735\n",
      "          B         C\n",
      "0 -0.678477 -2.101714\n",
      "1  0.829515 -0.235221\n",
      "2 -0.695124 -0.557506\n",
      "3 -1.435389 -0.589702\n",
      "4 -0.528777 -1.087123\n",
      "5  0.625724  1.195847\n",
      "6 -0.048307  0.779209\n",
      "7  0.450051 -1.702466\n"
     ]
    }
   ],
   "source": [
    "import pandas as pd\n",
    "import numpy as np\n",
    "\n",
    "df = pd.DataFrame(np.random.randn(8, 4), columns = ['A', 'B', 'C', 'D'])\n",
    "print(df)\n",
    "\n",
    "# Slicing through list of values\n",
    "print(df.iloc[[1, 3, 5], [1, 3]])\n",
    "print(df.iloc[1:3, :])\n",
    "print(df.iloc[:,1:3])"
   ]
  },
  {
   "cell_type": "markdown",
   "metadata": {},
   "source": [
    "# Let us now see how each operation can be performed on the DataFrame object. We will use the basic indexing operator '[ ]' −"
   ]
  },
  {
   "cell_type": "code",
   "execution_count": 22,
   "metadata": {},
   "outputs": [
    {
     "name": "stdout",
     "output_type": "stream",
     "text": [
      "0   -0.189627\n",
      "1    0.973172\n",
      "2    0.753107\n",
      "3    0.026381\n",
      "4   -0.649309\n",
      "5   -0.385841\n",
      "6    1.376621\n",
      "7    0.120143\n",
      "Name: A, dtype: float64\n"
     ]
    }
   ],
   "source": [
    "import pandas as pd\n",
    "import numpy as np\n",
    "\n",
    "df = pd.DataFrame(np.random.randn(8, 4), columns = ['A', 'B', 'C', 'D'])\n",
    "\n",
    "# Integer slicing\n",
    "print(df['A'])\n",
    "\n",
    "# Note − We can pass a list of values to [ ] to select those columns."
   ]
  },
  {
   "cell_type": "code",
   "execution_count": 23,
   "metadata": {},
   "outputs": [
    {
     "name": "stdout",
     "output_type": "stream",
     "text": [
      "          A         B\n",
      "0 -0.009118  1.375696\n",
      "1 -0.240983  0.094958\n",
      "2  1.010420  0.740407\n",
      "3  0.698165 -0.996659\n",
      "4 -1.600820 -1.896138\n",
      "5  1.197526  1.644210\n",
      "6 -0.148386  0.506974\n",
      "7  0.648166  0.304064\n"
     ]
    }
   ],
   "source": [
    "import pandas as pd\n",
    "import numpy as np\n",
    "df = pd.DataFrame(np.random.randn(8, 4), columns = ['A', 'B', 'C', 'D'])\n",
    "\n",
    "print(df[['A','B']])"
   ]
  },
  {
   "cell_type": "markdown",
   "metadata": {},
   "source": [
    "# Attribute Access\n",
    "Columns can be selected using the attribute operator '.'"
   ]
  },
  {
   "cell_type": "code",
   "execution_count": 25,
   "metadata": {},
   "outputs": [
    {
     "name": "stdout",
     "output_type": "stream",
     "text": [
      "0   -1.462288\n",
      "1    0.318190\n",
      "2   -0.967824\n",
      "3   -1.626723\n",
      "4   -0.281840\n",
      "5    0.124161\n",
      "6   -0.287092\n",
      "7   -0.102288\n",
      "Name: A, dtype: float64\n"
     ]
    }
   ],
   "source": [
    "import pandas as pd\n",
    "import numpy as np\n",
    "df = pd.DataFrame(np.random.randn(8, 4), columns = ['A', 'B', 'C', 'D'])\n",
    "\n",
    "print(df.A)"
   ]
  },
  {
   "cell_type": "code",
   "execution_count": null,
   "metadata": {},
   "outputs": [],
   "source": []
  }
 ],
 "metadata": {
  "kernelspec": {
   "display_name": "Python 3",
   "language": "python",
   "name": "python3"
  },
  "language_info": {
   "codemirror_mode": {
    "name": "ipython",
    "version": 3
   },
   "file_extension": ".py",
   "mimetype": "text/x-python",
   "name": "python",
   "nbconvert_exporter": "python",
   "pygments_lexer": "ipython3",
   "version": "3.8.3"
  }
 },
 "nbformat": 4,
 "nbformat_minor": 4
}
