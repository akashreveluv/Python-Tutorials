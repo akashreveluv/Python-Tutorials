{
 "cells": [
  {
   "cell_type": "markdown",
   "metadata": {},
   "source": [
    "Since many potential Pandas users have some familiarity with SQL, this page is meant to provide some examples of how various SQL operations can be performed using pandas."
   ]
  },
  {
   "cell_type": "code",
   "execution_count": 10,
   "metadata": {},
   "outputs": [
    {
     "name": "stdout",
     "output_type": "stream",
     "text": [
      "   S.No    Name  Age       City  Salary\n",
      "0     1     Tom   28    Toronto   20000\n",
      "1     2     Lee   32   HongKong    3000\n",
      "2     3  Steven   43   Bay Area    8300\n",
      "3     4     Ram   38  Hyderabad    3900\n",
      "4     5   Akash   26    Kolkata    1900\n",
      "5     6   Abhra   24    Vellore    2500\n",
      "6     7    Amit   30  New Delhi    2900\n",
      "7     8     Dev   28     Mumbai    2300\n",
      "8     9    John   31  Bangalore    4900\n",
      "9    10   James   23    Gurgaon    2400\n",
      "   S.No    Name  Age       City  Salary\n",
      "0     1     Tom   28    Toronto   20000\n",
      "1     2     Lee   32   HongKong    3000\n",
      "2     3  Steven   43   Bay Area    8300\n",
      "3     4     Ram   38  Hyderabad    3900\n",
      "4     5   Akash   26    Kolkata    1900\n"
     ]
    }
   ],
   "source": [
    "import pandas as pd\n",
    "\n",
    "url = 'temp.csv'\n",
    "\n",
    "tips = pd.read_csv(url)\n",
    "print(tips)\n",
    "print(tips.head())"
   ]
  },
  {
   "cell_type": "markdown",
   "metadata": {},
   "source": [
    "# SELECT\n",
    "In SQL, selection is done using a comma-separated list of columns that you select (or a * to select all columns) −\n",
    "\n",
    "SELECT S.No, Name, Age, City, Salary\n",
    "FROM tips\n",
    "LIMIT 5;\n",
    "\n",
    "With Pandas, column selection is done by passing a list of column names to your DataFrame −\n",
    "\n",
    "tips[['S.No', 'Name', 'Age', 'City', 'Salary']].head(5)"
   ]
  },
  {
   "cell_type": "code",
   "execution_count": 6,
   "metadata": {},
   "outputs": [
    {
     "name": "stdout",
     "output_type": "stream",
     "text": [
      "   S.No    Name  Age       City  Salary\n",
      "0     1     Tom   28    Toronto   20000\n",
      "1     2     Lee   32   HongKong    3000\n",
      "2     3  Steven   43   Bay Area    8300\n",
      "3     4     Ram   38  Hyderabad    3900\n",
      "4     5   Akash   26    Kolkata    1900\n"
     ]
    }
   ],
   "source": [
    "import pandas as pd\n",
    "\n",
    "url = 'temp.csv'\n",
    " \n",
    "tips = pd.read_csv(url)\n",
    "print(tips[['S.No', 'Name', 'Age', 'City', 'Salary']].head(5))"
   ]
  },
  {
   "cell_type": "markdown",
   "metadata": {},
   "source": [
    "# WHERE\n",
    "Filtering in SQL is done via a WHERE clause.\n",
    "\n",
    "SELECT * FROM tips WHERE Name = 'Akash' LIMIT 5;\n",
    " \n",
    "DataFrames can be filtered in multiple ways; the most intuitive of which is using Boolean indexing.\n",
    "\n",
    "tips[tips['Name'] == 'Akash'].head(5)"
   ]
  },
  {
   "cell_type": "code",
   "execution_count": 7,
   "metadata": {},
   "outputs": [
    {
     "name": "stdout",
     "output_type": "stream",
     "text": [
      "   S.No   Name  Age     City  Salary\n",
      "4     5  Akash   26  Kolkata    1900\n"
     ]
    }
   ],
   "source": [
    "import pandas as pd\n",
    "\n",
    "url = 'temp.csv'\n",
    "\n",
    "tips = pd.read_csv(url)\n",
    "print(tips[tips['Name'] == 'Akash'].head(5))"
   ]
  },
  {
   "cell_type": "markdown",
   "metadata": {},
   "source": [
    "# GroupBy\n",
    "This operation fetches the count of records in each group throughout a dataset. For instance, a query fetching us the number of tips left by sex −\n",
    "\n",
    "SELECT Age, count(*)\n",
    "FROM tips\n",
    "GROUP BY Age;\n",
    "\n",
    "The Pandas equivalent would be −\n",
    "\n",
    "tips.groupby('Age').size()"
   ]
  },
  {
   "cell_type": "code",
   "execution_count": 11,
   "metadata": {},
   "outputs": [
    {
     "name": "stdout",
     "output_type": "stream",
     "text": [
      "Age\n",
      "23    1\n",
      "24    1\n",
      "26    1\n",
      "28    2\n",
      "30    1\n",
      "31    1\n",
      "32    1\n",
      "38    1\n",
      "43    1\n",
      "dtype: int64\n"
     ]
    }
   ],
   "source": [
    "import pandas as pd\n",
    "\n",
    "url = 'temp.csv'\n",
    "\n",
    "tips = pd.read_csv(url)\n",
    "print(tips.groupby('Age').size())"
   ]
  },
  {
   "cell_type": "markdown",
   "metadata": {},
   "source": [
    "# Top N rows\n",
    "SQL returns the top n rows using LIMIT −\n",
    "\n",
    "SELECT * FROM tips\n",
    "LIMIT 5 ;\n",
    "\n",
    "The Pandas equivalent would be −\n",
    "\n",
    "tips.head(5)"
   ]
  },
  {
   "cell_type": "code",
   "execution_count": 12,
   "metadata": {},
   "outputs": [
    {
     "name": "stdout",
     "output_type": "stream",
     "text": [
      "     Name  Age       City\n",
      "0     Tom   28    Toronto\n",
      "1     Lee   32   HongKong\n",
      "2  Steven   43   Bay Area\n",
      "3     Ram   38  Hyderabad\n",
      "4   Akash   26    Kolkata\n"
     ]
    }
   ],
   "source": [
    "import pandas as pd\n",
    "\n",
    "url = 'temp.csv'\n",
    "\n",
    "tips = pd.read_csv(url)\n",
    "tips = tips[['Name', 'Age', 'City']].head(5)\n",
    "print(tips)"
   ]
  },
  {
   "cell_type": "code",
   "execution_count": null,
   "metadata": {},
   "outputs": [],
   "source": []
  }
 ],
 "metadata": {
  "kernelspec": {
   "display_name": "Python 3",
   "language": "python",
   "name": "python3"
  },
  "language_info": {
   "codemirror_mode": {
    "name": "ipython",
    "version": 3
   },
   "file_extension": ".py",
   "mimetype": "text/x-python",
   "name": "python",
   "nbconvert_exporter": "python",
   "pygments_lexer": "ipython3",
   "version": "3.8.3"
  }
 },
 "nbformat": 4,
 "nbformat_minor": 4
}
